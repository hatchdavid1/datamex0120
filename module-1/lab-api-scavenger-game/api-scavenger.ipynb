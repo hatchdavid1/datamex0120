{
 "cells": [
  {
   "cell_type": "code",
   "execution_count": 11,
   "metadata": {},
   "outputs": [],
   "source": [
    "import pandas as pd\n",
    "import json\n",
    "import requests\n",
    "from pandas.io.json import json_normalize"
   ]
  },
  {
   "cell_type": "code",
   "execution_count": null,
   "metadata": {},
   "outputs": [],
   "source": [
    "with open('token.txt', 'r') as f:\n",
    "    acceso=f.readlines()[0]\n",
    "user=acceso[0]"
   ]
  },
  {
   "cell_type": "code",
   "execution_count": 32,
   "metadata": {},
   "outputs": [],
   "source": [
    "url = 'https://api.github.com/repos/ironhack-datalabs/datamex0120/forks'"
   ]
  },
  {
   "cell_type": "code",
   "execution_count": 56,
   "metadata": {},
   "outputs": [],
   "source": [
    "response = requests.get(url)\n",
    "results = response.json()\n",
    "data = pd.DataFrame(results)"
   ]
  },
  {
   "cell_type": "code",
   "execution_count": 59,
   "metadata": {},
   "outputs": [
    {
     "name": "stdout",
     "output_type": "stream",
     "text": [
      "12\n"
     ]
    }
   ],
   "source": [
    "j = []\n",
    "for i in data['forks']:\n",
    "    y = data['forks'][i]\n",
    "    if y ==0:\n",
    "        j.append(1)\n",
    "    elif y >0:\n",
    "        j.append(y+1)\n",
    "print(sum(j))"
   ]
  },
  {
   "cell_type": "code",
   "execution_count": 60,
   "metadata": {},
   "outputs": [],
   "source": [
    "get_commits = 'https://api.github.com/repos/ironhack-datalabs/datamex0120/commits'"
   ]
  },
  {
   "cell_type": "code",
   "execution_count": 61,
   "metadata": {},
   "outputs": [],
   "source": [
    "#get_forks = 'https://api.github.com/repos/'repo'/forks'\n",
    "response = requests.get(get_commits)\n",
    "results = response.json()\n",
    "data = pd.DataFrame(results)"
   ]
  },
  {
   "cell_type": "code",
   "execution_count": 63,
   "metadata": {},
   "outputs": [
    {
     "data": {
      "text/plain": [
       "0    {'author': {'name': 'YonatanRA', 'email': 'yeh...\n",
       "Name: commit, dtype: object"
      ]
     },
     "execution_count": 63,
     "metadata": {},
     "output_type": "execute_result"
    }
   ],
   "source": [
    "data['commit']"
   ]
  },
  {
   "cell_type": "code",
   "execution_count": 73,
   "metadata": {},
   "outputs": [],
   "source": [
    "scavenger = 'https://api.github.com/repos/ironhack-datalabs/scavenger/contents'"
   ]
  },
  {
   "cell_type": "code",
   "execution_count": 132,
   "metadata": {},
   "outputs": [],
   "source": [
    "response = requests.get(scavenger)\n",
    "results = response.json()\n",
    "data = pd.DataFrame(results)\n",
    "#data['url']"
   ]
  },
  {
   "cell_type": "code",
   "execution_count": 187,
   "metadata": {},
   "outputs": [
    {
     "data": {
      "text/plain": [
       "'https://api.github.com/repos/ironhack-datalabs/scavenger/contents/15534?ref=master'"
      ]
     },
     "execution_count": 187,
     "metadata": {},
     "output_type": "execute_result"
    }
   ],
   "source": [
    "req = []\n",
    "for i in range(26):\n",
    "    j = data['url'][i]\n",
    "    req.append(j)  \n",
    "req[2]"
   ]
  },
  {
   "cell_type": "code",
   "execution_count": 191,
   "metadata": {},
   "outputs": [],
   "source": [
    "x = []\n",
    "for i in range(26) :\n",
    "    response = requests.get(req[i])\n",
    "    x.append(response)"
   ]
  },
  {
   "cell_type": "code",
   "execution_count": 204,
   "metadata": {},
   "outputs": [],
   "source": [
    "w = []\n",
    "for i in range(26):\n",
    "    f = x[i].content\n",
    "    w.append(f)"
   ]
  },
  {
   "cell_type": "code",
   "execution_count": 259,
   "metadata": {},
   "outputs": [],
   "source": [
    "l = [x.decode('UTF8') for x in w]\n",
    "g= []\n",
    "for i in range(26):\n",
    "    k = l[i].split(':')\n",
    "    g.append(k[2])\n",
    "#l[1]\n",
    "#start = '[40:]'\n",
    "#end = '[:64]'\n",
    "#'https://github.com/ironhack-datalabs/scavenger/blob/master/''\n",
    "#for i in range(26):\n",
    " #   g.replace(r')"
   ]
  },
  {
   "cell_type": "code",
   "execution_count": 286,
   "metadata": {},
   "outputs": [],
   "source": [
    "final = []\n",
    "for i in range(1,26):\n",
    "    e = g[i][:26]\n",
    "    final.append(e)"
   ]
  },
  {
   "cell_type": "code",
   "execution_count": 287,
   "metadata": {},
   "outputs": [
    {
     "data": {
      "text/plain": [
       "['\"15024/.0006.scavengerhunt',\n",
       " '\"15534/.0008.scavengerhunt',\n",
       " '\"17020/.0007.scavengerhunt',\n",
       " '\"30351/.0021.scavengerhunt',\n",
       " '\"40303/.0022.scavengerhunt',\n",
       " '\"44639/.0005.scavengerhunt',\n",
       " '\"45525/.0018.scavengerhunt',\n",
       " '\"47222/.0016.scavengerhunt',\n",
       " '\"47830/.0010.scavengerhunt',\n",
       " '\"49418/.0014.scavengerhunt',\n",
       " '\"50896/.0011.scavengerhunt',\n",
       " '\"55417/.0023.scavengerhunt',\n",
       " '\"55685/.0020.scavengerhunt',\n",
       " '\"60224/.0003.scavengerhunt',\n",
       " '\"64880/3\",\"sha\"',\n",
       " '\"66032/28\",\"sha\"',\n",
       " '\"68848/.0004.scavengerhunt',\n",
       " '\"70751/.0019.scavengerhunt',\n",
       " '\"70985/.0017.scavengerhunt',\n",
       " '\"88596/.0002.scavengerhunt',\n",
       " '\"89046/64\",\"sha\"',\n",
       " '\"89338/.0013.scavengerhunt',\n",
       " '\"91701/.0015.scavengerhunt',\n",
       " '\"97881/.0009.scavengerhunt',\n",
       " '\"98750/.0001.scavengerhunt']"
      ]
     },
     "execution_count": 287,
     "metadata": {},
     "output_type": "execute_result"
    }
   ],
   "source": [
    "final"
   ]
  },
  {
   "cell_type": "code",
   "execution_count": 288,
   "metadata": {},
   "outputs": [],
   "source": [
    "url = ['https://github.com/ironhack-datalabs/scavenger/blob/master/{}'.format(e) for e in final]"
   ]
  },
  {
   "cell_type": "code",
   "execution_count": 296,
   "metadata": {},
   "outputs": [
    {
     "data": {
      "text/plain": [
       "['https://github.com/ironhack-datalabs/scavenger/blob/master/98750/.0001.scavengerhunt',\n",
       " 'https://github.com/ironhack-datalabs/scavenger/blob/master/88596/.0002.scavengerhunt',\n",
       " 'https://github.com/ironhack-datalabs/scavenger/blob/master/60224/.0003.scavengerhunt',\n",
       " 'https://github.com/ironhack-datalabs/scavenger/blob/master/68848/.0004.scavengerhunt',\n",
       " 'https://github.com/ironhack-datalabs/scavenger/blob/master/44639/.0005.scavengerhunt',\n",
       " 'https://github.com/ironhack-datalabs/scavenger/blob/master/15024/.0006.scavengerhunt',\n",
       " 'https://github.com/ironhack-datalabs/scavenger/blob/master/17020/.0007.scavengerhunt',\n",
       " 'https://github.com/ironhack-datalabs/scavenger/blob/master/15534/.0008.scavengerhunt',\n",
       " 'https://github.com/ironhack-datalabs/scavenger/blob/master/97881/.0009.scavengerhunt',\n",
       " 'https://github.com/ironhack-datalabs/scavenger/blob/master/49418/.0014.scavengerhunt',\n",
       " 'https://github.com/ironhack-datalabs/scavenger/blob/master/50896/.0011.scavengerhunt',\n",
       " 'https://github.com/ironhack-datalabs/scavenger/blob/master/15534/.0012.scavengerhunt',\n",
       " 'https://github.com/ironhack-datalabs/scavenger/blob/master/89338/.0013.scavengerhunt',\n",
       " 'https://github.com/ironhack-datalabs/scavenger/blob/master/49418/.0014.scavengerhunt',\n",
       " 'https://github.com/ironhack-datalabs/scavenger/blob/master/91701/.0015.scavengerhunt',\n",
       " 'https://github.com/ironhack-datalabs/scavenger/blob/master/47222/.0016.scavengerhunt',\n",
       " 'https://github.com/ironhack-datalabs/scavenger/blob/master/70985/.0017.scavengerhunt',\n",
       " 'https://github.com/ironhack-datalabs/scavenger/blob/master/45525/.0018.scavengerhunt',\n",
       " 'https://github.com/ironhack-datalabs/scavenger/blob/master/70751/.0019.scavengerhunt',\n",
       " 'https://github.com/ironhack-datalabs/scavenger/blob/master/55685/.0020.scavengerhunt',\n",
       " 'https://github.com/ironhack-datalabs/scavenger/blob/master/30351/.0021.scavengerhunt',\n",
       " 'https://github.com/ironhack-datalabs/scavenger/blob/master/40303/.0022.scavengerhunt',\n",
       " 'https://github.com/ironhack-datalabs/scavenger/blob/master/55417/.0023.scavengerhunt',\n",
       " 'https://github.com/ironhack-datalabs/scavenger/tree/master/47222/.0024.scavengerhunt']"
      ]
     },
     "execution_count": 296,
     "metadata": {},
     "output_type": "execute_result"
    }
   ],
   "source": [
    "url"
   ]
  },
  {
   "cell_type": "code",
   "execution_count": 298,
   "metadata": {},
   "outputs": [],
   "source": [
    "lst=[requests.get(e).text for e in url]\n",
    "' '.join(lst)"
   ]
  },
  {
   "cell_type": "code",
   "execution_count": null,
   "metadata": {},
   "outputs": [],
   "source": []
  }
 ],
 "metadata": {
  "kernelspec": {
   "display_name": "Python 3",
   "language": "python",
   "name": "python3"
  },
  "language_info": {
   "codemirror_mode": {
    "name": "ipython",
    "version": 3
   },
   "file_extension": ".py",
   "mimetype": "text/x-python",
   "name": "python",
   "nbconvert_exporter": "python",
   "pygments_lexer": "ipython3",
   "version": "3.7.4"
  }
 },
 "nbformat": 4,
 "nbformat_minor": 2
}
