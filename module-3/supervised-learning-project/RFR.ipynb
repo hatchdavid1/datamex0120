{
 "cells": [
  {
   "cell_type": "markdown",
   "metadata": {},
   "source": [
    "# Kaggle Competition"
   ]
  },
  {
   "cell_type": "code",
   "execution_count": 1,
   "metadata": {},
   "outputs": [],
   "source": [
    "## Libraries \n",
    "import pandas as pd \n",
    "import numpy as np\n",
    "from sklearn.model_selection import train_test_split as tts\n",
    "from sklearn.ensemble import RandomForestRegressor as RFR\n",
    "from sklearn.tree import ExtraTreeRegressor as ETR\n",
    "from sklearn.ensemble import GradientBoostingRegressor as GBR\n",
    "from sklearn.linear_model import LinearRegression as LR\n",
    "from mlxtend.regressor import StackingRegressor\n",
    "from sklearn.tree import DecisionTreeRegressor as DTR\n",
    "from sklearn.naive_bayes import MultinomialNB as MNB\n",
    "from sklearn.linear_model import SGDRegressor as SGDR\n",
    "from sklearn.naive_bayes import GaussianNB \n",
    "from sklearn.naive_bayes import ComplementNB as CNB\n",
    "from sklearn.naive_bayes import BernoulliNB as BNB\n",
    "from sklearn.linear_model import Ridge\n",
    "from sklearn.metrics import mean_squared_error as mse"
   ]
  },
  {
   "cell_type": "markdown",
   "metadata": {},
   "source": [
    "# Loading & Cleaning Data"
   ]
  },
  {
   "cell_type": "code",
   "execution_count": 2,
   "metadata": {},
   "outputs": [
    {
     "data": {
      "text/html": [
       "<div>\n",
       "<style scoped>\n",
       "    .dataframe tbody tr th:only-of-type {\n",
       "        vertical-align: middle;\n",
       "    }\n",
       "\n",
       "    .dataframe tbody tr th {\n",
       "        vertical-align: top;\n",
       "    }\n",
       "\n",
       "    .dataframe thead th {\n",
       "        text-align: right;\n",
       "    }\n",
       "</style>\n",
       "<table border=\"1\" class=\"dataframe\">\n",
       "  <thead>\n",
       "    <tr style=\"text-align: right;\">\n",
       "      <th></th>\n",
       "      <th>UNIXTime</th>\n",
       "      <th>Data</th>\n",
       "      <th>Time</th>\n",
       "      <th>Radiation</th>\n",
       "      <th>Temperature</th>\n",
       "      <th>Pressure</th>\n",
       "      <th>Humidity</th>\n",
       "      <th>WindDirection(Degrees)</th>\n",
       "      <th>Speed</th>\n",
       "      <th>TimeSunRise</th>\n",
       "      <th>TimeSunSet</th>\n",
       "    </tr>\n",
       "  </thead>\n",
       "  <tbody>\n",
       "    <tr>\n",
       "      <td>0</td>\n",
       "      <td>1475175023</td>\n",
       "      <td>9/29/2016 12:00:00 AM</td>\n",
       "      <td>08:50:23</td>\n",
       "      <td>634.99</td>\n",
       "      <td>61</td>\n",
       "      <td>30.46</td>\n",
       "      <td>41</td>\n",
       "      <td>14.96</td>\n",
       "      <td>6.75</td>\n",
       "      <td>06:13:00</td>\n",
       "      <td>18:13:00</td>\n",
       "    </tr>\n",
       "    <tr>\n",
       "      <td>1</td>\n",
       "      <td>1481799902</td>\n",
       "      <td>12/15/2016 12:00:00 AM</td>\n",
       "      <td>01:05:02</td>\n",
       "      <td>1.27</td>\n",
       "      <td>37</td>\n",
       "      <td>30.26</td>\n",
       "      <td>70</td>\n",
       "      <td>207.43</td>\n",
       "      <td>5.62</td>\n",
       "      <td>06:50:00</td>\n",
       "      <td>17:46:00</td>\n",
       "    </tr>\n",
       "    <tr>\n",
       "      <td>2</td>\n",
       "      <td>1478339417</td>\n",
       "      <td>11/4/2016 12:00:00 AM</td>\n",
       "      <td>23:50:17</td>\n",
       "      <td>1.21</td>\n",
       "      <td>47</td>\n",
       "      <td>30.49</td>\n",
       "      <td>33</td>\n",
       "      <td>168.20</td>\n",
       "      <td>5.62</td>\n",
       "      <td>06:25:00</td>\n",
       "      <td>17:47:00</td>\n",
       "    </tr>\n",
       "    <tr>\n",
       "      <td>3</td>\n",
       "      <td>1472887208</td>\n",
       "      <td>9/2/2016 12:00:00 AM</td>\n",
       "      <td>21:20:08</td>\n",
       "      <td>1.67</td>\n",
       "      <td>54</td>\n",
       "      <td>30.46</td>\n",
       "      <td>101</td>\n",
       "      <td>152.60</td>\n",
       "      <td>3.37</td>\n",
       "      <td>06:07:00</td>\n",
       "      <td>18:37:00</td>\n",
       "    </tr>\n",
       "    <tr>\n",
       "      <td>4</td>\n",
       "      <td>1478724901</td>\n",
       "      <td>11/9/2016 12:00:00 AM</td>\n",
       "      <td>10:55:01</td>\n",
       "      <td>839.78</td>\n",
       "      <td>62</td>\n",
       "      <td>30.47</td>\n",
       "      <td>36</td>\n",
       "      <td>291.95</td>\n",
       "      <td>7.87</td>\n",
       "      <td>06:28:00</td>\n",
       "      <td>17:45:00</td>\n",
       "    </tr>\n",
       "  </tbody>\n",
       "</table>\n",
       "</div>"
      ],
      "text/plain": [
       "     UNIXTime                    Data      Time  Radiation  Temperature  \\\n",
       "0  1475175023   9/29/2016 12:00:00 AM  08:50:23     634.99           61   \n",
       "1  1481799902  12/15/2016 12:00:00 AM  01:05:02       1.27           37   \n",
       "2  1478339417   11/4/2016 12:00:00 AM  23:50:17       1.21           47   \n",
       "3  1472887208    9/2/2016 12:00:00 AM  21:20:08       1.67           54   \n",
       "4  1478724901   11/9/2016 12:00:00 AM  10:55:01     839.78           62   \n",
       "\n",
       "   Pressure  Humidity  WindDirection(Degrees)  Speed TimeSunRise TimeSunSet  \n",
       "0     30.46        41                   14.96   6.75    06:13:00   18:13:00  \n",
       "1     30.26        70                  207.43   5.62    06:50:00   17:46:00  \n",
       "2     30.49        33                  168.20   5.62    06:25:00   17:47:00  \n",
       "3     30.46       101                  152.60   3.37    06:07:00   18:37:00  \n",
       "4     30.47        36                  291.95   7.87    06:28:00   17:45:00  "
      ]
     },
     "execution_count": 2,
     "metadata": {},
     "output_type": "execute_result"
    }
   ],
   "source": [
    "# Loading Train csv\n",
    "solar_train = pd.read_csv('C:/Users/Data Analyst/Documents/Otros/Competencia Kaggle/solar_train.csv')\n",
    "solar_train.head()"
   ]
  },
  {
   "cell_type": "code",
   "execution_count": 3,
   "metadata": {},
   "outputs": [
    {
     "name": "stdout",
     "output_type": "stream",
     "text": [
      "<class 'pandas.core.frame.DataFrame'>\n",
      "RangeIndex: 24514 entries, 0 to 24513\n",
      "Data columns (total 11 columns):\n",
      "UNIXTime                  24514 non-null int64\n",
      "Data                      24514 non-null object\n",
      "Time                      24514 non-null object\n",
      "Radiation                 24514 non-null float64\n",
      "Temperature               24514 non-null int64\n",
      "Pressure                  24514 non-null float64\n",
      "Humidity                  24514 non-null int64\n",
      "WindDirection(Degrees)    24514 non-null float64\n",
      "Speed                     24514 non-null float64\n",
      "TimeSunRise               24514 non-null object\n",
      "TimeSunSet                24514 non-null object\n",
      "dtypes: float64(4), int64(3), object(4)\n",
      "memory usage: 2.1+ MB\n",
      "UNIXTime                  0\n",
      "Data                      0\n",
      "Time                      0\n",
      "Radiation                 0\n",
      "Temperature               0\n",
      "Pressure                  0\n",
      "Humidity                  0\n",
      "WindDirection(Degrees)    0\n",
      "Speed                     0\n",
      "TimeSunRise               0\n",
      "TimeSunSet                0\n",
      "dtype: int64 None\n"
     ]
    }
   ],
   "source": [
    "# Data info, column type, null count \n",
    "print(solar_train.isna().sum(), solar_train.info())"
   ]
  },
  {
   "cell_type": "code",
   "execution_count": 4,
   "metadata": {},
   "outputs": [],
   "source": [
    "## changing columns from object to datetime\n",
    "import datetime \n",
    "solar_train['Data']=pd.to_datetime(solar_train['Data'],format='%m/%d/%Y %I:%M:%S %p')"
   ]
  },
  {
   "cell_type": "code",
   "execution_count": 5,
   "metadata": {},
   "outputs": [],
   "source": [
    "solar_train.sort_values(by=['Data'], inplace=True, ascending=False)"
   ]
  },
  {
   "cell_type": "code",
   "execution_count": 6,
   "metadata": {},
   "outputs": [
    {
     "data": {
      "text/html": [
       "<div>\n",
       "<style scoped>\n",
       "    .dataframe tbody tr th:only-of-type {\n",
       "        vertical-align: middle;\n",
       "    }\n",
       "\n",
       "    .dataframe tbody tr th {\n",
       "        vertical-align: top;\n",
       "    }\n",
       "\n",
       "    .dataframe thead th {\n",
       "        text-align: right;\n",
       "    }\n",
       "</style>\n",
       "<table border=\"1\" class=\"dataframe\">\n",
       "  <thead>\n",
       "    <tr style=\"text-align: right;\">\n",
       "      <th></th>\n",
       "      <th>Radiation</th>\n",
       "      <th>Temperature</th>\n",
       "      <th>Pressure</th>\n",
       "      <th>Humidity</th>\n",
       "      <th>WindDirection(Degrees)</th>\n",
       "      <th>Speed</th>\n",
       "    </tr>\n",
       "  </thead>\n",
       "  <tbody>\n",
       "    <tr>\n",
       "      <td>count</td>\n",
       "      <td>24514.000000</td>\n",
       "      <td>24514.000000</td>\n",
       "      <td>24514.000000</td>\n",
       "      <td>24514.000000</td>\n",
       "      <td>24514.000000</td>\n",
       "      <td>24514.000000</td>\n",
       "    </tr>\n",
       "    <tr>\n",
       "      <td>mean</td>\n",
       "      <td>208.062687</td>\n",
       "      <td>51.105287</td>\n",
       "      <td>30.422713</td>\n",
       "      <td>75.002284</td>\n",
       "      <td>143.129305</td>\n",
       "      <td>6.248435</td>\n",
       "    </tr>\n",
       "    <tr>\n",
       "      <td>std</td>\n",
       "      <td>316.133238</td>\n",
       "      <td>6.214280</td>\n",
       "      <td>0.054754</td>\n",
       "      <td>25.999994</td>\n",
       "      <td>82.939584</td>\n",
       "      <td>3.482597</td>\n",
       "    </tr>\n",
       "    <tr>\n",
       "      <td>min</td>\n",
       "      <td>1.130000</td>\n",
       "      <td>34.000000</td>\n",
       "      <td>30.190000</td>\n",
       "      <td>11.000000</td>\n",
       "      <td>0.090000</td>\n",
       "      <td>0.000000</td>\n",
       "    </tr>\n",
       "    <tr>\n",
       "      <td>25%</td>\n",
       "      <td>1.230000</td>\n",
       "      <td>46.000000</td>\n",
       "      <td>30.400000</td>\n",
       "      <td>55.000000</td>\n",
       "      <td>81.872500</td>\n",
       "      <td>3.370000</td>\n",
       "    </tr>\n",
       "    <tr>\n",
       "      <td>50%</td>\n",
       "      <td>2.720000</td>\n",
       "      <td>50.000000</td>\n",
       "      <td>30.430000</td>\n",
       "      <td>85.000000</td>\n",
       "      <td>147.585000</td>\n",
       "      <td>5.620000</td>\n",
       "    </tr>\n",
       "    <tr>\n",
       "      <td>75%</td>\n",
       "      <td>359.927500</td>\n",
       "      <td>55.000000</td>\n",
       "      <td>30.460000</td>\n",
       "      <td>97.000000</td>\n",
       "      <td>179.217500</td>\n",
       "      <td>7.870000</td>\n",
       "    </tr>\n",
       "    <tr>\n",
       "      <td>max</td>\n",
       "      <td>1601.260000</td>\n",
       "      <td>71.000000</td>\n",
       "      <td>30.560000</td>\n",
       "      <td>103.000000</td>\n",
       "      <td>359.950000</td>\n",
       "      <td>39.370000</td>\n",
       "    </tr>\n",
       "  </tbody>\n",
       "</table>\n",
       "</div>"
      ],
      "text/plain": [
       "          Radiation   Temperature      Pressure      Humidity  \\\n",
       "count  24514.000000  24514.000000  24514.000000  24514.000000   \n",
       "mean     208.062687     51.105287     30.422713     75.002284   \n",
       "std      316.133238      6.214280      0.054754     25.999994   \n",
       "min        1.130000     34.000000     30.190000     11.000000   \n",
       "25%        1.230000     46.000000     30.400000     55.000000   \n",
       "50%        2.720000     50.000000     30.430000     85.000000   \n",
       "75%      359.927500     55.000000     30.460000     97.000000   \n",
       "max     1601.260000     71.000000     30.560000    103.000000   \n",
       "\n",
       "       WindDirection(Degrees)         Speed  \n",
       "count            24514.000000  24514.000000  \n",
       "mean               143.129305      6.248435  \n",
       "std                 82.939584      3.482597  \n",
       "min                  0.090000      0.000000  \n",
       "25%                 81.872500      3.370000  \n",
       "50%                147.585000      5.620000  \n",
       "75%                179.217500      7.870000  \n",
       "max                359.950000     39.370000  "
      ]
     },
     "execution_count": 6,
     "metadata": {},
     "output_type": "execute_result"
    }
   ],
   "source": [
    "solar_train.drop(columns = ['UNIXTime']).describe()"
   ]
  },
  {
   "cell_type": "markdown",
   "metadata": {},
   "source": [
    "# Analysis & Models with Train Data"
   ]
  },
  {
   "cell_type": "code",
   "execution_count": 92,
   "metadata": {},
   "outputs": [
    {
     "data": {
      "image/png": "[encoded data removed]",
      "text/plain": [
       "<Figure size 576x576 with 1 Axes>"
      ]
     },
     "metadata": {
      "needs_background": "light"
     },
     "output_type": "display_data"
    }
   ],
   "source": [
    "## Searching outliers \n",
    "import matplotlib.pyplot as plt \n",
    "plt.figure(figsize = (8,8))\n",
    "solar_train.boxplot(column = ['Radiation'] )\n",
    "plt.show()"
   ]
  },
  {
   "cell_type": "code",
   "execution_count": 93,
   "metadata": {},
   "outputs": [
    {
     "data": {
      "text/plain": [
       "0"
      ]
     },
     "execution_count": 93,
     "metadata": {},
     "output_type": "execute_result"
    }
   ],
   "source": [
    "## Cleaning outliers \n",
    "q1 = np.percentile(solar_train.Radiation,25)\n",
    "q3 = np.percentile(solar_train.Radiation,75)\n",
    "iqr = q3-q1\n",
    "upper = q3+(3*iqr)\n",
    "lower = q1-(3+iqr)\n",
    "\n",
    "len(solar_train[solar_train.Radiation<lower])"
   ]
  },
  {
   "cell_type": "code",
   "execution_count": 94,
   "metadata": {},
   "outputs": [
    {
     "data": {
      "text/plain": [
       "(10800, 7)"
      ]
     },
     "execution_count": 94,
     "metadata": {},
     "output_type": "execute_result"
    }
   ],
   "source": [
    "solar_train = solar_train[solar_train.Radiation<upper]\n",
    "solar_train.shape"
   ]
  },
  {
   "cell_type": "code",
   "execution_count": 95,
   "metadata": {},
   "outputs": [
    {
     "data": {
      "image/png": "[encoded data removed]",
      "text/plain": [
       "<Figure size 576x576 with 1 Axes>"
      ]
     },
     "metadata": {
      "needs_background": "light"
     },
     "output_type": "display_data"
    }
   ],
   "source": [
    "plt.figure(figsize = (8,8))\n",
    "solar_train.boxplot(column = ['Speed'] )\n",
    "plt.show()"
   ]
  },
  {
   "cell_type": "code",
   "execution_count": 96,
   "metadata": {},
   "outputs": [
    {
     "data": {
      "text/plain": [
       "0"
      ]
     },
     "execution_count": 96,
     "metadata": {},
     "output_type": "execute_result"
    }
   ],
   "source": [
    "# Cleaning outliers for speed variable\n",
    "q1 = np.percentile(solar_train.Speed,25)\n",
    "q3 = np.percentile(solar_train.Speed,75)\n",
    "iqr = q3-q1\n",
    "upper = q3+(3*iqr)\n",
    "lower = q1-(3+iqr)\n",
    "\n",
    "len(solar_train[solar_train.Speed<lower])"
   ]
  },
  {
   "cell_type": "code",
   "execution_count": 97,
   "metadata": {},
   "outputs": [
    {
     "data": {
      "text/plain": [
       "(10800, 7)"
      ]
     },
     "execution_count": 97,
     "metadata": {},
     "output_type": "execute_result"
    }
   ],
   "source": [
    "solar_train = solar_train[solar_train.Speed<upper]\n",
    "solar_train.shape"
   ]
  },
  {
   "cell_type": "code",
   "execution_count": 13,
   "metadata": {},
   "outputs": [],
   "source": [
    "solar_train.rename(columns = {'WindDirection(Degrees)':'WindDirection'}, inplace = True)"
   ]
  },
  {
   "cell_type": "code",
   "execution_count": 98,
   "metadata": {},
   "outputs": [
    {
     "data": {
      "text/plain": [
       "709"
      ]
     },
     "execution_count": 98,
     "metadata": {},
     "output_type": "execute_result"
    }
   ],
   "source": [
    "# Cleaning outliers for wind direction variable\n",
    "q_1 = np.percentile(solar_train.WindDirection,25)\n",
    "q_3 = np.percentile(solar_train.WindDirection,75)\n",
    "iqr = q_3-q_1\n",
    "upper = q_3+(3*iqr)\n",
    "lower = q_1-(3+iqr)\n",
    "\n",
    "len(solar_train[solar_train.WindDirection<lower])"
   ]
  },
  {
   "cell_type": "code",
   "execution_count": 99,
   "metadata": {},
   "outputs": [
    {
     "data": {
      "text/plain": [
       "(10799, 7)"
      ]
     },
     "execution_count": 99,
     "metadata": {},
     "output_type": "execute_result"
    }
   ],
   "source": [
    "solar_train = solar_train[solar_train.WindDirection<upper]\n",
    "solar_train.shape"
   ]
  },
  {
   "cell_type": "code",
   "execution_count": 85,
   "metadata": {},
   "outputs": [
    {
     "data": {
      "image/png": "[encoded data removed]",
      "text/plain": [
       "<Figure size 504x504 with 2 Axes>"
      ]
     },
     "metadata": {
      "needs_background": "light"
     },
     "output_type": "display_data"
    }
   ],
   "source": [
    "## Correlation status\n",
    "import seaborn as sns\n",
    "plt.figure(figsize= (7,7))\n",
    "sns.heatmap(solar_train.corr());"
   ]
  },
  {
   "cell_type": "code",
   "execution_count": 76,
   "metadata": {},
   "outputs": [],
   "source": [
    "\n",
    "solar_train = solar_train.select_dtypes(exclude = ['object', 'datetime64[ns]'])"
   ]
  },
  {
   "cell_type": "markdown",
   "metadata": {},
   "source": [
    "# Models"
   ]
  },
  {
   "cell_type": "code",
   "execution_count": 100,
   "metadata": {},
   "outputs": [],
   "source": [
    "# Data selection for train and test\n",
    "X = solar_train\n",
    "y = solar_train.Radiation\n",
    "X_train, X_test, y_train, y_test = tts(X,y, test_size = .20, random_state= 42)"
   ]
  },
  {
   "cell_type": "code",
   "execution_count": 101,
   "metadata": {},
   "outputs": [
    {
     "name": "stdout",
     "output_type": "stream",
     "text": [
      "0.999995604931662 1.0\n"
     ]
    },
    {
     "name": "stderr",
     "output_type": "stream",
     "text": [
      "C:\\Users\\Data Analyst\\Anaconda3\\lib\\site-packages\\sklearn\\ensemble\\forest.py:245: FutureWarning: The default value of n_estimators will change from 10 in version 0.20 to 100 in 0.22.\n",
      "  \"10 in version 0.20 to 100 in 0.22.\", FutureWarning)\n"
     ]
    }
   ],
   "source": [
    "rf = RFR()\n",
    "rf.fit(X_train, y_train)\n",
    "\n",
    "train_score=rf.score(X_train, y_train)\n",
    "test_score=rf.score(X_test, y_test)\n",
    "print (train_score, test_score)"
   ]
  },
  {
   "cell_type": "markdown",
   "metadata": {},
   "source": [
    "# Running Process with Test data"
   ]
  },
  {
   "cell_type": "code",
   "execution_count": 20,
   "metadata": {},
   "outputs": [],
   "source": [
    "solar_test = pd.read_csv('C:/Users/Data Analyst/Documents/Otros/Competencia Kaggle/solar_test.csv')"
   ]
  },
  {
   "cell_type": "code",
   "execution_count": 21,
   "metadata": {},
   "outputs": [
    {
     "data": {
      "text/html": [
       "<div>\n",
       "<style scoped>\n",
       "    .dataframe tbody tr th:only-of-type {\n",
       "        vertical-align: middle;\n",
       "    }\n",
       "\n",
       "    .dataframe tbody tr th {\n",
       "        vertical-align: top;\n",
       "    }\n",
       "\n",
       "    .dataframe thead th {\n",
       "        text-align: right;\n",
       "    }\n",
       "</style>\n",
       "<table border=\"1\" class=\"dataframe\">\n",
       "  <thead>\n",
       "    <tr style=\"text-align: right;\">\n",
       "      <th></th>\n",
       "      <th>id</th>\n",
       "      <th>UNIXTime</th>\n",
       "      <th>Data</th>\n",
       "      <th>Time</th>\n",
       "      <th>Temperature</th>\n",
       "      <th>Pressure</th>\n",
       "      <th>Humidity</th>\n",
       "      <th>WindDirection(Degrees)</th>\n",
       "      <th>Speed</th>\n",
       "      <th>TimeSunRise</th>\n",
       "      <th>TimeSunSet</th>\n",
       "    </tr>\n",
       "  </thead>\n",
       "  <tbody>\n",
       "    <tr>\n",
       "      <td>0</td>\n",
       "      <td>0</td>\n",
       "      <td>1478720107</td>\n",
       "      <td>11/9/2016 12:00:00 AM</td>\n",
       "      <td>09:35:07</td>\n",
       "      <td>59</td>\n",
       "      <td>30.47</td>\n",
       "      <td>44</td>\n",
       "      <td>312.67</td>\n",
       "      <td>3.37</td>\n",
       "      <td>06:28:00</td>\n",
       "      <td>17:45:00</td>\n",
       "    </tr>\n",
       "    <tr>\n",
       "      <td>1</td>\n",
       "      <td>1</td>\n",
       "      <td>1474063503</td>\n",
       "      <td>9/16/2016 12:00:00 AM</td>\n",
       "      <td>12:05:03</td>\n",
       "      <td>59</td>\n",
       "      <td>30.48</td>\n",
       "      <td>83</td>\n",
       "      <td>38.01</td>\n",
       "      <td>6.75</td>\n",
       "      <td>06:10:00</td>\n",
       "      <td>18:25:00</td>\n",
       "    </tr>\n",
       "  </tbody>\n",
       "</table>\n",
       "</div>"
      ],
      "text/plain": [
       "   id    UNIXTime                   Data      Time  Temperature  Pressure  \\\n",
       "0   0  1478720107  11/9/2016 12:00:00 AM  09:35:07           59     30.47   \n",
       "1   1  1474063503  9/16/2016 12:00:00 AM  12:05:03           59     30.48   \n",
       "\n",
       "   Humidity  WindDirection(Degrees)  Speed TimeSunRise TimeSunSet  \n",
       "0        44                  312.67   3.37    06:28:00   17:45:00  \n",
       "1        83                   38.01   6.75    06:10:00   18:25:00  "
      ]
     },
     "execution_count": 21,
     "metadata": {},
     "output_type": "execute_result"
    }
   ],
   "source": [
    "solar_test.head(2)"
   ]
  },
  {
   "cell_type": "markdown",
   "metadata": {},
   "source": [
    "# Analysis & Model Applied with Test Data"
   ]
  },
  {
   "cell_type": "code",
   "execution_count": 37,
   "metadata": {},
   "outputs": [
    {
     "name": "stdout",
     "output_type": "stream",
     "text": [
      "<class 'pandas.core.frame.DataFrame'>\n",
      "RangeIndex: 8172 entries, 0 to 8171\n",
      "Data columns (total 7 columns):\n",
      "id                        8172 non-null int64\n",
      "UNIXTime                  8172 non-null int64\n",
      "Temperature               8172 non-null int64\n",
      "Pressure                  8172 non-null float64\n",
      "Humidity                  8172 non-null int64\n",
      "WindDirection(Degrees)    8172 non-null float64\n",
      "Speed                     8172 non-null float64\n",
      "dtypes: float64(3), int64(4)\n",
      "memory usage: 447.0 KB\n"
     ]
    }
   ],
   "source": [
    "solar_test.info()"
   ]
  },
  {
   "cell_type": "code",
   "execution_count": 54,
   "metadata": {},
   "outputs": [],
   "source": [
    "solar_test = solar_test.select_dtypes(exclude = ['object'])"
   ]
  },
  {
   "cell_type": "code",
   "execution_count": 102,
   "metadata": {},
   "outputs": [],
   "source": [
    "x_stest = solar_test\n",
    "y_pred =rf.predict(x_stest)\n",
    "y1 = pd.DataFrame(y_pred)"
   ]
  },
  {
   "cell_type": "code",
   "execution_count": 103,
   "metadata": {},
   "outputs": [],
   "source": [
    "yc = y.tail(8172)\n"
   ]
  },
  {
   "cell_type": "code",
   "execution_count": 104,
   "metadata": {},
   "outputs": [
    {
     "data": {
      "text/plain": [
       "0.010054760156632422"
      ]
     },
     "execution_count": 104,
     "metadata": {},
     "output_type": "execute_result"
    }
   ],
   "source": [
    "mse(y_pred, yc)"
   ]
  },
  {
   "cell_type": "code",
   "execution_count": 105,
   "metadata": {},
   "outputs": [],
   "source": [
    "y1.to_csv('C:/Users/Data Analyst/Documents/Otros/Competencia Kaggle/results4.csv')"
   ]
  },
  {
   "cell_type": "code",
   "execution_count": null,
   "metadata": {},
   "outputs": [],
   "source": []
  },
  {
   "cell_type": "code",
   "execution_count": null,
   "metadata": {},
   "outputs": [],
   "source": []
  },
  {
   "cell_type": "code",
   "execution_count": null,
   "metadata": {},
   "outputs": [],
   "source": []
  }
 ],
 "metadata": {
  "kernelspec": {
   "display_name": "Python 3",
   "language": "python",
   "name": "python3"
  },
  "language_info": {
   "codemirror_mode": {
    "name": "ipython",
    "version": 3
   },
   "file_extension": ".py",
   "mimetype": "text/x-python",
   "name": "python",
   "nbconvert_exporter": "python",
   "pygments_lexer": "ipython3",
   "version": "3.7.4"
  }
 },
 "nbformat": 4,
 "nbformat_minor": 2
}
