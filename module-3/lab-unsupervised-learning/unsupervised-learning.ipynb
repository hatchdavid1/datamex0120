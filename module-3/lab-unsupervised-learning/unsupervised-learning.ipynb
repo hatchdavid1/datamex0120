{
 "cells": [
  {
   "cell_type": "markdown",
   "metadata": {},
   "source": [
    "# Before your start:\n",
    "- Read the README.md file\n",
    "- Comment as much as you can and use the resources in the README.md file\n",
    "- Happy learning!"
   ]
  },
  {
   "cell_type": "code",
   "execution_count": 1,
   "metadata": {},
   "outputs": [],
   "source": [
    "# Import your libraries:\n",
    "\n",
    "%matplotlib inline\n",
    "\n",
    "import matplotlib.pyplot as plt\n",
    "import numpy as np\n",
    "import pandas as pd"
   ]
  },
  {
   "cell_type": "markdown",
   "metadata": {},
   "source": [
    "# Challenge 1 - Import and Describe the Dataset\n",
    "\n",
    "In this lab, we will use a dataset containing information about customer preferences. We will look at how much each customer spends in a year on each subcategory in the grocery store and try to find similarities using clustering.\n",
    "\n",
    "The origin of the dataset is [here](https://archive.ics.uci.edu/ml/datasets/wholesale+customers)."
   ]
  },
  {
   "cell_type": "code",
   "execution_count": 2,
   "metadata": {},
   "outputs": [],
   "source": [
    "# loading the data:\n",
    "customers = pd.read_csv('C:/Users/Data Analyst/Documents/GitHub/datamex0120/module-3/lab-unsupervised-learning/Wholesale customers data.csv')"
   ]
  },
  {
   "cell_type": "markdown",
   "metadata": {},
   "source": [
    "#### Explore the dataset with mathematical and visualization techniques. What do you find?\n",
    "\n",
    "Checklist:\n",
    "\n",
    "* What does each column mean?\n",
    "* Any categorical data to convert?\n",
    "* Any missing data to remove?\n",
    "* Column collinearity - any high correlations?\n",
    "* Descriptive statistics - any outliers to remove?\n",
    "* Column-wise data distribution - is the distribution skewed?\n",
    "* Etc.\n",
    "\n",
    "Additional info: Over a century ago, an Italian economist named Vilfredo Pareto discovered that roughly 20% of the customers account for 80% of the typical retail sales. This is called the [Pareto principle](https://en.wikipedia.org/wiki/Pareto_principle). Check if this dataset displays this characteristic."
   ]
  },
  {
   "cell_type": "code",
   "execution_count": 3,
   "metadata": {},
   "outputs": [
    {
     "data": {
      "text/html": [
       "<div>\n",
       "<style scoped>\n",
       "    .dataframe tbody tr th:only-of-type {\n",
       "        vertical-align: middle;\n",
       "    }\n",
       "\n",
       "    .dataframe tbody tr th {\n",
       "        vertical-align: top;\n",
       "    }\n",
       "\n",
       "    .dataframe thead th {\n",
       "        text-align: right;\n",
       "    }\n",
       "</style>\n",
       "<table border=\"1\" class=\"dataframe\">\n",
       "  <thead>\n",
       "    <tr style=\"text-align: right;\">\n",
       "      <th></th>\n",
       "      <th>Channel</th>\n",
       "      <th>Region</th>\n",
       "      <th>Fresh</th>\n",
       "      <th>Milk</th>\n",
       "      <th>Grocery</th>\n",
       "      <th>Frozen</th>\n",
       "      <th>Detergents_Paper</th>\n",
       "      <th>Delicassen</th>\n",
       "    </tr>\n",
       "  </thead>\n",
       "  <tbody>\n",
       "    <tr>\n",
       "      <td>0</td>\n",
       "      <td>2</td>\n",
       "      <td>3</td>\n",
       "      <td>12669</td>\n",
       "      <td>9656</td>\n",
       "      <td>7561</td>\n",
       "      <td>214</td>\n",
       "      <td>2674</td>\n",
       "      <td>1338</td>\n",
       "    </tr>\n",
       "    <tr>\n",
       "      <td>1</td>\n",
       "      <td>2</td>\n",
       "      <td>3</td>\n",
       "      <td>7057</td>\n",
       "      <td>9810</td>\n",
       "      <td>9568</td>\n",
       "      <td>1762</td>\n",
       "      <td>3293</td>\n",
       "      <td>1776</td>\n",
       "    </tr>\n",
       "    <tr>\n",
       "      <td>2</td>\n",
       "      <td>2</td>\n",
       "      <td>3</td>\n",
       "      <td>6353</td>\n",
       "      <td>8808</td>\n",
       "      <td>7684</td>\n",
       "      <td>2405</td>\n",
       "      <td>3516</td>\n",
       "      <td>7844</td>\n",
       "    </tr>\n",
       "    <tr>\n",
       "      <td>3</td>\n",
       "      <td>1</td>\n",
       "      <td>3</td>\n",
       "      <td>13265</td>\n",
       "      <td>1196</td>\n",
       "      <td>4221</td>\n",
       "      <td>6404</td>\n",
       "      <td>507</td>\n",
       "      <td>1788</td>\n",
       "    </tr>\n",
       "    <tr>\n",
       "      <td>4</td>\n",
       "      <td>2</td>\n",
       "      <td>3</td>\n",
       "      <td>22615</td>\n",
       "      <td>5410</td>\n",
       "      <td>7198</td>\n",
       "      <td>3915</td>\n",
       "      <td>1777</td>\n",
       "      <td>5185</td>\n",
       "    </tr>\n",
       "  </tbody>\n",
       "</table>\n",
       "</div>"
      ],
      "text/plain": [
       "   Channel  Region  Fresh  Milk  Grocery  Frozen  Detergents_Paper  Delicassen\n",
       "0        2       3  12669  9656     7561     214              2674        1338\n",
       "1        2       3   7057  9810     9568    1762              3293        1776\n",
       "2        2       3   6353  8808     7684    2405              3516        7844\n",
       "3        1       3  13265  1196     4221    6404               507        1788\n",
       "4        2       3  22615  5410     7198    3915              1777        5185"
      ]
     },
     "execution_count": 3,
     "metadata": {},
     "output_type": "execute_result"
    }
   ],
   "source": [
    "# Your code here:\n",
    "customers.head()"
   ]
  },
  {
   "cell_type": "code",
   "execution_count": 5,
   "metadata": {},
   "outputs": [
    {
     "name": "stdout",
     "output_type": "stream",
     "text": [
      "<class 'pandas.core.frame.DataFrame'>\n",
      "RangeIndex: 440 entries, 0 to 439\n",
      "Data columns (total 8 columns):\n",
      "Channel             440 non-null int64\n",
      "Region              440 non-null int64\n",
      "Fresh               440 non-null int64\n",
      "Milk                440 non-null int64\n",
      "Grocery             440 non-null int64\n",
      "Frozen              440 non-null int64\n",
      "Detergents_Paper    440 non-null int64\n",
      "Delicassen          440 non-null int64\n",
      "dtypes: int64(8)\n",
      "memory usage: 27.6 KB\n",
      "None Channel             0\n",
      "Region              0\n",
      "Fresh               0\n",
      "Milk                0\n",
      "Grocery             0\n",
      "Frozen              0\n",
      "Detergents_Paper    0\n",
      "Delicassen          0\n",
      "dtype: int64\n"
     ]
    }
   ],
   "source": [
    "print(customers.info(), customers.isnull().sum())"
   ]
  },
  {
   "cell_type": "code",
   "execution_count": 8,
   "metadata": {},
   "outputs": [
    {
     "data": {
      "text/plain": [
       "<matplotlib.axes._subplots.AxesSubplot at 0x282442048c8>"
      ]
     },
     "execution_count": 8,
     "metadata": {},
     "output_type": "execute_result"
    },
    {
     "data": {
      "image/png": "[encoded data removed]",
      "text/plain": [
       "<Figure size 432x432 with 2 Axes>"
      ]
     },
     "metadata": {
      "needs_background": "light"
     },
     "output_type": "display_data"
    }
   ],
   "source": [
    "import seaborn as sns \n",
    "plt.figure(figsize = (6,6))\n",
    "sns.heatmap(customers.corr())"
   ]
  },
  {
   "cell_type": "code",
   "execution_count": 19,
   "metadata": {},
   "outputs": [
    {
     "data": {
      "image/png": "[encoded data removed]",
      "text/plain": [
       "<Figure size 432x288 with 1 Axes>"
      ]
     },
     "metadata": {
      "needs_background": "light"
     },
     "output_type": "display_data"
    }
   ],
   "source": [
    "ax = customers.plot.hist()"
   ]
  },
  {
   "cell_type": "code",
   "execution_count": 15,
   "metadata": {},
   "outputs": [
    {
     "data": {
      "image/png": "[encoded data removed]",
      "text/plain": [
       "<Figure size 432x288 with 1 Axes>"
      ]
     },
     "metadata": {
      "needs_background": "light"
     },
     "output_type": "display_data"
    }
   ],
   "source": [
    "customers.boxplot()\n",
    "plt.show()"
   ]
  },
  {
   "cell_type": "code",
   "execution_count": null,
   "metadata": {},
   "outputs": [],
   "source": [
    "# Your observations here"
   ]
  },
  {
   "cell_type": "markdown",
   "metadata": {},
   "source": [
    "# Challenge 2 - Data Cleaning and Transformation\n",
    "\n",
    "If your conclusion from the previous challenge is the data need cleaning/transformation, do it in the cells below. However, if your conclusion is the data need not be cleaned or transformed, feel free to skip this challenge. But if you do choose the latter, please provide rationale."
   ]
  },
  {
   "cell_type": "code",
   "execution_count": 40,
   "metadata": {},
   "outputs": [],
   "source": [
    "## Cleanin Fresh Outliers\n",
    "q1 = np.percentile(customers.Fresh,25)\n",
    "q3 = np.percentile(customers.Fresh,75)\n",
    "iqr = q3-q1\n",
    "upper = q3+(3*iqr)\n",
    "lower = q1-(3+iqr)\n",
    "customers1 = customers[customers.Fresh<upper]"
   ]
  },
  {
   "cell_type": "code",
   "execution_count": 41,
   "metadata": {},
   "outputs": [],
   "source": [
    "## Cleaning Milk outliers \n",
    "q1 = np.percentile(customers1.Milk,25)\n",
    "q3 = np.percentile(customers1.Milk,75)\n",
    "iqr = q3-q1\n",
    "upper = q3+(3*iqr)\n",
    "lower = q1-(3+iqr)\n",
    "customers2 = customers1[customers1.Milk<upper]"
   ]
  },
  {
   "cell_type": "code",
   "execution_count": 42,
   "metadata": {},
   "outputs": [],
   "source": [
    "## Cleaning Grocery outliers \n",
    "q1 = np.percentile(customers2.Grocery,25)\n",
    "q3 = np.percentile(customers2.Grocery,75)\n",
    "iqr = q3-q1\n",
    "upper = q3+(3*iqr)\n",
    "lower = q1-(3+iqr)\n",
    "customers3 = customers2[customers2.Grocery<upper]"
   ]
  },
  {
   "cell_type": "code",
   "execution_count": 43,
   "metadata": {},
   "outputs": [],
   "source": [
    "## Cleaning Detergents_Paper outliers \n",
    "q1 = np.percentile(customers3.Detergents_Paper,25)\n",
    "q3 = np.percentile(customers3.Detergents_Paper,75)\n",
    "iqr = q3-q1\n",
    "upper = q3+(3*iqr)\n",
    "lower = q1-(3+iqr)\n",
    "customers4 = customers3[customers3.Detergents_Paper<upper]"
   ]
  },
  {
   "cell_type": "code",
   "execution_count": 44,
   "metadata": {},
   "outputs": [],
   "source": [
    "q1 = np.percentile(customers4.Frozen,25)\n",
    "q3 = np.percentile(customers4.Frozen,75)\n",
    "iqr = q3-q1\n",
    "upper = q3+(3*iqr)\n",
    "lower = q1-(3+iqr)\n",
    "customers5 = customers4[customers4.Frozen<upper]"
   ]
  },
  {
   "cell_type": "code",
   "execution_count": 45,
   "metadata": {},
   "outputs": [
    {
     "data": {
      "image/png": "[encoded data removed]",
      "text/plain": [
       "<Figure size 432x288 with 1 Axes>"
      ]
     },
     "metadata": {
      "needs_background": "light"
     },
     "output_type": "display_data"
    }
   ],
   "source": [
    "customers5.boxplot()\n",
    "plt.show()"
   ]
  },
  {
   "cell_type": "code",
   "execution_count": 46,
   "metadata": {},
   "outputs": [],
   "source": [
    "# Your comment here\n",
    "# Even cleaning the outliers, every variable has a different distribution"
   ]
  },
  {
   "cell_type": "markdown",
   "metadata": {},
   "source": [
    "# Challenge 3 - Data Preprocessing\n",
    "\n",
    "One problem with the dataset is the value ranges are remarkably different across various categories (e.g. `Fresh` and `Grocery` compared to `Detergents_Paper` and `Delicassen`). If you made this observation in the first challenge, you've done a great job! This means you not only completed the bonus questions in the previous Supervised Learning lab but also researched deep into [*feature scaling*](https://en.wikipedia.org/wiki/Feature_scaling). Keep on the good work!\n",
    "\n",
    "Diverse value ranges in different features could cause issues in our clustering. The way to reduce the problem is through feature scaling. We'll use this technique again with this dataset.\n",
    "\n",
    "#### We will use the `StandardScaler` from `sklearn.preprocessing` and scale our data. Read more about `StandardScaler` [here](https://scikit-learn.org/stable/modules/generated/sklearn.preprocessing.StandardScaler.html#sklearn.preprocessing.StandardScaler).\n",
    "\n",
    "*After scaling your data, assign the transformed data to a new variable `customers_scale`.*"
   ]
  },
  {
   "cell_type": "code",
   "execution_count": 48,
   "metadata": {},
   "outputs": [],
   "source": [
    "# Your import here:\n",
    "from sklearn.preprocessing import StandardScaler\n",
    "scaler = StandardScaler()\n",
    "\n",
    "customers[['Fresh', 'Milk', 'Grocery','Frozen', 'Detergents_Paper','Delicassen']] = scaler.fit_transform(customers[['Fresh', 'Milk', 'Grocery','Frozen', 'Detergents_Paper','Delicassen']])"
   ]
  },
  {
   "cell_type": "markdown",
   "metadata": {},
   "source": [
    "# Challenge 3 - Data Clustering with K-Means\n",
    "\n",
    "Now let's cluster the data with K-Means first. Initiate the K-Means model, then fit your scaled data. In the data returned from the `.fit` method, there is an attribute called `labels_` which is the cluster number assigned to each data record. What you can do is to assign these labels back to `customers` in a new column called `customers['labels']`. Then you'll see the cluster results of the original data."
   ]
  },
  {
   "cell_type": "code",
   "execution_count": 51,
   "metadata": {
    "scrolled": true
   },
   "outputs": [],
   "source": [
    "# Your code here:\n",
    "from sklearn.cluster import KMeans\n",
    "kmeans = KMeans()\n",
    "cluster = kmeans.fit(customers)"
   ]
  },
  {
   "cell_type": "markdown",
   "metadata": {},
   "source": [
    "Count the values in `labels`."
   ]
  },
  {
   "cell_type": "code",
   "execution_count": 53,
   "metadata": {},
   "outputs": [],
   "source": [
    "# Your code here:\n",
    "customers['labels'] = cluster.labels_"
   ]
  },
  {
   "cell_type": "markdown",
   "metadata": {},
   "source": [
    "# Challenge 4 - Data Clustering with DBSCAN\n",
    "\n",
    "Now let's cluster the data using DBSCAN. Use `DBSCAN(eps=0.5)` to initiate the model, then fit your scaled data. In the data returned from the `.fit` method, assign the `labels_` back to `customers['labels_DBSCAN']`. Now your original data have two labels, one from K-Means and the other from DBSCAN."
   ]
  },
  {
   "cell_type": "code",
   "execution_count": 54,
   "metadata": {
    "scrolled": true
   },
   "outputs": [],
   "source": [
    "# Your code here\n",
    "from sklearn.cluster import DBSCAN\n",
    "dbscan = DBSCAN(eps = .5)\n",
    "db = dbscan.fit(customers)\n",
    "customers['labels_DBSCAN'] = db.labels_"
   ]
  },
  {
   "cell_type": "markdown",
   "metadata": {},
   "source": [
    "Count the values in `labels_DBSCAN`."
   ]
  },
  {
   "cell_type": "code",
   "execution_count": 57,
   "metadata": {},
   "outputs": [
    {
     "data": {
      "text/plain": [
       "array([-1,  0], dtype=int64)"
      ]
     },
     "execution_count": 57,
     "metadata": {},
     "output_type": "execute_result"
    }
   ],
   "source": [
    "# Your code here\n",
    "np.unique(db.labels_)"
   ]
  },
  {
   "cell_type": "markdown",
   "metadata": {},
   "source": [
    "# Challenge 5 - Compare K-Means with DBSCAN\n",
    "\n",
    "Now we want to visually compare how K-Means and DBSCAN have clustered our data. We will create scatter plots for several columns. For each of the following column pairs, plot a scatter plot using `labels` and another using `labels_DBSCAN`. Put them side by side to compare. Which clustering algorithm makes better sense?\n",
    "\n",
    "Columns to visualize:\n",
    "\n",
    "* `Detergents_Paper` as X and `Milk` as y\n",
    "* `Grocery` as X and `Fresh` as y\n",
    "* `Frozen` as X and `Delicassen` as y"
   ]
  },
  {
   "cell_type": "markdown",
   "metadata": {},
   "source": [
    "Visualize `Detergents_Paper` as X and `Milk` as y by `labels` and `labels_DBSCAN` respectively"
   ]
  },
  {
   "cell_type": "code",
   "execution_count": 73,
   "metadata": {},
   "outputs": [
    {
     "data": {
      "application/vnd.plotly.v1+json": {
       "config": {
        "plotlyServerURL": "https://plot.ly"
       },
       "data": [
        {
         "hoverlabel": {
          "namelength": 0
         },
         "hovertemplate": "Detergents_Paper=%{x}<br>Milk=%{y}<br>labels=%{marker.color}",
         "legendgroup": "",
         "marker": {
          "color": [
           6,
           6,
           4,
           0,
           5,
           6,
           6,
           5,
           1,
           2,
           6,
           1,
           5,
           6,
           5,
           1,
           6,
           5,
           5,
           1,
           5,
           1,
           0,
           5,
           6,
           1,
           1,
           2,
           3,
           5,
           1,
           1,
           3,
           1,
           6,
           5,
           6,
           2,
           4,
           5,
           6,
           2,
           6,
           2,
           6,
           1,
           1,
           3,
           6,
           3,
           1,
           6,
           1,
           6,
           6,
           6,
           2,
           1,
           1,
           6,
           0,
           1,
           4,
           0,
           0,
           6,
           0,
           0,
           2,
           1,
           1,
           1,
           2,
           5,
           1,
           6,
           4,
           0,
           3,
           1,
           0,
           6,
           1,
           6,
           1,
           1,
           0,
           6,
           2,
           6,
           1,
           1,
           6,
           2,
           6,
           2,
           1,
           2,
           0,
           1,
           1,
           1,
           1,
           1,
           0,
           1,
           1,
           1,
           1,
           6,
           3,
           0,
           5,
           1,
           3,
           0,
           1,
           1,
           1,
           1,
           1,
           5,
           6,
           5,
           1,
           5,
           3,
           3,
           0,
           1,
           1,
           1,
           1,
           3,
           1,
           1,
           1,
           1,
           1,
           2,
           6,
           1,
           6,
           6,
           6,
           1,
           1,
           6,
           2,
           5,
           1,
           1,
           1,
           6,
           6,
           2,
           1,
           6,
           3,
           5,
           1,
           1,
           5,
           6,
           1,
           1,
           1,
           0,
           6,
           6,
           0,
           1,
           1,
           6,
           1,
           0,
           6,
           7,
           7,
           2,
           4,
           7,
           7,
           2,
           7,
           7,
           7,
           2,
           7,
           7,
           7,
           6,
           2,
           7,
           5,
           7,
           7,
           6,
           0,
           7,
           7,
           7,
           7,
           7,
           7,
           0,
           0,
           7,
           7,
           7,
           7,
           7,
           7,
           7,
           7,
           3,
           7,
           7,
           7,
           7,
           2,
           7,
           7,
           7,
           0,
           7,
           0,
           3,
           5,
           3,
           7,
           7,
           3,
           7,
           0,
           7,
           7,
           2,
           2,
           7,
           2,
           7,
           7,
           7,
           7,
           3,
           1,
           1,
           3,
           0,
           6,
           1,
           5,
           3,
           0,
           3,
           1,
           0,
           1,
           3,
           1,
           1,
           1,
           6,
           7,
           7,
           7,
           6,
           6,
           1,
           5,
           2,
           6,
           6,
           2,
           6,
           2,
           7,
           1,
           2,
           3,
           7,
           7,
           5,
           7,
           7,
           7,
           1,
           7,
           7,
           7,
           3,
           7,
           1,
           0,
           0,
           7,
           2,
           3,
           5,
           7,
           0,
           0,
           6,
           6,
           6,
           1,
           6,
           6,
           6,
           1,
           2,
           1,
           2,
           1,
           2,
           0,
           1,
           3,
           6,
           5,
           1,
           1,
           1,
           1,
           1,
           1,
           5,
           1,
           1,
           3,
           1,
           3,
           0,
           5,
           5,
           1,
           1,
           6,
           3,
           1,
           6,
           3,
           0,
           3,
           1,
           5,
           1,
           1,
           1,
           1,
           1,
           0,
           1,
           1,
           0,
           1,
           1,
           5,
           0,
           0,
           1,
           1,
           3,
           3,
           0,
           1,
           0,
           2,
           6,
           5,
           1,
           5,
           6,
           0,
           6,
           6,
           6,
           2,
           1,
           6,
           6,
           3,
           1,
           6,
           6,
           1,
           1,
           6,
           1,
           1,
           1,
           3,
           1,
           1
          ],
          "coloraxis": "coloraxis",
          "symbol": "circle"
         },
         "mode": "markers",
         "name": "",
         "showlegend": false,
         "type": "scatter",
         "x": [
          0.1859343947769527,
          0.41123974962031506,
          0.4924079146123503,
          -0.602816338576143,
          -0.14055817920446256,
          -0.13400648875667498,
          0.3555503808141205,
          0.4214312680946513,
          -0.16276113016640942,
          1.9152166901902232,
          1.3881695919459767,
          -0.5875290608646386,
          0.6252616375813765,
          1.653877037884029,
          1.0536693963061545,
          -0.43647619776286906,
          0.8534788548459779,
          -0.6526819825398598,
          0.2197847954238553,
          0.1291530775627935,
          0.03488153167518309,
          -0.6508620685265855,
          0.0792874335990768,
          0.8440153019769513,
          0.6696675395052702,
          -0.6992717812796827,
          -0.7509573392566737,
          2.3443524145203107,
          -0.38442665698322315,
          -0.010616318656675222,
          -0.48888972134516984,
          -0.4532194066849929,
          -0.6559578277637536,
          -0.6115519258398598,
          0.7555674809318188,
          -0.47360244363366544,
          1.580716494550401,
          1.744508755745091,
          -0.3705953104823382,
          0.1499000973141209,
          1.7237617359937636,
          2.681036506976062,
          0.8935169631380132,
          1.6848155761096928,
          1.076600312873411,
          -0.5656900927053466,
          -0.22755006903897565,
          0.1542678909459793,
          1.2549518861742956,
          -0.7131031277805676,
          -0.050654426948710536,
          1.9687221621804887,
          -0.7047315233195056,
          0.33516734386544794,
          0.703153957349518,
          0.6955103184937658,
          2.00694035645925,
          -0.3334690646115418,
          0.4749367400849167,
          1.0838799689265084,
          -0.5005371710301255,
          -0.548582900980568,
          0.7315446159565976,
          -0.30653433721508166,
          -0.5092727582938423,
          -0.09542431167525912,
          -0.7862636711141957,
          -0.594808716917736,
          3.592813427626503,
          -0.6777967959230455,
          -0.3498482907310108,
          -0.5653261099026918,
          2.0582619316335857,
          0.5000515534681025,
          -0.5871650780619838,
          0.6092463942645624,
          -0.21262677413012612,
          -0.7272984570841073,
          -0.622107427116851,
          -0.7622408061389746,
          -0.5591384022575591,
          1.046389740253057,
          -0.7061874545301251,
          0.6227137579627925,
          -0.7677005481787975,
          -0.7669725825734878,
          -0.7090993169513641,
          2.1372461998096917,
          1.6753520232406662,
          0.8771377370185441,
          -0.24465726076375438,
          -0.7367620099531339,
          1.6986469226105778,
          2.477206137489337,
          0.12442130112828025,
          -0.48306599650269194,
          -0.7258425258734879,
          1.5628813372203125,
          -0.6115519258398598,
          -0.5744256799690635,
          -0.744405648808886,
          -0.6868963659894172,
          -0.6745209506991517,
          -0.671245105475258,
          -0.6377586876310102,
          -0.6905361940159659,
          -0.7240226118602135,
          -0.6912641596212756,
          -0.7782560494557886,
          -0.06812560147614413,
          -0.6053642181947271,
          -0.6603256213956119,
          0.08110734761235114,
          -0.4008058831026921,
          -0.6381226704336651,
          -0.6435824124734881,
          -0.7618768233363197,
          -0.43975204298676285,
          -0.6941760220425145,
          -0.7702484277973817,
          -0.7149230417938419,
          0.10331029857429799,
          -0.5249240188080015,
          -0.6967239016610985,
          -0.5554985742310103,
          -0.4379321289734885,
          -0.7687924965867622,
          -0.780075963469063,
          -0.6421264812628686,
          -0.5995404933522492,
          -0.7607848749283551,
          -0.3935262270495948,
          -0.6843484863708331,
          -0.7462255628221605,
          -0.725478543070833,
          -0.6945400048451694,
          -0.6592336729876473,
          -0.6774328131203906,
          -0.7848077399035763,
          3.426473286813229,
          1.649145261449516,
          -0.49216556656906363,
          0.6700315223079252,
          2.1525334775211964,
          0.822904299422969,
          -0.7862636711141957,
          -0.7029116093062313,
          0.5499171974318192,
          1.7998341417486305,
          1.0227308580804908,
          -0.1758645110619846,
          -0.7586009781124259,
          -0.7622408061389746,
          1.765983741101728,
          0.24635554001766052,
          2.7927792273911063,
          -0.7316662507159658,
          0.7399162204176595,
          -0.22973396585490485,
          -0.780075963469063,
          -0.7436776832035764,
          -0.6879883143973818,
          -0.2843313862531348,
          1.7266735984150023,
          -0.6657853634354349,
          -0.7662446169681781,
          -0.441935939802692,
          0.4716608948610229,
          1.7019227678344715,
          0.6784031267689871,
          -0.744405648808886,
          -0.771704359008001,
          -0.7192908354257003,
          1.2574997657928797,
          -0.6581417245796828,
          -0.6672412946460544,
          0.7828661911309338,
          -0.5718778003504794,
          -0.641034532854904,
          2.837549112117655,
          -0.6839845035681783,
          -0.4401160257894177,
          -0.785535705508886,
          2.584945047075178,
          -0.6825285723575588,
          1.14757695939111,
          0.4432702362539433,
          3.7333107894512816,
          -0.698543815674373,
          -0.6999997468849923,
          0.6543802617937658,
          1.3808899358928794,
          1.3339361543504016,
          -0.7400378551770277,
          0.9586698848132342,
          -0.7560530984938418,
          -0.7669725825734878,
          0.7293607191406684,
          -0.6941760220425145,
          -0.5005371710301255,
          -0.7618768233363197,
          -0.5103647067018069,
          0.14735221769553683,
          -0.6916281424239304,
          0.945930486720314,
          -0.534751554479683,
          -0.43975204298676285,
          -0.2173585505646394,
          -0.6839845035681783,
          -0.6384866532363199,
          -0.6690612086593287,
          -0.34475253149384266,
          -0.6363027564203907,
          -0.7771641010478241,
          -0.7611488577310099,
          -0.48597785892393086,
          -0.6373947048283554,
          -0.5740616971664085,
          -0.17513654545667487,
          0.3566423292220851,
          2.464102756593762,
          -0.6308430143805678,
          -0.7713403762053462,
          -0.5827972844301254,
          -0.4532194066849929,
          -0.7021836437009216,
          -0.7127391449779127,
          -0.6552298621584438,
          -0.22427422381508186,
          -0.7469535284274702,
          -0.6446743608814527,
          0.520434590416775,
          -0.43538424935490444,
          -0.5034490334513645,
          -0.7695204621920719,
          -0.6312069971832226,
          0.26601061136102333,
          1.3892615403539414,
          0.989608423038898,
          -0.5191002939655237,
          1.5326707645999587,
          -0.6661493462380897,
          -0.7156510073991517,
          -0.7338501475318949,
          -0.7535052188752578,
          -0.7109192309646384,
          -0.5110926723071166,
          -0.7524132704672931,
          -0.5678739895212759,
          -0.6876243315947269,
          0.5302621260884564,
          -0.7265704914787976,
          0.05999634505836888,
          -0.4084495219584443,
          -0.6730650194885323,
          -0.6286591175646385,
          -0.341112703467294,
          -0.6468582576973819,
          -0.6253832723407448,
          -0.7757081698372046,
          -0.4361122149602142,
          -0.7101912653593286,
          -0.4870698073318955,
          1.379070021879605,
          -0.49216556656906363,
          0.0163184087397849,
          -0.5289278296372051,
          0.5637485439327041,
          0.8643983389256239,
          -0.6818006067522491,
          0.1815666011450943,
          2.398221869313231,
          1.482441137833587,
          2.87758722040969,
          3.5014537441601314,
          0.6354531560557128,
          1.9636264029433206,
          -0.6595976557903022,
          -0.6938120392398597,
          1.7044706474530555,
          -0.6523179997372048,
          -0.7207467666363198,
          -0.47542235764693974,
          0.6289014656079253,
          -0.7571450469018064,
          -0.48852573854251496,
          -0.5303837608478246,
          -0.6872603487920721,
          -0.7043675405168508,
          -0.2523008996195066,
          -0.17622849386463948,
          -0.7363980271504791,
          -0.646494274894727,
          -0.7553251328885321,
          -0.7109192309646384,
          -0.608276080615966,
          -0.7211107494389747,
          2.709063182780487,
          -0.7225666806495941,
          0.7089776821919959,
          -0.7342141303345499,
          -0.6264752207487093,
          -0.5787934736009218,
          1.859163338581374,
          1.0915236077822605,
          0.8851453586769512,
          -0.7083713513460543,
          0.6114302910804916,
          1.6149308779999585,
          0.8946089115459778,
          -0.3563999811787984,
          3.6597862633149987,
          -0.7243865946628685,
          3.8126590404300424,
          -0.7545971672832223,
          2.3727430731273906,
          -0.3021665435832233,
          -0.7203827838336649,
          -0.7840797742982666,
          1.6684363499902237,
          -0.5922608372991519,
          -0.7029116093062313,
          -0.6170116678796829,
          -0.7294823539000366,
          -0.7222026978469392,
          -0.30143857797791357,
          -0.600268458957559,
          0.8560267344645619,
          -0.70655143733278,
          -0.695631953253134,
          -0.7505933564540188,
          -0.7724323246133108,
          -0.5969926137336652,
          -0.526743932821276,
          -0.6428544468681784,
          -0.08996456963543611,
          -0.6741569678964968,
          -0.6140998054584439,
          0.9109881376654467,
          -0.7524132704672931,
          -0.7626047889416294,
          -0.4914376009637539,
          -0.5689659379292404,
          -0.6978158500690632,
          -0.16458104417968375,
          -0.6428544468681784,
          -0.6847124691734879,
          -0.717470921412426,
          -0.6588696901849924,
          -0.7032755921088862,
          -0.714559058991187,
          -0.7047315233195056,
          -0.6741569678964968,
          -0.752777253269948,
          -0.7429497175982667,
          -0.6472222405000367,
          -0.7331221819265853,
          -0.48124608248941764,
          0.44217828784597873,
          -0.7640607201522489,
          -0.7604208921257002,
          -0.6166476850770279,
          -0.7316662507159658,
          -0.7837157914956117,
          -0.5573184882442848,
          -0.4546753378956124,
          -0.5715138175478245,
          -0.3898863990230461,
          2.081920813806152,
          0.20631743172562522,
          -0.014620129485878753,
          -0.11034760658410865,
          -0.7018196608982668,
          0.29367330436279315,
          -0.37423513850888684,
          0.501143501876067,
          1.6615206767397814,
          0.4811244477300494,
          1.6658884703716397,
          -0.21226279132747128,
          1.6942791289787194,
          0.4556456515442088,
          -0.4422999226053469,
          -0.13109462633543603,
          0.38212112540792575,
          1.0613130351619067,
          -0.4779702372655238,
          -0.7567810640991516,
          -0.6996357640823375,
          -0.3039864575964976,
          -0.6577777417770279,
          0.07564760557252814,
          -0.7535052188752578,
          -0.7262065086761428,
          -0.6137358226557891
         ],
         "xaxis": "x",
         "y": [
          1.2927896595381798,
          1.3317754370336772,
          1.078114728913623,
          -0.8488965587209609,
          0.2178960800194669,
          0.939132963686168,
          -0.3418282968801738,
          0.10296398272754609,
          -0.22816197158486007,
          1.6565725313630482,
          0.21612399922421702,
          -0.8671236754721026,
          1.9669398249310985,
          0.4199132906779532,
          1.2444371692677902,
          -0.8696552194653167,
          1.0801399641081941,
          0.40700241631256123,
          0.4500386641972012,
          -0.5200489940024474,
          -0.007664489775910702,
          -0.9311717385004196,
          -0.6663722368102233,
          1.3231681874567491,
          -0.08082611117979861,
          -0.9083878425614926,
          -0.9483862376542755,
          4.033945495390423,
          -0.6200449817344049,
          -0.2377818387590737,
          -0.053232281653764764,
          -0.8180117220037487,
          0.05992773484290615,
          -0.6506766640522957,
          0.2384015863645012,
          -0.047409730469372295,
          1.52062861892745,
          2.830196326617111,
          -0.05500436244901464,
          -0.3757509863892429,
          0.7609122665638944,
          1.657078840161691,
          0.6272467437221891,
          2.4099600237435683,
          0.4057366443159542,
          -0.8744651530524234,
          -0.12614074865833125,
          -0.1603165925667218,
          1.499616803783773,
          -0.7848484956926438,
          -0.21930156760861066,
          1.3629134281502109,
          -0.6529550536461884,
          0.20523836005339632,
          -0.38081407437567116,
          0.42928000345284545,
          1.7851749662183252,
          -0.8410487723419972,
          -0.7633303717503238,
          0.5594013647040509,
          0.6862317187640781,
          -0.4377738142229887,
          -0.8311757507684621,
          0.1492912378033644,
          0.1981500368723968,
          0.45408913458634376,
          -0.8638326682809242,
          -0.24360438994346617,
          2.062632187874592,
          -0.8542128011067105,
          -0.32663903292088914,
          -0.9418042232719189,
          1.263423749216896,
          1.1854521942259013,
          -0.7559888941700029,
          -0.30942453376703316,
          0.12043163628072348,
          -1.014459535877164,
          -0.18056894451243471,
          -1.0007891983138077,
          -0.4524567693836306,
          1.9418775393982788,
          -0.4124583742908476,
          -0.48941731168455666,
          -1.0873680028817305,
          -1.1233159275853708,
          -0.5992863209900492,
          0.8176188520118906,
          1.5849298363550886,
          0.4834550449076275,
          -0.6119440409561198,
          -0.8949706593974578,
          0.45257020819041527,
          1.543412514866377,
          0.9740682707925229,
          3.083350725938523,
          -0.7344707702276829,
          1.6618887737487977,
          -0.4504315341890593,
          -0.5706798738667297,
          -0.8782624690422446,
          -0.9509177816474897,
          -0.5134669796200908,
          -0.1694301509422926,
          -0.6729542511925799,
          -0.5582753082999806,
          -0.8478839411236753,
          -0.3329678929039244,
          -1.1007851860457654,
          1.5745505059829108,
          -0.7359896966236114,
          -0.685865125557972,
          0.681928093975614,
          1.087987750487158,
          -0.917248246537742,
          -0.537010338756982,
          -1.0025612791090577,
          -0.6372594808882609,
          -0.8878823362164583,
          -0.6752326407864726,
          -0.8253531995840696,
          1.0201423714690196,
          0.8938183262076355,
          -0.0739909423981205,
          0.10878653391193856,
          -0.06816839121372803,
          2.203132879497975,
          0.6588910436373656,
          -0.7476347989923964,
          -0.22082049400453913,
          -0.6615623032231165,
          -0.2977794313982482,
          -1.0038270511056646,
          -0.7888989660817864,
          -0.6896624415477931,
          -0.3091713793677117,
          -0.8045945388397139,
          1.1900089734136867,
          -1.1377457283466914,
          1.5545513084365192,
          0.18777070650021893,
          -0.8058603108363209,
          0.5115551832323042,
          0.7986322720627848,
          -0.22740250838689582,
          -1.0149658446758067,
          -0.6392847160828322,
          0.7730636777313221,
          2.0514933943044498,
          0.5497814975298373,
          -0.34284091447745946,
          -0.9656007368081315,
          -0.9701575159959169,
          1.0444451938038752,
          0.23536373357264428,
          0.7917971032811066,
          -0.845858705929104,
          0.8343270423671038,
          0.6097790901690118,
          0.7039525267165768,
          0.6393981548896169,
          0.08574948357369011,
          0.37637073399467047,
          1.0084972691002347,
          -0.9192734817323133,
          0.48067034651509194,
          -1.0197757782629135,
          0.8740722830605653,
          0.7821772361068929,
          1.7790992606346112,
          0.4305457754494525,
          -1.0769886725095525,
          -0.7818106429007868,
          -0.26942613867425014,
          -0.8954769681961006,
          0.1492912378033644,
          0.644967551674688,
          -0.6063746441710487,
          -0.5744771898565509,
          2.2000950267061183,
          1.7563153646956842,
          -0.9782584567742022,
          -0.9261086505139914,
          1.8130219501436804,
          -0.9542087888386681,
          0.04752316927615699,
          -0.20284653165271893,
          2.0707331286528774,
          -0.6719416335952944,
          -0.8954769681961006,
          0.5196561240105894,
          0.5067452496451973,
          1.573537888385625,
          -0.7782664813102871,
          0.7480013921985025,
          -1.058761555758411,
          -0.9240834153194201,
          0.747748237799181,
          -0.8694020650659953,
          -0.5119480532241623,
          -0.9848404711565588,
          -0.3306895033100317,
          0.34725797807270814,
          -0.5937169242049781,
          -1.0055991319009145,
          -0.4565072397727732,
          0.3644724772265641,
          1.5515134556446624,
          -0.7010543895172566,
          0.11005230590854562,
          -0.4673928789435939,
          0.46345584736123596,
          -0.9440826128658116,
          -0.18006263571379189,
          -1.0314208806316985,
          -0.5018218772513058,
          -0.695738147131507,
          -0.9848404711565588,
          -0.24638908833600168,
          0.8166062344146049,
          0.406242953114597,
          -0.537010338756982,
          -1.0640777981441607,
          0.18473285370836198,
          -0.19094827488461258,
          -0.647132502461796,
          -0.6808020375715437,
          0.8636929526883874,
          3.3980216442950373,
          -1.0278767190411988,
          0.11612801149225949,
          -0.6628280752197235,
          0.10372344592551033,
          0.08499002037572588,
          -0.8706678370626023,
          -0.8043413844403925,
          -0.8694020650659953,
          1.2986122107225724,
          1.3198771802655709,
          -0.8423145443386042,
          0.8869831574259573,
          -1.0863553852844448,
          -0.8904138802096724,
          0.11587485709293807,
          0.9553348452427384,
          -0.38081407437567116,
          -0.7205472782650053,
          -0.7440906374018965,
          -0.20259337725339752,
          -0.5651104770816587,
          0.4178880554833819,
          -0.4215719326664184,
          0.6477522500672235,
          -0.14791202699997263,
          -0.23702237556110947,
          -0.9896504047436656,
          -0.5828312850341575,
          -0.6195386729357621,
          -1.0012955071124505,
          -1.0792670621034453,
          -0.6048557177751203,
          -0.30258936498535505,
          -0.3704347440034933,
          1.6591040753562623,
          -0.6420694144753678,
          -0.6714353247966515,
          -0.8215558835942485,
          -0.3418282968801738,
          0.0027148405962671668,
          -0.9291465033058484,
          0.4287736946542026,
          2.2193347610545455,
          0.19055540489275447,
          -0.21803579561200362,
          0.7368625986283603,
          2.1238955525103735,
          2.105668435759232,
          -0.5506806763203382,
          -0.8934517330015294,
          4.077234897674384,
          -0.5605536978938733,
          -0.9175014009370634,
          -0.6972570735274355,
          2.641089990324017,
          -0.8035819212424282,
          -0.36992843520485047,
          -0.46486133495037973,
          -0.2160105604174323,
          -0.6714353247966515,
          -0.9711701335932026,
          -0.9126914673499565,
          -0.24360438994346617,
          -0.7440906374018965,
          -0.9240834153194201,
          -0.5924511522083711,
          -0.7754817829177516,
          -0.6995354631213282,
          2.6155213959925545,
          -0.3375246720917098,
          0.5740843198646928,
          -0.7691529229347163,
          -0.8106702444234277,
          -0.8509217939155322,
          -0.13272276304068795,
          0.3072595829799251,
          0.30599381098331807,
          -0.8549722643046748,
          -0.4929614732750564,
          0.604969156581905,
          0.6669919844156508,
          -0.5491617499244098,
          2.5547643401554154,
          -0.8734525354551378,
          1.3910135664748875,
          -0.871680454659888,
          0.43408993703995225,
          0.7199012538738258,
          -0.9676259720027028,
          -1.1177465308002998,
          -0.8288973611745694,
          3.573204488625454,
          0.33637233890188745,
          -0.4246097854582753,
          -0.9980044999212723,
          -0.7463690269957892,
          -0.8992742841859218,
          -0.9306654297017768,
          0.3996609387322403,
          -0.5904259170137999,
          -0.9253491873160271,
          -0.8488965587209609,
          -1.0663561877380534,
          -0.1532282693857223,
          -0.6739668687898656,
          -0.18942934848868412,
          0.43231785624470237,
          -0.5805528954402648,
          -0.7845953412933224,
          1.0330532458344117,
          -0.3532202448496373,
          -0.3177786289446397,
          0.15562009778639968,
          -0.9126914673499565,
          0.01056262697523092,
          0.730533738645325,
          -0.8063666196349638,
          4.381779640058042,
          -0.9182608641350276,
          -0.23525029476585957,
          -0.6666253912095447,
          -0.9369942896848121,
          -0.7643429893476095,
          -0.8526938747107821,
          -0.452709923782952,
          -0.09348383114586918,
          0.55205988712373,
          -0.9326906648963481,
          -0.8185180308023915,
          1.8839051819536756,
          -0.7299139910398975,
          -0.8904138802096724,
          -1.0055991319009145,
          -0.9223113345241702,
          0.05157363966529958,
          1.6345480986220853,
          0.016132023760301973,
          -0.8868697186191726,
          0.11663432029090232,
          2.0998458845748393,
          -0.1694301509422926,
          -0.23170613317535982,
          -0.6210575993316906,
          -0.31904440094124675,
          -0.23904761075568076,
          -0.6478919656597603,
          0.37890227798788456,
          1.6178399082668722,
          0.2404268215590725,
          0.9986242475266998,
          -0.19398612767646953,
          0.18144184651718365,
          0.07537015320151225,
          -0.8030756124437854,
          -0.21854210441064642,
          -0.4215719326664184,
          1.2145649501478637,
          0.35966254363945727,
          -0.708649021496899,
          -0.08082611117979861,
          -0.8575038082978889,
          -0.337018363293067,
          -0.15879766617079333,
          -0.7894052748804292,
          -0.650170355253653,
          -0.7218130502616124
         ],
         "yaxis": "y"
        }
       ],
       "layout": {
        "coloraxis": {
         "colorbar": {
          "title": {
           "text": "labels"
          }
         },
         "colorscale": [
          [
           0,
           "#0d0887"
          ],
          [
           0.1111111111111111,
           "#46039f"
          ],
          [
           0.2222222222222222,
           "#7201a8"
          ],
          [
           0.3333333333333333,
           "#9c179e"
          ],
          [
           0.4444444444444444,
           "#bd3786"
          ],
          [
           0.5555555555555556,
           "#d8576b"
          ],
          [
           0.6666666666666666,
           "#ed7953"
          ],
          [
           0.7777777777777778,
           "#fb9f3a"
          ],
          [
           0.8888888888888888,
           "#fdca26"
          ],
          [
           1,
           "#f0f921"
          ]
         ]
        },
        "legend": {
         "tracegroupgap": 0
        },
        "margin": {
         "t": 60
        },
        "template": {
         "data": {
          "bar": [
           {
            "error_x": {
             "color": "#2a3f5f"
            },
            "error_y": {
             "color": "#2a3f5f"
            },
            "marker": {
             "line": {
              "color": "#E5ECF6",
              "width": 0.5
             }
            },
            "type": "bar"
           }
          ],
          "barpolar": [
           {
            "marker": {
             "line": {
              "color": "#E5ECF6",
              "width": 0.5
             }
            },
            "type": "barpolar"
           }
          ],
          "carpet": [
           {
            "aaxis": {
             "endlinecolor": "#2a3f5f",
             "gridcolor": "white",
             "linecolor": "white",
             "minorgridcolor": "white",
             "startlinecolor": "#2a3f5f"
            },
            "baxis": {
             "endlinecolor": "#2a3f5f",
             "gridcolor": "white",
             "linecolor": "white",
             "minorgridcolor": "white",
             "startlinecolor": "#2a3f5f"
            },
            "type": "carpet"
           }
          ],
          "choropleth": [
           {
            "colorbar": {
             "outlinewidth": 0,
             "ticks": ""
            },
            "type": "choropleth"
           }
          ],
          "contour": [
           {
            "colorbar": {
             "outlinewidth": 0,
             "ticks": ""
            },
            "colorscale": [
             [
              0,
              "#0d0887"
             ],
             [
              0.1111111111111111,
              "#46039f"
             ],
             [
              0.2222222222222222,
              "#7201a8"
             ],
             [
              0.3333333333333333,
              "#9c179e"
             ],
             [
              0.4444444444444444,
              "#bd3786"
             ],
             [
              0.5555555555555556,
              "#d8576b"
             ],
             [
              0.6666666666666666,
              "#ed7953"
             ],
             [
              0.7777777777777778,
              "#fb9f3a"
             ],
             [
              0.8888888888888888,
              "#fdca26"
             ],
             [
              1,
              "#f0f921"
             ]
            ],
            "type": "contour"
           }
          ],
          "contourcarpet": [
           {
            "colorbar": {
             "outlinewidth": 0,
             "ticks": ""
            },
            "type": "contourcarpet"
           }
          ],
          "heatmap": [
           {
            "colorbar": {
             "outlinewidth": 0,
             "ticks": ""
            },
            "colorscale": [
             [
              0,
              "#0d0887"
             ],
             [
              0.1111111111111111,
              "#46039f"
             ],
             [
              0.2222222222222222,
              "#7201a8"
             ],
             [
              0.3333333333333333,
              "#9c179e"
             ],
             [
              0.4444444444444444,
              "#bd3786"
             ],
             [
              0.5555555555555556,
              "#d8576b"
             ],
             [
              0.6666666666666666,
              "#ed7953"
             ],
             [
              0.7777777777777778,
              "#fb9f3a"
             ],
             [
              0.8888888888888888,
              "#fdca26"
             ],
             [
              1,
              "#f0f921"
             ]
            ],
            "type": "heatmap"
           }
          ],
          "heatmapgl": [
           {
            "colorbar": {
             "outlinewidth": 0,
             "ticks": ""
            },
            "colorscale": [
             [
              0,
              "#0d0887"
             ],
             [
              0.1111111111111111,
              "#46039f"
             ],
             [
              0.2222222222222222,
              "#7201a8"
             ],
             [
              0.3333333333333333,
              "#9c179e"
             ],
             [
              0.4444444444444444,
              "#bd3786"
             ],
             [
              0.5555555555555556,
              "#d8576b"
             ],
             [
              0.6666666666666666,
              "#ed7953"
             ],
             [
              0.7777777777777778,
              "#fb9f3a"
             ],
             [
              0.8888888888888888,
              "#fdca26"
             ],
             [
              1,
              "#f0f921"
             ]
            ],
            "type": "heatmapgl"
           }
          ],
          "histogram": [
           {
            "marker": {
             "colorbar": {
              "outlinewidth": 0,
              "ticks": ""
             }
            },
            "type": "histogram"
           }
          ],
          "histogram2d": [
           {
            "colorbar": {
             "outlinewidth": 0,
             "ticks": ""
            },
            "colorscale": [
             [
              0,
              "#0d0887"
             ],
             [
              0.1111111111111111,
              "#46039f"
             ],
             [
              0.2222222222222222,
              "#7201a8"
             ],
             [
              0.3333333333333333,
              "#9c179e"
             ],
             [
              0.4444444444444444,
              "#bd3786"
             ],
             [
              0.5555555555555556,
              "#d8576b"
             ],
             [
              0.6666666666666666,
              "#ed7953"
             ],
             [
              0.7777777777777778,
              "#fb9f3a"
             ],
             [
              0.8888888888888888,
              "#fdca26"
             ],
             [
              1,
              "#f0f921"
             ]
            ],
            "type": "histogram2d"
           }
          ],
          "histogram2dcontour": [
           {
            "colorbar": {
             "outlinewidth": 0,
             "ticks": ""
            },
            "colorscale": [
             [
              0,
              "#0d0887"
             ],
             [
              0.1111111111111111,
              "#46039f"
             ],
             [
              0.2222222222222222,
              "#7201a8"
             ],
             [
              0.3333333333333333,
              "#9c179e"
             ],
             [
              0.4444444444444444,
              "#bd3786"
             ],
             [
              0.5555555555555556,
              "#d8576b"
             ],
             [
              0.6666666666666666,
              "#ed7953"
             ],
             [
              0.7777777777777778,
              "#fb9f3a"
             ],
             [
              0.8888888888888888,
              "#fdca26"
             ],
             [
              1,
              "#f0f921"
             ]
            ],
            "type": "histogram2dcontour"
           }
          ],
          "mesh3d": [
           {
            "colorbar": {
             "outlinewidth": 0,
             "ticks": ""
            },
            "type": "mesh3d"
           }
          ],
          "parcoords": [
           {
            "line": {
             "colorbar": {
              "outlinewidth": 0,
              "ticks": ""
             }
            },
            "type": "parcoords"
           }
          ],
          "pie": [
           {
            "automargin": true,
            "type": "pie"
           }
          ],
          "scatter": [
           {
            "marker": {
             "colorbar": {
              "outlinewidth": 0,
              "ticks": ""
             }
            },
            "type": "scatter"
           }
          ],
          "scatter3d": [
           {
            "line": {
             "colorbar": {
              "outlinewidth": 0,
              "ticks": ""
             }
            },
            "marker": {
             "colorbar": {
              "outlinewidth": 0,
              "ticks": ""
             }
            },
            "type": "scatter3d"
           }
          ],
          "scattercarpet": [
           {
            "marker": {
             "colorbar": {
              "outlinewidth": 0,
              "ticks": ""
             }
            },
            "type": "scattercarpet"
           }
          ],
          "scattergeo": [
           {
            "marker": {
             "colorbar": {
              "outlinewidth": 0,
              "ticks": ""
             }
            },
            "type": "scattergeo"
           }
          ],
          "scattergl": [
           {
            "marker": {
             "colorbar": {
              "outlinewidth": 0,
              "ticks": ""
             }
            },
            "type": "scattergl"
           }
          ],
          "scattermapbox": [
           {
            "marker": {
             "colorbar": {
              "outlinewidth": 0,
              "ticks": ""
             }
            },
            "type": "scattermapbox"
           }
          ],
          "scatterpolar": [
           {
            "marker": {
             "colorbar": {
              "outlinewidth": 0,
              "ticks": ""
             }
            },
            "type": "scatterpolar"
           }
          ],
          "scatterpolargl": [
           {
            "marker": {
             "colorbar": {
              "outlinewidth": 0,
              "ticks": ""
             }
            },
            "type": "scatterpolargl"
           }
          ],
          "scatterternary": [
           {
            "marker": {
             "colorbar": {
              "outlinewidth": 0,
              "ticks": ""
             }
            },
            "type": "scatterternary"
           }
          ],
          "surface": [
           {
            "colorbar": {
             "outlinewidth": 0,
             "ticks": ""
            },
            "colorscale": [
             [
              0,
              "#0d0887"
             ],
             [
              0.1111111111111111,
              "#46039f"
             ],
             [
              0.2222222222222222,
              "#7201a8"
             ],
             [
              0.3333333333333333,
              "#9c179e"
             ],
             [
              0.4444444444444444,
              "#bd3786"
             ],
             [
              0.5555555555555556,
              "#d8576b"
             ],
             [
              0.6666666666666666,
              "#ed7953"
             ],
             [
              0.7777777777777778,
              "#fb9f3a"
             ],
             [
              0.8888888888888888,
              "#fdca26"
             ],
             [
              1,
              "#f0f921"
             ]
            ],
            "type": "surface"
           }
          ],
          "table": [
           {
            "cells": {
             "fill": {
              "color": "#EBF0F8"
             },
             "line": {
              "color": "white"
             }
            },
            "header": {
             "fill": {
              "color": "#C8D4E3"
             },
             "line": {
              "color": "white"
             }
            },
            "type": "table"
           }
          ]
         },
         "layout": {
          "annotationdefaults": {
           "arrowcolor": "#2a3f5f",
           "arrowhead": 0,
           "arrowwidth": 1
          },
          "coloraxis": {
           "colorbar": {
            "outlinewidth": 0,
            "ticks": ""
           }
          },
          "colorscale": {
           "diverging": [
            [
             0,
             "#8e0152"
            ],
            [
             0.1,
             "#c51b7d"
            ],
            [
             0.2,
             "#de77ae"
            ],
            [
             0.3,
             "#f1b6da"
            ],
            [
             0.4,
             "#fde0ef"
            ],
            [
             0.5,
             "#f7f7f7"
            ],
            [
             0.6,
             "#e6f5d0"
            ],
            [
             0.7,
             "#b8e186"
            ],
            [
             0.8,
             "#7fbc41"
            ],
            [
             0.9,
             "#4d9221"
            ],
            [
             1,
             "#276419"
            ]
           ],
           "sequential": [
            [
             0,
             "#0d0887"
            ],
            [
             0.1111111111111111,
             "#46039f"
            ],
            [
             0.2222222222222222,
             "#7201a8"
            ],
            [
             0.3333333333333333,
             "#9c179e"
            ],
            [
             0.4444444444444444,
             "#bd3786"
            ],
            [
             0.5555555555555556,
             "#d8576b"
            ],
            [
             0.6666666666666666,
             "#ed7953"
            ],
            [
             0.7777777777777778,
             "#fb9f3a"
            ],
            [
             0.8888888888888888,
             "#fdca26"
            ],
            [
             1,
             "#f0f921"
            ]
           ],
           "sequentialminus": [
            [
             0,
             "#0d0887"
            ],
            [
             0.1111111111111111,
             "#46039f"
            ],
            [
             0.2222222222222222,
             "#7201a8"
            ],
            [
             0.3333333333333333,
             "#9c179e"
            ],
            [
             0.4444444444444444,
             "#bd3786"
            ],
            [
             0.5555555555555556,
             "#d8576b"
            ],
            [
             0.6666666666666666,
             "#ed7953"
            ],
            [
             0.7777777777777778,
             "#fb9f3a"
            ],
            [
             0.8888888888888888,
             "#fdca26"
            ],
            [
             1,
             "#f0f921"
            ]
           ]
          },
          "colorway": [
           "#636efa",
           "#EF553B",
           "#00cc96",
           "#ab63fa",
           "#FFA15A",
           "#19d3f3",
           "#FF6692",
           "#B6E880",
           "#FF97FF",
           "#FECB52"
          ],
          "font": {
           "color": "#2a3f5f"
          },
          "geo": {
           "bgcolor": "white",
           "lakecolor": "white",
           "landcolor": "#E5ECF6",
           "showlakes": true,
           "showland": true,
           "subunitcolor": "white"
          },
          "hoverlabel": {
           "align": "left"
          },
          "hovermode": "closest",
          "mapbox": {
           "style": "light"
          },
          "paper_bgcolor": "white",
          "plot_bgcolor": "#E5ECF6",
          "polar": {
           "angularaxis": {
            "gridcolor": "white",
            "linecolor": "white",
            "ticks": ""
           },
           "bgcolor": "#E5ECF6",
           "radialaxis": {
            "gridcolor": "white",
            "linecolor": "white",
            "ticks": ""
           }
          },
          "scene": {
           "xaxis": {
            "backgroundcolor": "#E5ECF6",
            "gridcolor": "white",
            "gridwidth": 2,
            "linecolor": "white",
            "showbackground": true,
            "ticks": "",
            "zerolinecolor": "white"
           },
           "yaxis": {
            "backgroundcolor": "#E5ECF6",
            "gridcolor": "white",
            "gridwidth": 2,
            "linecolor": "white",
            "showbackground": true,
            "ticks": "",
            "zerolinecolor": "white"
           },
           "zaxis": {
            "backgroundcolor": "#E5ECF6",
            "gridcolor": "white",
            "gridwidth": 2,
            "linecolor": "white",
            "showbackground": true,
            "ticks": "",
            "zerolinecolor": "white"
           }
          },
          "shapedefaults": {
           "line": {
            "color": "#2a3f5f"
           }
          },
          "ternary": {
           "aaxis": {
            "gridcolor": "white",
            "linecolor": "white",
            "ticks": ""
           },
           "baxis": {
            "gridcolor": "white",
            "linecolor": "white",
            "ticks": ""
           },
           "bgcolor": "#E5ECF6",
           "caxis": {
            "gridcolor": "white",
            "linecolor": "white",
            "ticks": ""
           }
          },
          "title": {
           "x": 0.05
          },
          "xaxis": {
           "automargin": true,
           "gridcolor": "white",
           "linecolor": "white",
           "ticks": "",
           "title": {
            "standoff": 15
           },
           "zerolinecolor": "white",
           "zerolinewidth": 2
          },
          "yaxis": {
           "automargin": true,
           "gridcolor": "white",
           "linecolor": "white",
           "ticks": "",
           "title": {
            "standoff": 15
           },
           "zerolinecolor": "white",
           "zerolinewidth": 2
          }
         }
        },
        "xaxis": {
         "anchor": "y",
         "domain": [
          0,
          1
         ],
         "title": {
          "text": "Detergents_Paper"
         }
        },
        "yaxis": {
         "anchor": "x",
         "domain": [
          0,
          1
         ],
         "title": {
          "text": "Milk"
         }
        }
       }
      },
      "text/html": [
       "<div>\n",
       "        \n",
       "        \n",
       "            <div id=\"a28d43af-e3e9-4466-aac4-1a9e18503826\" class=\"plotly-graph-div\" style=\"height:525px; width:100%;\"></div>\n",
       "            <script type=\"text/javascript\">\n",
       "                require([\"plotly\"], function(Plotly) {\n",
       "                    window.PLOTLYENV=window.PLOTLYENV || {};\n",
       "                    \n",
       "                if (document.getElementById(\"a28d43af-e3e9-4466-aac4-1a9e18503826\")) {\n",
       "                    Plotly.newPlot(\n",
       "                        'a28d43af-e3e9-4466-aac4-1a9e18503826',\n",
       "                        [{\"hoverlabel\": {\"namelength\": 0}, \"hovertemplate\": \"Detergents_Paper=%{x}<br>Milk=%{y}<br>labels=%{marker.color}\", \"legendgroup\": \"\", \"marker\": {\"color\": [6, 6, 4, 0, 5, 6, 6, 5, 1, 2, 6, 1, 5, 6, 5, 1, 6, 5, 5, 1, 5, 1, 0, 5, 6, 1, 1, 2, 3, 5, 1, 1, 3, 1, 6, 5, 6, 2, 4, 5, 6, 2, 6, 2, 6, 1, 1, 3, 6, 3, 1, 6, 1, 6, 6, 6, 2, 1, 1, 6, 0, 1, 4, 0, 0, 6, 0, 0, 2, 1, 1, 1, 2, 5, 1, 6, 4, 0, 3, 1, 0, 6, 1, 6, 1, 1, 0, 6, 2, 6, 1, 1, 6, 2, 6, 2, 1, 2, 0, 1, 1, 1, 1, 1, 0, 1, 1, 1, 1, 6, 3, 0, 5, 1, 3, 0, 1, 1, 1, 1, 1, 5, 6, 5, 1, 5, 3, 3, 0, 1, 1, 1, 1, 3, 1, 1, 1, 1, 1, 2, 6, 1, 6, 6, 6, 1, 1, 6, 2, 5, 1, 1, 1, 6, 6, 2, 1, 6, 3, 5, 1, 1, 5, 6, 1, 1, 1, 0, 6, 6, 0, 1, 1, 6, 1, 0, 6, 7, 7, 2, 4, 7, 7, 2, 7, 7, 7, 2, 7, 7, 7, 6, 2, 7, 5, 7, 7, 6, 0, 7, 7, 7, 7, 7, 7, 0, 0, 7, 7, 7, 7, 7, 7, 7, 7, 3, 7, 7, 7, 7, 2, 7, 7, 7, 0, 7, 0, 3, 5, 3, 7, 7, 3, 7, 0, 7, 7, 2, 2, 7, 2, 7, 7, 7, 7, 3, 1, 1, 3, 0, 6, 1, 5, 3, 0, 3, 1, 0, 1, 3, 1, 1, 1, 6, 7, 7, 7, 6, 6, 1, 5, 2, 6, 6, 2, 6, 2, 7, 1, 2, 3, 7, 7, 5, 7, 7, 7, 1, 7, 7, 7, 3, 7, 1, 0, 0, 7, 2, 3, 5, 7, 0, 0, 6, 6, 6, 1, 6, 6, 6, 1, 2, 1, 2, 1, 2, 0, 1, 3, 6, 5, 1, 1, 1, 1, 1, 1, 5, 1, 1, 3, 1, 3, 0, 5, 5, 1, 1, 6, 3, 1, 6, 3, 0, 3, 1, 5, 1, 1, 1, 1, 1, 0, 1, 1, 0, 1, 1, 5, 0, 0, 1, 1, 3, 3, 0, 1, 0, 2, 6, 5, 1, 5, 6, 0, 6, 6, 6, 2, 1, 6, 6, 3, 1, 6, 6, 1, 1, 6, 1, 1, 1, 3, 1, 1], \"coloraxis\": \"coloraxis\", \"symbol\": \"circle\"}, \"mode\": \"markers\", \"name\": \"\", \"showlegend\": false, \"type\": \"scatter\", \"x\": [0.1859343947769527, 0.41123974962031506, 0.4924079146123503, -0.602816338576143, -0.14055817920446256, -0.13400648875667498, 0.3555503808141205, 0.4214312680946513, -0.16276113016640942, 1.9152166901902232, 1.3881695919459767, -0.5875290608646386, 0.6252616375813765, 1.653877037884029, 1.0536693963061545, -0.43647619776286906, 0.8534788548459779, -0.6526819825398598, 0.2197847954238553, 0.1291530775627935, 0.03488153167518309, -0.6508620685265855, 0.0792874335990768, 0.8440153019769513, 0.6696675395052702, -0.6992717812796827, -0.7509573392566737, 2.3443524145203107, -0.38442665698322315, -0.010616318656675222, -0.48888972134516984, -0.4532194066849929, -0.6559578277637536, -0.6115519258398598, 0.7555674809318188, -0.47360244363366544, 1.580716494550401, 1.744508755745091, -0.3705953104823382, 0.1499000973141209, 1.7237617359937636, 2.681036506976062, 0.8935169631380132, 1.6848155761096928, 1.076600312873411, -0.5656900927053466, -0.22755006903897565, 0.1542678909459793, 1.2549518861742956, -0.7131031277805676, -0.050654426948710536, 1.9687221621804887, -0.7047315233195056, 0.33516734386544794, 0.703153957349518, 0.6955103184937658, 2.00694035645925, -0.3334690646115418, 0.4749367400849167, 1.0838799689265084, -0.5005371710301255, -0.548582900980568, 0.7315446159565976, -0.30653433721508166, -0.5092727582938423, -0.09542431167525912, -0.7862636711141957, -0.594808716917736, 3.592813427626503, -0.6777967959230455, -0.3498482907310108, -0.5653261099026918, 2.0582619316335857, 0.5000515534681025, -0.5871650780619838, 0.6092463942645624, -0.21262677413012612, -0.7272984570841073, -0.622107427116851, -0.7622408061389746, -0.5591384022575591, 1.046389740253057, -0.7061874545301251, 0.6227137579627925, -0.7677005481787975, -0.7669725825734878, -0.7090993169513641, 2.1372461998096917, 1.6753520232406662, 0.8771377370185441, -0.24465726076375438, -0.7367620099531339, 1.6986469226105778, 2.477206137489337, 0.12442130112828025, -0.48306599650269194, -0.7258425258734879, 1.5628813372203125, -0.6115519258398598, -0.5744256799690635, -0.744405648808886, -0.6868963659894172, -0.6745209506991517, -0.671245105475258, -0.6377586876310102, -0.6905361940159659, -0.7240226118602135, -0.6912641596212756, -0.7782560494557886, -0.06812560147614413, -0.6053642181947271, -0.6603256213956119, 0.08110734761235114, -0.4008058831026921, -0.6381226704336651, -0.6435824124734881, -0.7618768233363197, -0.43975204298676285, -0.6941760220425145, -0.7702484277973817, -0.7149230417938419, 0.10331029857429799, -0.5249240188080015, -0.6967239016610985, -0.5554985742310103, -0.4379321289734885, -0.7687924965867622, -0.780075963469063, -0.6421264812628686, -0.5995404933522492, -0.7607848749283551, -0.3935262270495948, -0.6843484863708331, -0.7462255628221605, -0.725478543070833, -0.6945400048451694, -0.6592336729876473, -0.6774328131203906, -0.7848077399035763, 3.426473286813229, 1.649145261449516, -0.49216556656906363, 0.6700315223079252, 2.1525334775211964, 0.822904299422969, -0.7862636711141957, -0.7029116093062313, 0.5499171974318192, 1.7998341417486305, 1.0227308580804908, -0.1758645110619846, -0.7586009781124259, -0.7622408061389746, 1.765983741101728, 0.24635554001766052, 2.7927792273911063, -0.7316662507159658, 0.7399162204176595, -0.22973396585490485, -0.780075963469063, -0.7436776832035764, -0.6879883143973818, -0.2843313862531348, 1.7266735984150023, -0.6657853634354349, -0.7662446169681781, -0.441935939802692, 0.4716608948610229, 1.7019227678344715, 0.6784031267689871, -0.744405648808886, -0.771704359008001, -0.7192908354257003, 1.2574997657928797, -0.6581417245796828, -0.6672412946460544, 0.7828661911309338, -0.5718778003504794, -0.641034532854904, 2.837549112117655, -0.6839845035681783, -0.4401160257894177, -0.785535705508886, 2.584945047075178, -0.6825285723575588, 1.14757695939111, 0.4432702362539433, 3.7333107894512816, -0.698543815674373, -0.6999997468849923, 0.6543802617937658, 1.3808899358928794, 1.3339361543504016, -0.7400378551770277, 0.9586698848132342, -0.7560530984938418, -0.7669725825734878, 0.7293607191406684, -0.6941760220425145, -0.5005371710301255, -0.7618768233363197, -0.5103647067018069, 0.14735221769553683, -0.6916281424239304, 0.945930486720314, -0.534751554479683, -0.43975204298676285, -0.2173585505646394, -0.6839845035681783, -0.6384866532363199, -0.6690612086593287, -0.34475253149384266, -0.6363027564203907, -0.7771641010478241, -0.7611488577310099, -0.48597785892393086, -0.6373947048283554, -0.5740616971664085, -0.17513654545667487, 0.3566423292220851, 2.464102756593762, -0.6308430143805678, -0.7713403762053462, -0.5827972844301254, -0.4532194066849929, -0.7021836437009216, -0.7127391449779127, -0.6552298621584438, -0.22427422381508186, -0.7469535284274702, -0.6446743608814527, 0.520434590416775, -0.43538424935490444, -0.5034490334513645, -0.7695204621920719, -0.6312069971832226, 0.26601061136102333, 1.3892615403539414, 0.989608423038898, -0.5191002939655237, 1.5326707645999587, -0.6661493462380897, -0.7156510073991517, -0.7338501475318949, -0.7535052188752578, -0.7109192309646384, -0.5110926723071166, -0.7524132704672931, -0.5678739895212759, -0.6876243315947269, 0.5302621260884564, -0.7265704914787976, 0.05999634505836888, -0.4084495219584443, -0.6730650194885323, -0.6286591175646385, -0.341112703467294, -0.6468582576973819, -0.6253832723407448, -0.7757081698372046, -0.4361122149602142, -0.7101912653593286, -0.4870698073318955, 1.379070021879605, -0.49216556656906363, 0.0163184087397849, -0.5289278296372051, 0.5637485439327041, 0.8643983389256239, -0.6818006067522491, 0.1815666011450943, 2.398221869313231, 1.482441137833587, 2.87758722040969, 3.5014537441601314, 0.6354531560557128, 1.9636264029433206, -0.6595976557903022, -0.6938120392398597, 1.7044706474530555, -0.6523179997372048, -0.7207467666363198, -0.47542235764693974, 0.6289014656079253, -0.7571450469018064, -0.48852573854251496, -0.5303837608478246, -0.6872603487920721, -0.7043675405168508, -0.2523008996195066, -0.17622849386463948, -0.7363980271504791, -0.646494274894727, -0.7553251328885321, -0.7109192309646384, -0.608276080615966, -0.7211107494389747, 2.709063182780487, -0.7225666806495941, 0.7089776821919959, -0.7342141303345499, -0.6264752207487093, -0.5787934736009218, 1.859163338581374, 1.0915236077822605, 0.8851453586769512, -0.7083713513460543, 0.6114302910804916, 1.6149308779999585, 0.8946089115459778, -0.3563999811787984, 3.6597862633149987, -0.7243865946628685, 3.8126590404300424, -0.7545971672832223, 2.3727430731273906, -0.3021665435832233, -0.7203827838336649, -0.7840797742982666, 1.6684363499902237, -0.5922608372991519, -0.7029116093062313, -0.6170116678796829, -0.7294823539000366, -0.7222026978469392, -0.30143857797791357, -0.600268458957559, 0.8560267344645619, -0.70655143733278, -0.695631953253134, -0.7505933564540188, -0.7724323246133108, -0.5969926137336652, -0.526743932821276, -0.6428544468681784, -0.08996456963543611, -0.6741569678964968, -0.6140998054584439, 0.9109881376654467, -0.7524132704672931, -0.7626047889416294, -0.4914376009637539, -0.5689659379292404, -0.6978158500690632, -0.16458104417968375, -0.6428544468681784, -0.6847124691734879, -0.717470921412426, -0.6588696901849924, -0.7032755921088862, -0.714559058991187, -0.7047315233195056, -0.6741569678964968, -0.752777253269948, -0.7429497175982667, -0.6472222405000367, -0.7331221819265853, -0.48124608248941764, 0.44217828784597873, -0.7640607201522489, -0.7604208921257002, -0.6166476850770279, -0.7316662507159658, -0.7837157914956117, -0.5573184882442848, -0.4546753378956124, -0.5715138175478245, -0.3898863990230461, 2.081920813806152, 0.20631743172562522, -0.014620129485878753, -0.11034760658410865, -0.7018196608982668, 0.29367330436279315, -0.37423513850888684, 0.501143501876067, 1.6615206767397814, 0.4811244477300494, 1.6658884703716397, -0.21226279132747128, 1.6942791289787194, 0.4556456515442088, -0.4422999226053469, -0.13109462633543603, 0.38212112540792575, 1.0613130351619067, -0.4779702372655238, -0.7567810640991516, -0.6996357640823375, -0.3039864575964976, -0.6577777417770279, 0.07564760557252814, -0.7535052188752578, -0.7262065086761428, -0.6137358226557891], \"xaxis\": \"x\", \"y\": [1.2927896595381798, 1.3317754370336772, 1.078114728913623, -0.8488965587209609, 0.2178960800194669, 0.939132963686168, -0.3418282968801738, 0.10296398272754609, -0.22816197158486007, 1.6565725313630482, 0.21612399922421702, -0.8671236754721026, 1.9669398249310985, 0.4199132906779532, 1.2444371692677902, -0.8696552194653167, 1.0801399641081941, 0.40700241631256123, 0.4500386641972012, -0.5200489940024474, -0.007664489775910702, -0.9311717385004196, -0.6663722368102233, 1.3231681874567491, -0.08082611117979861, -0.9083878425614926, -0.9483862376542755, 4.033945495390423, -0.6200449817344049, -0.2377818387590737, -0.053232281653764764, -0.8180117220037487, 0.05992773484290615, -0.6506766640522957, 0.2384015863645012, -0.047409730469372295, 1.52062861892745, 2.830196326617111, -0.05500436244901464, -0.3757509863892429, 0.7609122665638944, 1.657078840161691, 0.6272467437221891, 2.4099600237435683, 0.4057366443159542, -0.8744651530524234, -0.12614074865833125, -0.1603165925667218, 1.499616803783773, -0.7848484956926438, -0.21930156760861066, 1.3629134281502109, -0.6529550536461884, 0.20523836005339632, -0.38081407437567116, 0.42928000345284545, 1.7851749662183252, -0.8410487723419972, -0.7633303717503238, 0.5594013647040509, 0.6862317187640781, -0.4377738142229887, -0.8311757507684621, 0.1492912378033644, 0.1981500368723968, 0.45408913458634376, -0.8638326682809242, -0.24360438994346617, 2.062632187874592, -0.8542128011067105, -0.32663903292088914, -0.9418042232719189, 1.263423749216896, 1.1854521942259013, -0.7559888941700029, -0.30942453376703316, 0.12043163628072348, -1.014459535877164, -0.18056894451243471, -1.0007891983138077, -0.4524567693836306, 1.9418775393982788, -0.4124583742908476, -0.48941731168455666, -1.0873680028817305, -1.1233159275853708, -0.5992863209900492, 0.8176188520118906, 1.5849298363550886, 0.4834550449076275, -0.6119440409561198, -0.8949706593974578, 0.45257020819041527, 1.543412514866377, 0.9740682707925229, 3.083350725938523, -0.7344707702276829, 1.6618887737487977, -0.4504315341890593, -0.5706798738667297, -0.8782624690422446, -0.9509177816474897, -0.5134669796200908, -0.1694301509422926, -0.6729542511925799, -0.5582753082999806, -0.8478839411236753, -0.3329678929039244, -1.1007851860457654, 1.5745505059829108, -0.7359896966236114, -0.685865125557972, 0.681928093975614, 1.087987750487158, -0.917248246537742, -0.537010338756982, -1.0025612791090577, -0.6372594808882609, -0.8878823362164583, -0.6752326407864726, -0.8253531995840696, 1.0201423714690196, 0.8938183262076355, -0.0739909423981205, 0.10878653391193856, -0.06816839121372803, 2.203132879497975, 0.6588910436373656, -0.7476347989923964, -0.22082049400453913, -0.6615623032231165, -0.2977794313982482, -1.0038270511056646, -0.7888989660817864, -0.6896624415477931, -0.3091713793677117, -0.8045945388397139, 1.1900089734136867, -1.1377457283466914, 1.5545513084365192, 0.18777070650021893, -0.8058603108363209, 0.5115551832323042, 0.7986322720627848, -0.22740250838689582, -1.0149658446758067, -0.6392847160828322, 0.7730636777313221, 2.0514933943044498, 0.5497814975298373, -0.34284091447745946, -0.9656007368081315, -0.9701575159959169, 1.0444451938038752, 0.23536373357264428, 0.7917971032811066, -0.845858705929104, 0.8343270423671038, 0.6097790901690118, 0.7039525267165768, 0.6393981548896169, 0.08574948357369011, 0.37637073399467047, 1.0084972691002347, -0.9192734817323133, 0.48067034651509194, -1.0197757782629135, 0.8740722830605653, 0.7821772361068929, 1.7790992606346112, 0.4305457754494525, -1.0769886725095525, -0.7818106429007868, -0.26942613867425014, -0.8954769681961006, 0.1492912378033644, 0.644967551674688, -0.6063746441710487, -0.5744771898565509, 2.2000950267061183, 1.7563153646956842, -0.9782584567742022, -0.9261086505139914, 1.8130219501436804, -0.9542087888386681, 0.04752316927615699, -0.20284653165271893, 2.0707331286528774, -0.6719416335952944, -0.8954769681961006, 0.5196561240105894, 0.5067452496451973, 1.573537888385625, -0.7782664813102871, 0.7480013921985025, -1.058761555758411, -0.9240834153194201, 0.747748237799181, -0.8694020650659953, -0.5119480532241623, -0.9848404711565588, -0.3306895033100317, 0.34725797807270814, -0.5937169242049781, -1.0055991319009145, -0.4565072397727732, 0.3644724772265641, 1.5515134556446624, -0.7010543895172566, 0.11005230590854562, -0.4673928789435939, 0.46345584736123596, -0.9440826128658116, -0.18006263571379189, -1.0314208806316985, -0.5018218772513058, -0.695738147131507, -0.9848404711565588, -0.24638908833600168, 0.8166062344146049, 0.406242953114597, -0.537010338756982, -1.0640777981441607, 0.18473285370836198, -0.19094827488461258, -0.647132502461796, -0.6808020375715437, 0.8636929526883874, 3.3980216442950373, -1.0278767190411988, 0.11612801149225949, -0.6628280752197235, 0.10372344592551033, 0.08499002037572588, -0.8706678370626023, -0.8043413844403925, -0.8694020650659953, 1.2986122107225724, 1.3198771802655709, -0.8423145443386042, 0.8869831574259573, -1.0863553852844448, -0.8904138802096724, 0.11587485709293807, 0.9553348452427384, -0.38081407437567116, -0.7205472782650053, -0.7440906374018965, -0.20259337725339752, -0.5651104770816587, 0.4178880554833819, -0.4215719326664184, 0.6477522500672235, -0.14791202699997263, -0.23702237556110947, -0.9896504047436656, -0.5828312850341575, -0.6195386729357621, -1.0012955071124505, -1.0792670621034453, -0.6048557177751203, -0.30258936498535505, -0.3704347440034933, 1.6591040753562623, -0.6420694144753678, -0.6714353247966515, -0.8215558835942485, -0.3418282968801738, 0.0027148405962671668, -0.9291465033058484, 0.4287736946542026, 2.2193347610545455, 0.19055540489275447, -0.21803579561200362, 0.7368625986283603, 2.1238955525103735, 2.105668435759232, -0.5506806763203382, -0.8934517330015294, 4.077234897674384, -0.5605536978938733, -0.9175014009370634, -0.6972570735274355, 2.641089990324017, -0.8035819212424282, -0.36992843520485047, -0.46486133495037973, -0.2160105604174323, -0.6714353247966515, -0.9711701335932026, -0.9126914673499565, -0.24360438994346617, -0.7440906374018965, -0.9240834153194201, -0.5924511522083711, -0.7754817829177516, -0.6995354631213282, 2.6155213959925545, -0.3375246720917098, 0.5740843198646928, -0.7691529229347163, -0.8106702444234277, -0.8509217939155322, -0.13272276304068795, 0.3072595829799251, 0.30599381098331807, -0.8549722643046748, -0.4929614732750564, 0.604969156581905, 0.6669919844156508, -0.5491617499244098, 2.5547643401554154, -0.8734525354551378, 1.3910135664748875, -0.871680454659888, 0.43408993703995225, 0.7199012538738258, -0.9676259720027028, -1.1177465308002998, -0.8288973611745694, 3.573204488625454, 0.33637233890188745, -0.4246097854582753, -0.9980044999212723, -0.7463690269957892, -0.8992742841859218, -0.9306654297017768, 0.3996609387322403, -0.5904259170137999, -0.9253491873160271, -0.8488965587209609, -1.0663561877380534, -0.1532282693857223, -0.6739668687898656, -0.18942934848868412, 0.43231785624470237, -0.5805528954402648, -0.7845953412933224, 1.0330532458344117, -0.3532202448496373, -0.3177786289446397, 0.15562009778639968, -0.9126914673499565, 0.01056262697523092, 0.730533738645325, -0.8063666196349638, 4.381779640058042, -0.9182608641350276, -0.23525029476585957, -0.6666253912095447, -0.9369942896848121, -0.7643429893476095, -0.8526938747107821, -0.452709923782952, -0.09348383114586918, 0.55205988712373, -0.9326906648963481, -0.8185180308023915, 1.8839051819536756, -0.7299139910398975, -0.8904138802096724, -1.0055991319009145, -0.9223113345241702, 0.05157363966529958, 1.6345480986220853, 0.016132023760301973, -0.8868697186191726, 0.11663432029090232, 2.0998458845748393, -0.1694301509422926, -0.23170613317535982, -0.6210575993316906, -0.31904440094124675, -0.23904761075568076, -0.6478919656597603, 0.37890227798788456, 1.6178399082668722, 0.2404268215590725, 0.9986242475266998, -0.19398612767646953, 0.18144184651718365, 0.07537015320151225, -0.8030756124437854, -0.21854210441064642, -0.4215719326664184, 1.2145649501478637, 0.35966254363945727, -0.708649021496899, -0.08082611117979861, -0.8575038082978889, -0.337018363293067, -0.15879766617079333, -0.7894052748804292, -0.650170355253653, -0.7218130502616124], \"yaxis\": \"y\"}],\n",
       "                        {\"coloraxis\": {\"colorbar\": {\"title\": {\"text\": \"labels\"}}, \"colorscale\": [[0.0, \"#0d0887\"], [0.1111111111111111, \"#46039f\"], [0.2222222222222222, \"#7201a8\"], [0.3333333333333333, \"#9c179e\"], [0.4444444444444444, \"#bd3786\"], [0.5555555555555556, \"#d8576b\"], [0.6666666666666666, \"#ed7953\"], [0.7777777777777778, \"#fb9f3a\"], [0.8888888888888888, \"#fdca26\"], [1.0, \"#f0f921\"]]}, \"legend\": {\"tracegroupgap\": 0}, \"margin\": {\"t\": 60}, \"template\": {\"data\": {\"bar\": [{\"error_x\": {\"color\": \"#2a3f5f\"}, \"error_y\": {\"color\": \"#2a3f5f\"}, \"marker\": {\"line\": {\"color\": \"#E5ECF6\", \"width\": 0.5}}, \"type\": \"bar\"}], \"barpolar\": [{\"marker\": {\"line\": {\"color\": \"#E5ECF6\", \"width\": 0.5}}, \"type\": \"barpolar\"}], \"carpet\": [{\"aaxis\": {\"endlinecolor\": \"#2a3f5f\", \"gridcolor\": \"white\", \"linecolor\": \"white\", \"minorgridcolor\": \"white\", \"startlinecolor\": \"#2a3f5f\"}, \"baxis\": {\"endlinecolor\": \"#2a3f5f\", \"gridcolor\": \"white\", \"linecolor\": \"white\", \"minorgridcolor\": \"white\", \"startlinecolor\": \"#2a3f5f\"}, \"type\": \"carpet\"}], \"choropleth\": [{\"colorbar\": {\"outlinewidth\": 0, \"ticks\": \"\"}, \"type\": \"choropleth\"}], \"contour\": [{\"colorbar\": {\"outlinewidth\": 0, \"ticks\": \"\"}, \"colorscale\": [[0.0, \"#0d0887\"], [0.1111111111111111, \"#46039f\"], [0.2222222222222222, \"#7201a8\"], [0.3333333333333333, \"#9c179e\"], [0.4444444444444444, \"#bd3786\"], [0.5555555555555556, \"#d8576b\"], [0.6666666666666666, \"#ed7953\"], [0.7777777777777778, \"#fb9f3a\"], [0.8888888888888888, \"#fdca26\"], [1.0, \"#f0f921\"]], \"type\": \"contour\"}], \"contourcarpet\": [{\"colorbar\": {\"outlinewidth\": 0, \"ticks\": \"\"}, \"type\": \"contourcarpet\"}], \"heatmap\": [{\"colorbar\": {\"outlinewidth\": 0, \"ticks\": \"\"}, \"colorscale\": [[0.0, \"#0d0887\"], [0.1111111111111111, \"#46039f\"], [0.2222222222222222, \"#7201a8\"], [0.3333333333333333, \"#9c179e\"], [0.4444444444444444, \"#bd3786\"], [0.5555555555555556, \"#d8576b\"], [0.6666666666666666, \"#ed7953\"], [0.7777777777777778, \"#fb9f3a\"], [0.8888888888888888, \"#fdca26\"], [1.0, \"#f0f921\"]], \"type\": \"heatmap\"}], \"heatmapgl\": [{\"colorbar\": {\"outlinewidth\": 0, \"ticks\": \"\"}, \"colorscale\": [[0.0, \"#0d0887\"], [0.1111111111111111, \"#46039f\"], [0.2222222222222222, \"#7201a8\"], [0.3333333333333333, \"#9c179e\"], [0.4444444444444444, \"#bd3786\"], [0.5555555555555556, \"#d8576b\"], [0.6666666666666666, \"#ed7953\"], [0.7777777777777778, \"#fb9f3a\"], [0.8888888888888888, \"#fdca26\"], [1.0, \"#f0f921\"]], \"type\": \"heatmapgl\"}], \"histogram\": [{\"marker\": {\"colorbar\": {\"outlinewidth\": 0, \"ticks\": \"\"}}, \"type\": \"histogram\"}], \"histogram2d\": [{\"colorbar\": {\"outlinewidth\": 0, \"ticks\": \"\"}, \"colorscale\": [[0.0, \"#0d0887\"], [0.1111111111111111, \"#46039f\"], [0.2222222222222222, \"#7201a8\"], [0.3333333333333333, \"#9c179e\"], [0.4444444444444444, \"#bd3786\"], [0.5555555555555556, \"#d8576b\"], [0.6666666666666666, \"#ed7953\"], [0.7777777777777778, \"#fb9f3a\"], [0.8888888888888888, \"#fdca26\"], [1.0, \"#f0f921\"]], \"type\": \"histogram2d\"}], \"histogram2dcontour\": [{\"colorbar\": {\"outlinewidth\": 0, \"ticks\": \"\"}, \"colorscale\": [[0.0, \"#0d0887\"], [0.1111111111111111, \"#46039f\"], [0.2222222222222222, \"#7201a8\"], [0.3333333333333333, \"#9c179e\"], [0.4444444444444444, \"#bd3786\"], [0.5555555555555556, \"#d8576b\"], [0.6666666666666666, \"#ed7953\"], [0.7777777777777778, \"#fb9f3a\"], [0.8888888888888888, \"#fdca26\"], [1.0, \"#f0f921\"]], \"type\": \"histogram2dcontour\"}], \"mesh3d\": [{\"colorbar\": {\"outlinewidth\": 0, \"ticks\": \"\"}, \"type\": \"mesh3d\"}], \"parcoords\": [{\"line\": {\"colorbar\": {\"outlinewidth\": 0, \"ticks\": \"\"}}, \"type\": \"parcoords\"}], \"pie\": [{\"automargin\": true, \"type\": \"pie\"}], \"scatter\": [{\"marker\": {\"colorbar\": {\"outlinewidth\": 0, \"ticks\": \"\"}}, \"type\": \"scatter\"}], \"scatter3d\": [{\"line\": {\"colorbar\": {\"outlinewidth\": 0, \"ticks\": \"\"}}, \"marker\": {\"colorbar\": {\"outlinewidth\": 0, \"ticks\": \"\"}}, \"type\": \"scatter3d\"}], \"scattercarpet\": [{\"marker\": {\"colorbar\": {\"outlinewidth\": 0, \"ticks\": \"\"}}, \"type\": \"scattercarpet\"}], \"scattergeo\": [{\"marker\": {\"colorbar\": {\"outlinewidth\": 0, \"ticks\": \"\"}}, \"type\": \"scattergeo\"}], \"scattergl\": [{\"marker\": {\"colorbar\": {\"outlinewidth\": 0, \"ticks\": \"\"}}, \"type\": \"scattergl\"}], \"scattermapbox\": [{\"marker\": {\"colorbar\": {\"outlinewidth\": 0, \"ticks\": \"\"}}, \"type\": \"scattermapbox\"}], \"scatterpolar\": [{\"marker\": {\"colorbar\": {\"outlinewidth\": 0, \"ticks\": \"\"}}, \"type\": \"scatterpolar\"}], \"scatterpolargl\": [{\"marker\": {\"colorbar\": {\"outlinewidth\": 0, \"ticks\": \"\"}}, \"type\": \"scatterpolargl\"}], \"scatterternary\": [{\"marker\": {\"colorbar\": {\"outlinewidth\": 0, \"ticks\": \"\"}}, \"type\": \"scatterternary\"}], \"surface\": [{\"colorbar\": {\"outlinewidth\": 0, \"ticks\": \"\"}, \"colorscale\": [[0.0, \"#0d0887\"], [0.1111111111111111, \"#46039f\"], [0.2222222222222222, \"#7201a8\"], [0.3333333333333333, \"#9c179e\"], [0.4444444444444444, \"#bd3786\"], [0.5555555555555556, \"#d8576b\"], [0.6666666666666666, \"#ed7953\"], [0.7777777777777778, \"#fb9f3a\"], [0.8888888888888888, \"#fdca26\"], [1.0, \"#f0f921\"]], \"type\": \"surface\"}], \"table\": [{\"cells\": {\"fill\": {\"color\": \"#EBF0F8\"}, \"line\": {\"color\": \"white\"}}, \"header\": {\"fill\": {\"color\": \"#C8D4E3\"}, \"line\": {\"color\": \"white\"}}, \"type\": \"table\"}]}, \"layout\": {\"annotationdefaults\": {\"arrowcolor\": \"#2a3f5f\", \"arrowhead\": 0, \"arrowwidth\": 1}, \"coloraxis\": {\"colorbar\": {\"outlinewidth\": 0, \"ticks\": \"\"}}, \"colorscale\": {\"diverging\": [[0, \"#8e0152\"], [0.1, \"#c51b7d\"], [0.2, \"#de77ae\"], [0.3, \"#f1b6da\"], [0.4, \"#fde0ef\"], [0.5, \"#f7f7f7\"], [0.6, \"#e6f5d0\"], [0.7, \"#b8e186\"], [0.8, \"#7fbc41\"], [0.9, \"#4d9221\"], [1, \"#276419\"]], \"sequential\": [[0.0, \"#0d0887\"], [0.1111111111111111, \"#46039f\"], [0.2222222222222222, \"#7201a8\"], [0.3333333333333333, \"#9c179e\"], [0.4444444444444444, \"#bd3786\"], [0.5555555555555556, \"#d8576b\"], [0.6666666666666666, \"#ed7953\"], [0.7777777777777778, \"#fb9f3a\"], [0.8888888888888888, \"#fdca26\"], [1.0, \"#f0f921\"]], \"sequentialminus\": [[0.0, \"#0d0887\"], [0.1111111111111111, \"#46039f\"], [0.2222222222222222, \"#7201a8\"], [0.3333333333333333, \"#9c179e\"], [0.4444444444444444, \"#bd3786\"], [0.5555555555555556, \"#d8576b\"], [0.6666666666666666, \"#ed7953\"], [0.7777777777777778, \"#fb9f3a\"], [0.8888888888888888, \"#fdca26\"], [1.0, \"#f0f921\"]]}, \"colorway\": [\"#636efa\", \"#EF553B\", \"#00cc96\", \"#ab63fa\", \"#FFA15A\", \"#19d3f3\", \"#FF6692\", \"#B6E880\", \"#FF97FF\", \"#FECB52\"], \"font\": {\"color\": \"#2a3f5f\"}, \"geo\": {\"bgcolor\": \"white\", \"lakecolor\": \"white\", \"landcolor\": \"#E5ECF6\", \"showlakes\": true, \"showland\": true, \"subunitcolor\": \"white\"}, \"hoverlabel\": {\"align\": \"left\"}, \"hovermode\": \"closest\", \"mapbox\": {\"style\": \"light\"}, \"paper_bgcolor\": \"white\", \"plot_bgcolor\": \"#E5ECF6\", \"polar\": {\"angularaxis\": {\"gridcolor\": \"white\", \"linecolor\": \"white\", \"ticks\": \"\"}, \"bgcolor\": \"#E5ECF6\", \"radialaxis\": {\"gridcolor\": \"white\", \"linecolor\": \"white\", \"ticks\": \"\"}}, \"scene\": {\"xaxis\": {\"backgroundcolor\": \"#E5ECF6\", \"gridcolor\": \"white\", \"gridwidth\": 2, \"linecolor\": \"white\", \"showbackground\": true, \"ticks\": \"\", \"zerolinecolor\": \"white\"}, \"yaxis\": {\"backgroundcolor\": \"#E5ECF6\", \"gridcolor\": \"white\", \"gridwidth\": 2, \"linecolor\": \"white\", \"showbackground\": true, \"ticks\": \"\", \"zerolinecolor\": \"white\"}, \"zaxis\": {\"backgroundcolor\": \"#E5ECF6\", \"gridcolor\": \"white\", \"gridwidth\": 2, \"linecolor\": \"white\", \"showbackground\": true, \"ticks\": \"\", \"zerolinecolor\": \"white\"}}, \"shapedefaults\": {\"line\": {\"color\": \"#2a3f5f\"}}, \"ternary\": {\"aaxis\": {\"gridcolor\": \"white\", \"linecolor\": \"white\", \"ticks\": \"\"}, \"baxis\": {\"gridcolor\": \"white\", \"linecolor\": \"white\", \"ticks\": \"\"}, \"bgcolor\": \"#E5ECF6\", \"caxis\": {\"gridcolor\": \"white\", \"linecolor\": \"white\", \"ticks\": \"\"}}, \"title\": {\"x\": 0.05}, \"xaxis\": {\"automargin\": true, \"gridcolor\": \"white\", \"linecolor\": \"white\", \"ticks\": \"\", \"title\": {\"standoff\": 15}, \"zerolinecolor\": \"white\", \"zerolinewidth\": 2}, \"yaxis\": {\"automargin\": true, \"gridcolor\": \"white\", \"linecolor\": \"white\", \"ticks\": \"\", \"title\": {\"standoff\": 15}, \"zerolinecolor\": \"white\", \"zerolinewidth\": 2}}}, \"xaxis\": {\"anchor\": \"y\", \"domain\": [0.0, 1.0], \"title\": {\"text\": \"Detergents_Paper\"}}, \"yaxis\": {\"anchor\": \"x\", \"domain\": [0.0, 1.0], \"title\": {\"text\": \"Milk\"}}},\n",
       "                        {\"responsive\": true}\n",
       "                    ).then(function(){\n",
       "                            \n",
       "var gd = document.getElementById('a28d43af-e3e9-4466-aac4-1a9e18503826');\n",
       "var x = new MutationObserver(function (mutations, observer) {{\n",
       "        var display = window.getComputedStyle(gd).display;\n",
       "        if (!display || display === 'none') {{\n",
       "            console.log([gd, 'removed!']);\n",
       "            Plotly.purge(gd);\n",
       "            observer.disconnect();\n",
       "        }}\n",
       "}});\n",
       "\n",
       "// Listen for the removal of the full notebook cells\n",
       "var notebookContainer = gd.closest('#notebook-container');\n",
       "if (notebookContainer) {{\n",
       "    x.observe(notebookContainer, {childList: true});\n",
       "}}\n",
       "\n",
       "// Listen for the clearing of the current output cell\n",
       "var outputEl = gd.closest('.output');\n",
       "if (outputEl) {{\n",
       "    x.observe(outputEl, {childList: true});\n",
       "}}\n",
       "\n",
       "                        })\n",
       "                };\n",
       "                });\n",
       "            </script>\n",
       "        </div>"
      ]
     },
     "metadata": {},
     "output_type": "display_data"
    }
   ],
   "source": [
    "fig = px.scatter(customers, x=\"Detergents_Paper\", y=\"Milk\", color=\"labels\")\n",
    "fig.show()"
   ]
  },
  {
   "cell_type": "markdown",
   "metadata": {},
   "source": [
    "Visualize `Grocery` as X and `Fresh` as y by `labels` and `labels_DBSCAN` respectively"
   ]
  },
  {
   "cell_type": "code",
   "execution_count": 63,
   "metadata": {},
   "outputs": [
    {
     "data": {
      "application/vnd.plotly.v1+json": {
       "config": {
        "plotlyServerURL": "https://plot.ly"
       },
       "data": [
        {
         "hoverlabel": {
          "namelength": 0
         },
         "hovertemplate": "Grocery=%{x}<br>Fresh=%{y}<br>labels_DBSCAN=%{marker.color}",
         "legendgroup": "",
         "marker": {
          "color": [
           -1,
           -1,
           -1,
           -1,
           -1,
           -1,
           -1,
           -1,
           -1,
           -1,
           -1,
           -1,
           -1,
           -1,
           -1,
           0,
           -1,
           -1,
           -1,
           -1,
           -1,
           0,
           -1,
           -1,
           -1,
           0,
           0,
           -1,
           -1,
           -1,
           -1,
           -1,
           -1,
           0,
           -1,
           -1,
           -1,
           -1,
           -1,
           -1,
           -1,
           -1,
           -1,
           -1,
           -1,
           -1,
           -1,
           -1,
           -1,
           -1,
           -1,
           -1,
           0,
           -1,
           -1,
           -1,
           -1,
           -1,
           -1,
           -1,
           -1,
           0,
           -1,
           -1,
           -1,
           -1,
           -1,
           -1,
           -1,
           0,
           0,
           0,
           -1,
           -1,
           -1,
           -1,
           -1,
           -1,
           -1,
           0,
           -1,
           -1,
           -1,
           -1,
           0,
           0,
           -1,
           -1,
           -1,
           -1,
           0,
           -1,
           -1,
           -1,
           -1,
           -1,
           0,
           -1,
           -1,
           -1,
           -1,
           0,
           0,
           -1,
           -1,
           0,
           -1,
           -1,
           0,
           -1,
           -1,
           -1,
           -1,
           -1,
           -1,
           -1,
           0,
           0,
           0,
           0,
           0,
           -1,
           -1,
           -1,
           -1,
           -1,
           -1,
           -1,
           -1,
           -1,
           0,
           0,
           0,
           -1,
           0,
           0,
           -1,
           -1,
           0,
           -1,
           -1,
           -1,
           -1,
           -1,
           -1,
           -1,
           -1,
           -1,
           -1,
           -1,
           -1,
           0,
           0,
           -1,
           -1,
           -1,
           -1,
           -1,
           -1,
           -1,
           -1,
           -1,
           -1,
           -1,
           0,
           -1,
           0,
           -1,
           -1,
           -1,
           -1,
           0,
           0,
           -1,
           0,
           -1,
           -1,
           -1,
           -1,
           -1,
           -1,
           -1,
           -1,
           -1,
           -1,
           -1,
           -1,
           -1,
           -1,
           -1,
           -1,
           -1,
           -1,
           -1,
           -1,
           -1,
           -1,
           -1,
           -1,
           -1,
           -1,
           -1,
           -1,
           -1,
           -1,
           -1,
           -1,
           -1,
           -1,
           -1,
           -1,
           -1,
           -1,
           -1,
           -1,
           -1,
           -1,
           -1,
           -1,
           -1,
           -1,
           -1,
           -1,
           -1,
           -1,
           -1,
           -1,
           -1,
           -1,
           -1,
           -1,
           -1,
           -1,
           -1,
           -1,
           -1,
           -1,
           -1,
           -1,
           -1,
           -1,
           -1,
           -1,
           -1,
           -1,
           -1,
           0,
           0,
           -1,
           -1,
           -1,
           0,
           -1,
           -1,
           -1,
           -1,
           0,
           -1,
           0,
           -1,
           0,
           -1,
           -1,
           -1,
           -1,
           -1,
           -1,
           -1,
           -1,
           -1,
           -1,
           -1,
           -1,
           -1,
           -1,
           -1,
           -1,
           -1,
           -1,
           -1,
           -1,
           -1,
           -1,
           -1,
           -1,
           -1,
           -1,
           -1,
           -1,
           -1,
           -1,
           -1,
           -1,
           -1,
           -1,
           -1,
           -1,
           -1,
           -1,
           -1,
           -1,
           -1,
           -1,
           -1,
           -1,
           -1,
           0,
           -1,
           -1,
           -1,
           0,
           -1,
           0,
           -1,
           0,
           -1,
           -1,
           0,
           -1,
           -1,
           -1,
           -1,
           -1,
           0,
           0,
           0,
           0,
           -1,
           0,
           0,
           -1,
           0,
           -1,
           -1,
           -1,
           -1,
           0,
           0,
           -1,
           -1,
           0,
           -1,
           -1,
           -1,
           -1,
           -1,
           -1,
           0,
           -1,
           -1,
           0,
           0,
           -1,
           0,
           -1,
           -1,
           0,
           0,
           -1,
           -1,
           -1,
           0,
           0,
           -1,
           -1,
           -1,
           0,
           -1,
           -1,
           -1,
           -1,
           -1,
           -1,
           -1,
           -1,
           -1,
           -1,
           -1,
           -1,
           -1,
           -1,
           -1,
           -1,
           -1,
           -1,
           -1,
           -1,
           -1,
           -1,
           -1,
           0,
           -1,
           -1,
           -1,
           0
          ],
          "coloraxis": "coloraxis",
          "symbol": "circle"
         },
         "mode": "markers",
         "name": "",
         "showlegend": false,
         "type": "scatter",
         "x": [
          0.19354171549692234,
          0.5366152012032298,
          0.21456714586158393,
          -0.37739273505567705,
          0.13149105515243326,
          -0.2226934303400775,
          0.09337177896284353,
          0.5123419401318319,
          -0.040473033846343695,
          2.128565062878786,
          1.1188315900002817,
          -0.32576932066439407,
          0.9107994863109065,
          1.4620760141648386,
          0.9678929313661664,
          -0.44576811835538954,
          0.9730210851136448,
          -0.5975614692807513,
          0.6273835225335982,
          0.5188376015453046,
          -0.31226518246270085,
          -0.7553376662448379,
          -0.33499999740985525,
          1.2586592488481938,
          0.1993536230773979,
          -0.6098690382746995,
          -0.5784163619568318,
          3.3381255934507,
          -0.6529455297535184,
          0.7996894884488737,
          -0.563373777630895,
          -0.6055955768184675,
          0.15337117780834125,
          -0.712261174766019,
          0.7969544731168852,
          -0.17107001594879456,
          1.033875176250389,
          1.7572867315613472,
          -0.28576972143406226,
          -0.08081450999317406,
          1.4584863065416036,
          3.003257153740358,
          0.6909726290023308,
          2.654029883537077,
          0.7588351969272954,
          -0.7604658199923163,
          0.09696148658607844,
          -0.09448958665311656,
          0.8723383332048181,
          -0.7661067891145426,
          -0.24337698378824052,
          0.6937076443343193,
          -0.8172173881310777,
          0.27542123699832805,
          0.24362668376396174,
          0.019697303457403306,
          1.5976302115565184,
          -0.5433739780157292,
          0.16892657750902584,
          1.2022495576259309,
          -0.41636670353651317,
          -0.8779005408095725,
          2.4979630711554828,
          -0.6440567299245558,
          0.3904628194000943,
          0.5752472927675674,
          -1.0984111519511452,
          0.01764604195841193,
          3.7796596311085935,
          -0.7455941741246288,
          -0.4741439024247702,
          -0.5845701464538059,
          1.3631026468385046,
          0.7829375195404441,
          -0.7941406962674247,
          -0.27602622931385323,
          0.2885834982835227,
          -0.4079907190822984,
          -0.18782198485722412,
          -0.8189267727135705,
          -0.6664496679552117,
          0.8366121954307184,
          -0.030216726351386818,
          0.288754436741772,
          -0.9946515077938316,
          -0.9659338468079524,
          -0.7726024505280152,
          0.9769526696533783,
          1.6817319330151648,
          0.21337057665383896,
          -0.5100409786571193,
          -0.42029828807624664,
          0.7308012897744133,
          1.4456659221729076,
          0.09439740971233922,
          3.855898183487773,
          -0.8093542190516108,
          1.904293805655729,
          -0.6768769139084178,
          -0.8026876191798887,
          -0.7570470508273307,
          -0.5881598540770409,
          -0.5254254398995546,
          -0.17927506194476006,
          -0.6951673289410909,
          -0.7319190974646863,
          -0.5156819477793455,
          -0.8428581568684699,
          -1.0570440450548193,
          0.4077276036832717,
          -0.5927751924497714,
          -0.8155080035485849,
          0.727553459067677,
          -0.445426241438891,
          -0.8408068953694785,
          -0.9794379850096456,
          -1.0452492914356188,
          -0.6751675293259249,
          -0.8878149713880308,
          -0.7273037590919558,
          -0.6560224220020054,
          0.102773394166554,
          0.3167883438946541,
          -0.23841976849901136,
          -0.527476701398546,
          0.14978147018510635,
          -0.21192430747037277,
          0.31183112860542495,
          -0.9115754170846809,
          -0.7590983123263221,
          -0.7267909437172079,
          -0.6361935608450888,
          -1.0062753229547827,
          -0.8167045727563298,
          -0.7972175885159117,
          -0.7532864047458465,
          -0.5630319007143965,
          -0.6941416981915952,
          -1.0755053985457417,
          2.22753843020512,
          1.4403668299671797,
          -0.6760222216171714,
          0.5451621241156939,
          1.4107944766900542,
          1.092848944346391,
          -1.0505483836413465,
          -0.44764844139613164,
          0.36841175828593703,
          2.295571936588334,
          0.4685816948200159,
          -0.5402970857672421,
          -0.9616603853517204,
          -0.7305515897986921,
          1.1967795269619539,
          0.018329795791409056,
          2.286512198301122,
          -0.20303550764141015,
          0.9307992859260723,
          0.018329795791409056,
          -0.32405993608190126,
          -0.2536332912831974,
          -0.6715778217026901,
          0.4202061111354693,
          0.699006736540047,
          -0.2938038289717785,
          -0.9042250633799619,
          -0.952942523981007,
          0.5795207542237993,
          0.8988337942334568,
          0.8706289486223253,
          -0.760294881534067,
          -0.8628579564836357,
          -0.7141414978067611,
          2.369759227468522,
          -0.5905529924925308,
          -0.20491583068215224,
          0.6772975523423883,
          0.06756007176720205,
          -0.7379019435034112,
          2.8543697566052337,
          0.5232820014597859,
          -0.720124343845486,
          -0.20559958451514937,
          2.9345398935241467,
          -0.936532431989076,
          -0.05807969504601966,
          -0.10098524806658925,
          1.7672011621398056,
          -0.8608066949846443,
          -0.7464488664158753,
          0.07388479472242546,
          0.8436206722189389,
          1.557117796951439,
          -0.7491838817478638,
          1.5001952903544282,
          -0.8613195103593922,
          -0.8626870180253865,
          0.720886859195955,
          -0.610723730565946,
          -0.1989329846434274,
          -0.8426872184102205,
          -0.38833279638363105,
          0.4757611100664857,
          -0.8317471570822665,
          -1.0011471692073044,
          -0.6714068832444408,
          -0.13910452425617897,
          -0.4445715491476446,
          -0.44286216456515176,
          -0.5320920397712766,
          -0.44371685685639817,
          -0.616193761229923,
          -0.5780744850403332,
          -0.9975574615840694,
          -0.9989249692500637,
          -0.45294753360185935,
          -0.6758512831589221,
          -0.6008092999874877,
          -0.22388999954782246,
          0.7501173355565821,
          1.2798556176711047,
          -0.7951663270169204,
          -1.0153350612419947,
          -0.6876460367781225,
          -0.745081358749881,
          -0.7914056809354362,
          -0.28867567522430004,
          1.8012179153314125,
          -0.2873081675583058,
          -0.8433709722432177,
          -0.2016679999754159,
          -0.7770468504424966,
          0.15508056239083406,
          -0.7302097128821935,
          -0.9119172940011795,
          -0.8122601728418485,
          0.04362868761230268,
          1.5412205203342557,
          2.6928329135596636,
          -0.6585864988757447,
          2.2936916135475918,
          -0.9043960018382111,
          -0.932258970532844,
          -0.8317471570822665,
          0.0752523023884197,
          -0.8437128491597162,
          -0.7842262656889664,
          -1.0608046911363034,
          0.09149145592210144,
          -0.6642274679979709,
          0.5581534469426392,
          -0.6833725753218904,
          -0.033122680141624596,
          -0.37209364284994934,
          -0.75482485087009,
          -0.4835455176284807,
          -0.8866184021802859,
          -0.6155100073969259,
          -0.8773877254348247,
          -1.0184119534904816,
          -0.6473045606312922,
          -0.541493654974987,
          -0.3589313815647547,
          1.0325076685843948,
          0.020722934206898993,
          -0.20423207684915512,
          -0.4761951639237616,
          0.09525210200358562,
          0.6044777691281945,
          -0.7467907433323738,
          -0.011755372860464443,
          2.388049642501195,
          0.5737088466433238,
          1.2649839718034173,
          3.135734458883551,
          0.41422326509674445,
          2.5882185771111033,
          -0.6131168689814359,
          -0.5849120233703045,
          1.2201980957421055,
          0.31644646697815554,
          -0.6878169752363718,
          0.20824242290636052,
          0.9393462088385364,
          -0.7226884207192251,
          -0.05380623358978763,
          -0.4907249328749505,
          -0.709184282517532,
          -0.21568495355185696,
          -0.5322629782295258,
          0.8827655791580243,
          -0.6777316061996642,
          -0.8543110335711717,
          -0.8144823727990892,
          -0.519613532319079,
          -0.3155130131694372,
          -0.22559938413031527,
          3.488893313626566,
          -0.8515760182391832,
          0.7455019971838515,
          -0.8715758178543491,
          -0.6526036528370198,
          -0.18748010794072556,
          0.5540509239446565,
          0.8220824264795294,
          -0.08645547911540034,
          -0.7975594654324103,
          0.325848082181866,
          1.5576306123261867,
          1.0054993921810083,
          -0.7522607739963508,
          2.4089041344076074,
          -0.7575598662020785,
          2.711978020883583,
          -0.836875310829745,
          2.5254841629336173,
          -0.6633727757067246,
          -0.7549957893283393,
          -1.0616593834275498,
          2.7082173748020986,
          -0.8151661266320863,
          -0.738414758878159,
          -0.756021420077835,
          -0.9512331393985142,
          -0.6796119292404063,
          -0.34029908961558303,
          -0.8384137569539886,
          0.2728571601245888,
          -0.8144823727990892,
          -1.007642830620777,
          -0.6876460367781225,
          -0.9821730003416341,
          -0.2519239067007046,
          -0.7674742967805368,
          -0.8184139573388226,
          0.1656787468022895,
          -0.8137986189660921,
          -0.9002934788402284,
          1.2234459264488418,
          -0.6462789298817965,
          -0.7737990197357603,
          0.6772975523423883,
          -0.7320900359229356,
          -0.8225164803368054,
          0.3487538355872697,
          -0.5091862863658728,
          1.533528289713038,
          -0.8230292957115533,
          -0.6105527921076966,
          -0.8300377724997737,
          -0.8985840942577356,
          -0.8558494796954152,
          -0.8719176947708477,
          -0.7035433133953056,
          -0.4835455176284807,
          -0.44217841073215464,
          -0.5512371470951961,
          -0.8830286945570509,
          0.4984959250136401,
          -0.8548238489459196,
          -0.9994377846248115,
          -0.9390965088628153,
          -0.887302156013283,
          -0.22867627637880233,
          -0.3119233055462023,
          -0.5102119171153685,
          -0.8994387865489819,
          -0.23978727616500561,
          2.094719248145428,
          -0.0037212653227482245,
          -0.05619937200527757,
          -0.3189317823344228,
          -0.5380748858100014,
          1.0207129149651943,
          -0.5148272554880992,
          0.36294172762196003,
          0.7656727352572666,
          0.790800688619911,
          2.084292002192222,
          -0.7189277746377409,
          1.1620790199373499,
          0.44858189520485,
          -0.38576871950989183,
          -0.3028635672589904,
          0.9919952539793151,
          1.3482310009708172,
          -0.25961613732192224,
          -0.4869642867934663,
          1.7186546399970095,
          -0.2862825368088101,
          -0.8437128491597162,
          0.2675580679188611,
          -0.9683269852234423,
          -0.7173893285134975,
          -0.6698684371201973
         ],
         "xaxis": "x",
         "y": [
          0.1770409278939235,
          -0.3752184049819434,
          -0.44449683875682056,
          0.23569142012379105,
          1.1557956186963776,
          -0.1433718283148831,
          0.12360599957040325,
          -0.32385002084773057,
          -0.4828755165582439,
          -0.4786440213134716,
          -0.7384381479692608,
          0.22398100305104904,
          2.0511996938634325,
          1.0182228198081984,
          1.3563488119253542,
          -0.06071006074258656,
          -0.9693006559747461,
          -0.49143691391394606,
          0.7607904579401892,
          -0.3040702407500739,
          0.6569712141440309,
          -0.5218446355566123,
          2.008097486486449,
          1.1589446384134174,
          0.5210713319805291,
          -0.0956444982284976,
          0.3351807618090194,
          -0.6649282189496113,
          3.170479389538791,
          0.7818495272978933,
          -0.8126369250520127,
          1.0590616692635593,
          1.8558620645408033,
          -0.9218685464868331,
          -1.0019717355390347,
          1.8781020162923974,
          0.4229596864215057,
          -0.6178897369263283,
          1.294549299978447,
          0.8173744059807493,
          -0.001961161646561515,
          -1.0076793337761696,
          -0.11808126371240667,
          -0.7643191537686822,
          0.06387303181280324,
          -0.4527630155140502,
          -0.7403078784262532,
          2.937550337343998,
          -1.0213578881720615,
          1.619685585762813,
          -0.5516619160023336,
          -0.5366056654802367,
          0.28627254932874396,
          -0.46575272184683963,
          -0.2243606791625022,
          -0.2998387455053016,
          -0.14504474503956055,
          -0.6012589765457115,
          -1.0687899976599744,
          0.8899002663388237,
          -0.828972464834157,
          -0.24778151330798626,
          0.7302843294313655,
          -0.6347173110392601,
          0.8885225702126188,
          -0.2637234256255006,
          0.9376275964252092,
          -0.9991179364204673,
          0.13138014199684542,
          -0.01022733840379117,
          -0.9082883989570987,
          -0.3803355620221332,
          -1.0481245557669003,
          -0.04998371233141951,
          0.9844692647161772,
          0.09811862123561181,
          3.1878974048486675,
          -0.29580406399284426,
          1.3810489353308857,
          0.05265464907084871,
          0.18540551151731066,
          -0.51603863045332,
          -1.0693804388569195,
          -1.0674123015337695,
          -1.030017692393921,
          -1.0201770057781714,
          -0.11926214610629661,
          0.07125354677461543,
          -0.9299379095117477,
          -0.781146727881614,
          0.31786115336530013,
          0.4641921633414965,
          -0.9265920760623929,
          -0.20399045786790057,
          -0.9190147473682657,
          -0.9313156056379527,
          0.09329668479389451,
          0.16818430993974887,
          0.8045815133802748,
          0.35112267412653375,
          0.705977833490464,
          0.025986388342167318,
          0.029824256122309656,
          -0.38181166501449565,
          0.9032836001362432,
          -0.25703175872679085,
          0.6189861638072376,
          -0.6740800575022584,
          0.13206899005994788,
          0.02952903552383717,
          2.4778918655223348,
          0.8216059012255216,
          1.0426277226152574,
          -1.0558986981933425,
          3.094115661400574,
          -0.3661649732954538,
          -0.8629228336584931,
          0.39688186688976934,
          -0.1413052841255757,
          -0.3426457322838123,
          -0.4497124026631678,
          -0.6145439034769734,
          -0.7658936636272021,
          0.26245808771862994,
          -0.5395578714649616,
          0.6645485428381581,
          1.9198265275431756,
          2.5749210355536256,
          -0.04575221708664719,
          0.7830304096917832,
          -0.3051527162778063,
          -0.16403727020795725,
          -0.4867133843383863,
          2.060843566746867,
          0.5269757439499789,
          -0.9428292089783797,
          0.7843096989518307,
          -0.7288926819519836,
          -1.0084665887054294,
          -0.8739444026681326,
          -0.6927773620721827,
          0.6793095727617825,
          -0.7881336153787962,
          -1.034741221969481,
          -0.8999238153337115,
          0.15391531434691197,
          0.4238453482169232,
          -0.5555981906486334,
          0.4669475555939064,
          -0.5951577508439467,
          -0.781737169078559,
          -0.4980301739464983,
          -0.5369008860787091,
          -1.0440898742544429,
          -0.9756971022749833,
          -1.019094530250439,
          -1.041531295734348,
          -0.8391083720483791,
          3.42161371197272,
          0.18589754584809814,
          0.01299668200937786,
          -0.7590051829961774,
          0.1462395787866273,
          -1.0013812943420897,
          -1.0374966142218907,
          -0.2656915629486505,
          -0.7735693991874868,
          -0.8297597197634169,
          -0.278484455549125,
          -0.9876043330800404,
          0.5969430257879584,
          0.2710194850743321,
          -0.527552233793747,
          -1.0519624235470426,
          -0.37029806167406865,
          0.6055044231436606,
          -0.8308421952911494,
          0.08030697846110504,
          -0.11808126371240667,
          -0.7678618009503521,
          1.410472588311977,
          -1.0123044564855719,
          -0.87719182925133,
          -0.960739258619044,
          -0.4425287014336706,
          -0.8196238125491948,
          -0.9184243061713208,
          -0.5235175522812897,
          0.7574446244908343,
          -0.35219119830108936,
          -0.743260084410978,
          -0.8372386415913866,
          -0.7935459930174584,
          0.705977833490464,
          -1.067904335864557,
          -0.6607951305709965,
          0.3823176506984599,
          -0.5386722096695441,
          -0.5736066471554552,
          -0.7951205028759784,
          -0.3538641150257668,
          0.17812340342165597,
          0.9754158330296877,
          -0.6719151064467935,
          -0.8857532266070322,
          -0.2178658259961075,
          0.019885162640402573,
          -0.8390099651822216,
          1.4851633997255165,
          -0.9748114404795659,
          0.46576667320001647,
          -0.8888038394579145,
          -0.21993237018541492,
          0.7697454827605212,
          -0.3451059039377497,
          3.6039616349625603,
          1.383509106984823,
          0.7238878831311282,
          0.03346531017013701,
          -0.4593562755466024,
          -0.7683538352811395,
          -0.19533065364604094,
          0.2656071074356698,
          0.47245834009872617,
          -0.278484455549125,
          -0.7556593495468226,
          -0.41792698489429664,
          1.8358854707108316,
          -0.04831079560674208,
          2.041359007247683,
          0.02185329996355249,
          -0.23567746877061424,
          4.166061654454177,
          -0.1650213388695322,
          -0.2963945051897892,
          1.21897282676949,
          -0.8578056766183033,
          -0.9640850920683989,
          -1.0133869320133042,
          0.9863389951731697,
          0.10215330274806914,
          0.42788002972938055,
          -0.6051952511920113,
          -0.864694157249328,
          -1.019094530250439,
          2.553369931865134,
          -0.9816999211105906,
          -1.0027589904682948,
          1.6759743132049008,
          0.08099582652420752,
          0.6386675370387367,
          -0.7384381479692608,
          0.13462756858004277,
          3.7584604148298286,
          1.4659740608248046,
          2.8915943308484473,
          -0.3661649732954538,
          0.44126336352679996,
          0.5304199842654912,
          3.140760515959227,
          -0.803189865900893,
          -0.4770695114549517,
          -0.7903969733004186,
          -0.6764418222900384,
          1.023733604313018,
          -0.32296435905231313,
          0.8086161948927322,
          -0.27356411224125016,
          -0.4046420579630347,
          -1.0259830108814638,
          0.5489204751031005,
          -0.5497921855453411,
          -0.7856734437248588,
          -0.8139162143120601,
          -1.0538321540040352,
          -1.0457627909791205,
          -0.4331800491487085,
          0.6354201104555394,
          -0.38210688561296813,
          -0.9793381563228107,
          1.8466118191219987,
          -0.10686288097045213,
          -0.024889961461258058,
          -0.9241319044084555,
          -0.3683299243509187,
          -0.9533587436572317,
          0.09152536120305958,
          -0.8951018788919942,
          -0.16876079978351705,
          0.4931237819918003,
          0.24504007240875317,
          1.4866395027178787,
          -0.6353077522362051,
          -1.016339137998029,
          0.596647805189486,
          -0.5665213527921155,
          -0.10627243977350716,
          0.03474459943018445,
          1.126864000046074,
          1.5953790898219118,
          0.3050682607648257,
          -0.14947305401664784,
          -0.8121448907212252,
          -1.032182643449386,
          -0.8413717299700014,
          -1.0445819085852304,
          -0.7702235657381319,
          -0.9517842337987118,
          -0.7969902333329708,
          1.6247043359368454,
          -0.732336922267496,
          -0.48110419296740903,
          -0.7231850837148489,
          -0.9506033514048219,
          -1.0098442848316345,
          -1.058162056114965,
          0.31185833452969286,
          -1.0509783548854676,
          1.16278250619356,
          -1.0660346054075647,
          -0.9949848480418525,
          -0.9913437939940252,
          0.8734663196905219,
          -0.6038175550658064,
          -0.8609546963353432,
          -0.6143470897446585,
          -0.8123417044535401,
          -0.6079506434444212,
          -0.12880761212357372,
          -0.7275149858257787,
          1.1282416961722788,
          -0.458470613751185,
          2.835010382807887,
          0.908794384641063,
          -0.6874633912996779,
          0.41390625473501613,
          -0.44597294174918295,
          -0.49488115422945844,
          -0.7610717271854848,
          2.747821899392346,
          -0.7523135160974677,
          -0.6713246652498486,
          1.7110071575569692,
          0.6790143521633101,
          2.3208345071349714,
          -0.8904767561825919,
          -0.01839510829486333,
          0.07528822828707275,
          -0.9509969788694519,
          0.9887991668271071,
          -0.10676447410429464,
          -0.146127220567293,
          -0.7398158440954657,
          -0.8091926847365003,
          -1.018700902785809,
          1.255875401578551,
          0.1483061229759347,
          -0.12477293061111638,
          -0.6253686587542979,
          0.06544754167132318,
          0.05629570311867605,
          -0.12378886194954143,
          -0.6321587325191652,
          1.5419441614983915,
          1.4501305553734478,
          0.7088316326090313,
          -0.3922427928271902,
          1.3969908476484,
          -0.3452043108039072,
          -0.2571301655929484,
          -0.2127486689559177,
          -0.41694291623272167,
          -0.8604626620045557,
          -1.0601301934381149,
          -0.48228507536129894,
          -0.29796901504830914,
          -0.6377679238901425,
          -0.5712448823676752,
          -1.0047271277914447,
          -0.19769241843382085,
          -0.6311746638575902,
          0.6094406977899605,
          1.5282656071024996,
          0.6588409446010234,
          0.6012729278988883,
          0.2228001206571591,
          -0.769829938273502,
          -0.2226877624378248,
          -0.7649095949656272,
          1.0083821331924487,
          -0.8746332507312351,
          0.5767696182256719,
          2.7906288861708566,
          -0.057069006694759214,
          -0.7954157234744509
         ],
         "yaxis": "y"
        }
       ],
       "layout": {
        "coloraxis": {
         "colorbar": {
          "title": {
           "text": "labels_DBSCAN"
          }
         },
         "colorscale": [
          [
           0,
           "#0d0887"
          ],
          [
           0.1111111111111111,
           "#46039f"
          ],
          [
           0.2222222222222222,
           "#7201a8"
          ],
          [
           0.3333333333333333,
           "#9c179e"
          ],
          [
           0.4444444444444444,
           "#bd3786"
          ],
          [
           0.5555555555555556,
           "#d8576b"
          ],
          [
           0.6666666666666666,
           "#ed7953"
          ],
          [
           0.7777777777777778,
           "#fb9f3a"
          ],
          [
           0.8888888888888888,
           "#fdca26"
          ],
          [
           1,
           "#f0f921"
          ]
         ]
        },
        "legend": {
         "tracegroupgap": 0
        },
        "margin": {
         "t": 60
        },
        "template": {
         "data": {
          "bar": [
           {
            "error_x": {
             "color": "#2a3f5f"
            },
            "error_y": {
             "color": "#2a3f5f"
            },
            "marker": {
             "line": {
              "color": "#E5ECF6",
              "width": 0.5
             }
            },
            "type": "bar"
           }
          ],
          "barpolar": [
           {
            "marker": {
             "line": {
              "color": "#E5ECF6",
              "width": 0.5
             }
            },
            "type": "barpolar"
           }
          ],
          "carpet": [
           {
            "aaxis": {
             "endlinecolor": "#2a3f5f",
             "gridcolor": "white",
             "linecolor": "white",
             "minorgridcolor": "white",
             "startlinecolor": "#2a3f5f"
            },
            "baxis": {
             "endlinecolor": "#2a3f5f",
             "gridcolor": "white",
             "linecolor": "white",
             "minorgridcolor": "white",
             "startlinecolor": "#2a3f5f"
            },
            "type": "carpet"
           }
          ],
          "choropleth": [
           {
            "colorbar": {
             "outlinewidth": 0,
             "ticks": ""
            },
            "type": "choropleth"
           }
          ],
          "contour": [
           {
            "colorbar": {
             "outlinewidth": 0,
             "ticks": ""
            },
            "colorscale": [
             [
              0,
              "#0d0887"
             ],
             [
              0.1111111111111111,
              "#46039f"
             ],
             [
              0.2222222222222222,
              "#7201a8"
             ],
             [
              0.3333333333333333,
              "#9c179e"
             ],
             [
              0.4444444444444444,
              "#bd3786"
             ],
             [
              0.5555555555555556,
              "#d8576b"
             ],
             [
              0.6666666666666666,
              "#ed7953"
             ],
             [
              0.7777777777777778,
              "#fb9f3a"
             ],
             [
              0.8888888888888888,
              "#fdca26"
             ],
             [
              1,
              "#f0f921"
             ]
            ],
            "type": "contour"
           }
          ],
          "contourcarpet": [
           {
            "colorbar": {
             "outlinewidth": 0,
             "ticks": ""
            },
            "type": "contourcarpet"
           }
          ],
          "heatmap": [
           {
            "colorbar": {
             "outlinewidth": 0,
             "ticks": ""
            },
            "colorscale": [
             [
              0,
              "#0d0887"
             ],
             [
              0.1111111111111111,
              "#46039f"
             ],
             [
              0.2222222222222222,
              "#7201a8"
             ],
             [
              0.3333333333333333,
              "#9c179e"
             ],
             [
              0.4444444444444444,
              "#bd3786"
             ],
             [
              0.5555555555555556,
              "#d8576b"
             ],
             [
              0.6666666666666666,
              "#ed7953"
             ],
             [
              0.7777777777777778,
              "#fb9f3a"
             ],
             [
              0.8888888888888888,
              "#fdca26"
             ],
             [
              1,
              "#f0f921"
             ]
            ],
            "type": "heatmap"
           }
          ],
          "heatmapgl": [
           {
            "colorbar": {
             "outlinewidth": 0,
             "ticks": ""
            },
            "colorscale": [
             [
              0,
              "#0d0887"
             ],
             [
              0.1111111111111111,
              "#46039f"
             ],
             [
              0.2222222222222222,
              "#7201a8"
             ],
             [
              0.3333333333333333,
              "#9c179e"
             ],
             [
              0.4444444444444444,
              "#bd3786"
             ],
             [
              0.5555555555555556,
              "#d8576b"
             ],
             [
              0.6666666666666666,
              "#ed7953"
             ],
             [
              0.7777777777777778,
              "#fb9f3a"
             ],
             [
              0.8888888888888888,
              "#fdca26"
             ],
             [
              1,
              "#f0f921"
             ]
            ],
            "type": "heatmapgl"
           }
          ],
          "histogram": [
           {
            "marker": {
             "colorbar": {
              "outlinewidth": 0,
              "ticks": ""
             }
            },
            "type": "histogram"
           }
          ],
          "histogram2d": [
           {
            "colorbar": {
             "outlinewidth": 0,
             "ticks": ""
            },
            "colorscale": [
             [
              0,
              "#0d0887"
             ],
             [
              0.1111111111111111,
              "#46039f"
             ],
             [
              0.2222222222222222,
              "#7201a8"
             ],
             [
              0.3333333333333333,
              "#9c179e"
             ],
             [
              0.4444444444444444,
              "#bd3786"
             ],
             [
              0.5555555555555556,
              "#d8576b"
             ],
             [
              0.6666666666666666,
              "#ed7953"
             ],
             [
              0.7777777777777778,
              "#fb9f3a"
             ],
             [
              0.8888888888888888,
              "#fdca26"
             ],
             [
              1,
              "#f0f921"
             ]
            ],
            "type": "histogram2d"
           }
          ],
          "histogram2dcontour": [
           {
            "colorbar": {
             "outlinewidth": 0,
             "ticks": ""
            },
            "colorscale": [
             [
              0,
              "#0d0887"
             ],
             [
              0.1111111111111111,
              "#46039f"
             ],
             [
              0.2222222222222222,
              "#7201a8"
             ],
             [
              0.3333333333333333,
              "#9c179e"
             ],
             [
              0.4444444444444444,
              "#bd3786"
             ],
             [
              0.5555555555555556,
              "#d8576b"
             ],
             [
              0.6666666666666666,
              "#ed7953"
             ],
             [
              0.7777777777777778,
              "#fb9f3a"
             ],
             [
              0.8888888888888888,
              "#fdca26"
             ],
             [
              1,
              "#f0f921"
             ]
            ],
            "type": "histogram2dcontour"
           }
          ],
          "mesh3d": [
           {
            "colorbar": {
             "outlinewidth": 0,
             "ticks": ""
            },
            "type": "mesh3d"
           }
          ],
          "parcoords": [
           {
            "line": {
             "colorbar": {
              "outlinewidth": 0,
              "ticks": ""
             }
            },
            "type": "parcoords"
           }
          ],
          "pie": [
           {
            "automargin": true,
            "type": "pie"
           }
          ],
          "scatter": [
           {
            "marker": {
             "colorbar": {
              "outlinewidth": 0,
              "ticks": ""
             }
            },
            "type": "scatter"
           }
          ],
          "scatter3d": [
           {
            "line": {
             "colorbar": {
              "outlinewidth": 0,
              "ticks": ""
             }
            },
            "marker": {
             "colorbar": {
              "outlinewidth": 0,
              "ticks": ""
             }
            },
            "type": "scatter3d"
           }
          ],
          "scattercarpet": [
           {
            "marker": {
             "colorbar": {
              "outlinewidth": 0,
              "ticks": ""
             }
            },
            "type": "scattercarpet"
           }
          ],
          "scattergeo": [
           {
            "marker": {
             "colorbar": {
              "outlinewidth": 0,
              "ticks": ""
             }
            },
            "type": "scattergeo"
           }
          ],
          "scattergl": [
           {
            "marker": {
             "colorbar": {
              "outlinewidth": 0,
              "ticks": ""
             }
            },
            "type": "scattergl"
           }
          ],
          "scattermapbox": [
           {
            "marker": {
             "colorbar": {
              "outlinewidth": 0,
              "ticks": ""
             }
            },
            "type": "scattermapbox"
           }
          ],
          "scatterpolar": [
           {
            "marker": {
             "colorbar": {
              "outlinewidth": 0,
              "ticks": ""
             }
            },
            "type": "scatterpolar"
           }
          ],
          "scatterpolargl": [
           {
            "marker": {
             "colorbar": {
              "outlinewidth": 0,
              "ticks": ""
             }
            },
            "type": "scatterpolargl"
           }
          ],
          "scatterternary": [
           {
            "marker": {
             "colorbar": {
              "outlinewidth": 0,
              "ticks": ""
             }
            },
            "type": "scatterternary"
           }
          ],
          "surface": [
           {
            "colorbar": {
             "outlinewidth": 0,
             "ticks": ""
            },
            "colorscale": [
             [
              0,
              "#0d0887"
             ],
             [
              0.1111111111111111,
              "#46039f"
             ],
             [
              0.2222222222222222,
              "#7201a8"
             ],
             [
              0.3333333333333333,
              "#9c179e"
             ],
             [
              0.4444444444444444,
              "#bd3786"
             ],
             [
              0.5555555555555556,
              "#d8576b"
             ],
             [
              0.6666666666666666,
              "#ed7953"
             ],
             [
              0.7777777777777778,
              "#fb9f3a"
             ],
             [
              0.8888888888888888,
              "#fdca26"
             ],
             [
              1,
              "#f0f921"
             ]
            ],
            "type": "surface"
           }
          ],
          "table": [
           {
            "cells": {
             "fill": {
              "color": "#EBF0F8"
             },
             "line": {
              "color": "white"
             }
            },
            "header": {
             "fill": {
              "color": "#C8D4E3"
             },
             "line": {
              "color": "white"
             }
            },
            "type": "table"
           }
          ]
         },
         "layout": {
          "annotationdefaults": {
           "arrowcolor": "#2a3f5f",
           "arrowhead": 0,
           "arrowwidth": 1
          },
          "coloraxis": {
           "colorbar": {
            "outlinewidth": 0,
            "ticks": ""
           }
          },
          "colorscale": {
           "diverging": [
            [
             0,
             "#8e0152"
            ],
            [
             0.1,
             "#c51b7d"
            ],
            [
             0.2,
             "#de77ae"
            ],
            [
             0.3,
             "#f1b6da"
            ],
            [
             0.4,
             "#fde0ef"
            ],
            [
             0.5,
             "#f7f7f7"
            ],
            [
             0.6,
             "#e6f5d0"
            ],
            [
             0.7,
             "#b8e186"
            ],
            [
             0.8,
             "#7fbc41"
            ],
            [
             0.9,
             "#4d9221"
            ],
            [
             1,
             "#276419"
            ]
           ],
           "sequential": [
            [
             0,
             "#0d0887"
            ],
            [
             0.1111111111111111,
             "#46039f"
            ],
            [
             0.2222222222222222,
             "#7201a8"
            ],
            [
             0.3333333333333333,
             "#9c179e"
            ],
            [
             0.4444444444444444,
             "#bd3786"
            ],
            [
             0.5555555555555556,
             "#d8576b"
            ],
            [
             0.6666666666666666,
             "#ed7953"
            ],
            [
             0.7777777777777778,
             "#fb9f3a"
            ],
            [
             0.8888888888888888,
             "#fdca26"
            ],
            [
             1,
             "#f0f921"
            ]
           ],
           "sequentialminus": [
            [
             0,
             "#0d0887"
            ],
            [
             0.1111111111111111,
             "#46039f"
            ],
            [
             0.2222222222222222,
             "#7201a8"
            ],
            [
             0.3333333333333333,
             "#9c179e"
            ],
            [
             0.4444444444444444,
             "#bd3786"
            ],
            [
             0.5555555555555556,
             "#d8576b"
            ],
            [
             0.6666666666666666,
             "#ed7953"
            ],
            [
             0.7777777777777778,
             "#fb9f3a"
            ],
            [
             0.8888888888888888,
             "#fdca26"
            ],
            [
             1,
             "#f0f921"
            ]
           ]
          },
          "colorway": [
           "#636efa",
           "#EF553B",
           "#00cc96",
           "#ab63fa",
           "#FFA15A",
           "#19d3f3",
           "#FF6692",
           "#B6E880",
           "#FF97FF",
           "#FECB52"
          ],
          "font": {
           "color": "#2a3f5f"
          },
          "geo": {
           "bgcolor": "white",
           "lakecolor": "white",
           "landcolor": "#E5ECF6",
           "showlakes": true,
           "showland": true,
           "subunitcolor": "white"
          },
          "hoverlabel": {
           "align": "left"
          },
          "hovermode": "closest",
          "mapbox": {
           "style": "light"
          },
          "paper_bgcolor": "white",
          "plot_bgcolor": "#E5ECF6",
          "polar": {
           "angularaxis": {
            "gridcolor": "white",
            "linecolor": "white",
            "ticks": ""
           },
           "bgcolor": "#E5ECF6",
           "radialaxis": {
            "gridcolor": "white",
            "linecolor": "white",
            "ticks": ""
           }
          },
          "scene": {
           "xaxis": {
            "backgroundcolor": "#E5ECF6",
            "gridcolor": "white",
            "gridwidth": 2,
            "linecolor": "white",
            "showbackground": true,
            "ticks": "",
            "zerolinecolor": "white"
           },
           "yaxis": {
            "backgroundcolor": "#E5ECF6",
            "gridcolor": "white",
            "gridwidth": 2,
            "linecolor": "white",
            "showbackground": true,
            "ticks": "",
            "zerolinecolor": "white"
           },
           "zaxis": {
            "backgroundcolor": "#E5ECF6",
            "gridcolor": "white",
            "gridwidth": 2,
            "linecolor": "white",
            "showbackground": true,
            "ticks": "",
            "zerolinecolor": "white"
           }
          },
          "shapedefaults": {
           "line": {
            "color": "#2a3f5f"
           }
          },
          "ternary": {
           "aaxis": {
            "gridcolor": "white",
            "linecolor": "white",
            "ticks": ""
           },
           "baxis": {
            "gridcolor": "white",
            "linecolor": "white",
            "ticks": ""
           },
           "bgcolor": "#E5ECF6",
           "caxis": {
            "gridcolor": "white",
            "linecolor": "white",
            "ticks": ""
           }
          },
          "title": {
           "x": 0.05
          },
          "xaxis": {
           "automargin": true,
           "gridcolor": "white",
           "linecolor": "white",
           "ticks": "",
           "title": {
            "standoff": 15
           },
           "zerolinecolor": "white",
           "zerolinewidth": 2
          },
          "yaxis": {
           "automargin": true,
           "gridcolor": "white",
           "linecolor": "white",
           "ticks": "",
           "title": {
            "standoff": 15
           },
           "zerolinecolor": "white",
           "zerolinewidth": 2
          }
         }
        },
        "xaxis": {
         "anchor": "y",
         "domain": [
          0,
          1
         ],
         "title": {
          "text": "Grocery"
         }
        },
        "yaxis": {
         "anchor": "x",
         "domain": [
          0,
          1
         ],
         "title": {
          "text": "Fresh"
         }
        }
       }
      },
      "text/html": [
       "<div>\n",
       "        \n",
       "        \n",
       "            <div id=\"3feeab17-c630-4885-b0ca-47a74132587b\" class=\"plotly-graph-div\" style=\"height:525px; width:100%;\"></div>\n",
       "            <script type=\"text/javascript\">\n",
       "                require([\"plotly\"], function(Plotly) {\n",
       "                    window.PLOTLYENV=window.PLOTLYENV || {};\n",
       "                    \n",
       "                if (document.getElementById(\"3feeab17-c630-4885-b0ca-47a74132587b\")) {\n",
       "                    Plotly.newPlot(\n",
       "                        '3feeab17-c630-4885-b0ca-47a74132587b',\n",
       "                        [{\"hoverlabel\": {\"namelength\": 0}, \"hovertemplate\": \"Grocery=%{x}<br>Fresh=%{y}<br>labels_DBSCAN=%{marker.color}\", \"legendgroup\": \"\", \"marker\": {\"color\": [-1, -1, -1, -1, -1, -1, -1, -1, -1, -1, -1, -1, -1, -1, -1, 0, -1, -1, -1, -1, -1, 0, -1, -1, -1, 0, 0, -1, -1, -1, -1, -1, -1, 0, -1, -1, -1, -1, -1, -1, -1, -1, -1, -1, -1, -1, -1, -1, -1, -1, -1, -1, 0, -1, -1, -1, -1, -1, -1, -1, -1, 0, -1, -1, -1, -1, -1, -1, -1, 0, 0, 0, -1, -1, -1, -1, -1, -1, -1, 0, -1, -1, -1, -1, 0, 0, -1, -1, -1, -1, 0, -1, -1, -1, -1, -1, 0, -1, -1, -1, -1, 0, 0, -1, -1, 0, -1, -1, 0, -1, -1, -1, -1, -1, -1, -1, 0, 0, 0, 0, 0, -1, -1, -1, -1, -1, -1, -1, -1, -1, 0, 0, 0, -1, 0, 0, -1, -1, 0, -1, -1, -1, -1, -1, -1, -1, -1, -1, -1, -1, -1, 0, 0, -1, -1, -1, -1, -1, -1, -1, -1, -1, -1, -1, 0, -1, 0, -1, -1, -1, -1, 0, 0, -1, 0, -1, -1, -1, -1, -1, -1, -1, -1, -1, -1, -1, -1, -1, -1, -1, -1, -1, -1, -1, -1, -1, -1, -1, -1, -1, -1, -1, -1, -1, -1, -1, -1, -1, -1, -1, -1, -1, -1, -1, -1, -1, -1, -1, -1, -1, -1, -1, -1, -1, -1, -1, -1, -1, -1, -1, -1, -1, -1, -1, -1, -1, -1, -1, -1, -1, -1, -1, -1, -1, -1, -1, 0, 0, -1, -1, -1, 0, -1, -1, -1, -1, 0, -1, 0, -1, 0, -1, -1, -1, -1, -1, -1, -1, -1, -1, -1, -1, -1, -1, -1, -1, -1, -1, -1, -1, -1, -1, -1, -1, -1, -1, -1, -1, -1, -1, -1, -1, -1, -1, -1, -1, -1, -1, -1, -1, -1, -1, -1, -1, -1, -1, 0, -1, -1, -1, 0, -1, 0, -1, 0, -1, -1, 0, -1, -1, -1, -1, -1, 0, 0, 0, 0, -1, 0, 0, -1, 0, -1, -1, -1, -1, 0, 0, -1, -1, 0, -1, -1, -1, -1, -1, -1, 0, -1, -1, 0, 0, -1, 0, -1, -1, 0, 0, -1, -1, -1, 0, 0, -1, -1, -1, 0, -1, -1, -1, -1, -1, -1, -1, -1, -1, -1, -1, -1, -1, -1, -1, -1, -1, -1, -1, -1, -1, -1, -1, 0, -1, -1, -1, 0], \"coloraxis\": \"coloraxis\", \"symbol\": \"circle\"}, \"mode\": \"markers\", \"name\": \"\", \"showlegend\": false, \"type\": \"scatter\", \"x\": [0.19354171549692234, 0.5366152012032298, 0.21456714586158393, -0.37739273505567705, 0.13149105515243326, -0.2226934303400775, 0.09337177896284353, 0.5123419401318319, -0.040473033846343695, 2.128565062878786, 1.1188315900002817, -0.32576932066439407, 0.9107994863109065, 1.4620760141648386, 0.9678929313661664, -0.44576811835538954, 0.9730210851136448, -0.5975614692807513, 0.6273835225335982, 0.5188376015453046, -0.31226518246270085, -0.7553376662448379, -0.33499999740985525, 1.2586592488481938, 0.1993536230773979, -0.6098690382746995, -0.5784163619568318, 3.3381255934507, -0.6529455297535184, 0.7996894884488737, -0.563373777630895, -0.6055955768184675, 0.15337117780834125, -0.712261174766019, 0.7969544731168852, -0.17107001594879456, 1.033875176250389, 1.7572867315613472, -0.28576972143406226, -0.08081450999317406, 1.4584863065416036, 3.003257153740358, 0.6909726290023308, 2.654029883537077, 0.7588351969272954, -0.7604658199923163, 0.09696148658607844, -0.09448958665311656, 0.8723383332048181, -0.7661067891145426, -0.24337698378824052, 0.6937076443343193, -0.8172173881310777, 0.27542123699832805, 0.24362668376396174, 0.019697303457403306, 1.5976302115565184, -0.5433739780157292, 0.16892657750902584, 1.2022495576259309, -0.41636670353651317, -0.8779005408095725, 2.4979630711554828, -0.6440567299245558, 0.3904628194000943, 0.5752472927675674, -1.0984111519511452, 0.01764604195841193, 3.7796596311085935, -0.7455941741246288, -0.4741439024247702, -0.5845701464538059, 1.3631026468385046, 0.7829375195404441, -0.7941406962674247, -0.27602622931385323, 0.2885834982835227, -0.4079907190822984, -0.18782198485722412, -0.8189267727135705, -0.6664496679552117, 0.8366121954307184, -0.030216726351386818, 0.288754436741772, -0.9946515077938316, -0.9659338468079524, -0.7726024505280152, 0.9769526696533783, 1.6817319330151648, 0.21337057665383896, -0.5100409786571193, -0.42029828807624664, 0.7308012897744133, 1.4456659221729076, 0.09439740971233922, 3.855898183487773, -0.8093542190516108, 1.904293805655729, -0.6768769139084178, -0.8026876191798887, -0.7570470508273307, -0.5881598540770409, -0.5254254398995546, -0.17927506194476006, -0.6951673289410909, -0.7319190974646863, -0.5156819477793455, -0.8428581568684699, -1.0570440450548193, 0.4077276036832717, -0.5927751924497714, -0.8155080035485849, 0.727553459067677, -0.445426241438891, -0.8408068953694785, -0.9794379850096456, -1.0452492914356188, -0.6751675293259249, -0.8878149713880308, -0.7273037590919558, -0.6560224220020054, 0.102773394166554, 0.3167883438946541, -0.23841976849901136, -0.527476701398546, 0.14978147018510635, -0.21192430747037277, 0.31183112860542495, -0.9115754170846809, -0.7590983123263221, -0.7267909437172079, -0.6361935608450888, -1.0062753229547827, -0.8167045727563298, -0.7972175885159117, -0.7532864047458465, -0.5630319007143965, -0.6941416981915952, -1.0755053985457417, 2.22753843020512, 1.4403668299671797, -0.6760222216171714, 0.5451621241156939, 1.4107944766900542, 1.092848944346391, -1.0505483836413465, -0.44764844139613164, 0.36841175828593703, 2.295571936588334, 0.4685816948200159, -0.5402970857672421, -0.9616603853517204, -0.7305515897986921, 1.1967795269619539, 0.018329795791409056, 2.286512198301122, -0.20303550764141015, 0.9307992859260723, 0.018329795791409056, -0.32405993608190126, -0.2536332912831974, -0.6715778217026901, 0.4202061111354693, 0.699006736540047, -0.2938038289717785, -0.9042250633799619, -0.952942523981007, 0.5795207542237993, 0.8988337942334568, 0.8706289486223253, -0.760294881534067, -0.8628579564836357, -0.7141414978067611, 2.369759227468522, -0.5905529924925308, -0.20491583068215224, 0.6772975523423883, 0.06756007176720205, -0.7379019435034112, 2.8543697566052337, 0.5232820014597859, -0.720124343845486, -0.20559958451514937, 2.9345398935241467, -0.936532431989076, -0.05807969504601966, -0.10098524806658925, 1.7672011621398056, -0.8608066949846443, -0.7464488664158753, 0.07388479472242546, 0.8436206722189389, 1.557117796951439, -0.7491838817478638, 1.5001952903544282, -0.8613195103593922, -0.8626870180253865, 0.720886859195955, -0.610723730565946, -0.1989329846434274, -0.8426872184102205, -0.38833279638363105, 0.4757611100664857, -0.8317471570822665, -1.0011471692073044, -0.6714068832444408, -0.13910452425617897, -0.4445715491476446, -0.44286216456515176, -0.5320920397712766, -0.44371685685639817, -0.616193761229923, -0.5780744850403332, -0.9975574615840694, -0.9989249692500637, -0.45294753360185935, -0.6758512831589221, -0.6008092999874877, -0.22388999954782246, 0.7501173355565821, 1.2798556176711047, -0.7951663270169204, -1.0153350612419947, -0.6876460367781225, -0.745081358749881, -0.7914056809354362, -0.28867567522430004, 1.8012179153314125, -0.2873081675583058, -0.8433709722432177, -0.2016679999754159, -0.7770468504424966, 0.15508056239083406, -0.7302097128821935, -0.9119172940011795, -0.8122601728418485, 0.04362868761230268, 1.5412205203342557, 2.6928329135596636, -0.6585864988757447, 2.2936916135475918, -0.9043960018382111, -0.932258970532844, -0.8317471570822665, 0.0752523023884197, -0.8437128491597162, -0.7842262656889664, -1.0608046911363034, 0.09149145592210144, -0.6642274679979709, 0.5581534469426392, -0.6833725753218904, -0.033122680141624596, -0.37209364284994934, -0.75482485087009, -0.4835455176284807, -0.8866184021802859, -0.6155100073969259, -0.8773877254348247, -1.0184119534904816, -0.6473045606312922, -0.541493654974987, -0.3589313815647547, 1.0325076685843948, 0.020722934206898993, -0.20423207684915512, -0.4761951639237616, 0.09525210200358562, 0.6044777691281945, -0.7467907433323738, -0.011755372860464443, 2.388049642501195, 0.5737088466433238, 1.2649839718034173, 3.135734458883551, 0.41422326509674445, 2.5882185771111033, -0.6131168689814359, -0.5849120233703045, 1.2201980957421055, 0.31644646697815554, -0.6878169752363718, 0.20824242290636052, 0.9393462088385364, -0.7226884207192251, -0.05380623358978763, -0.4907249328749505, -0.709184282517532, -0.21568495355185696, -0.5322629782295258, 0.8827655791580243, -0.6777316061996642, -0.8543110335711717, -0.8144823727990892, -0.519613532319079, -0.3155130131694372, -0.22559938413031527, 3.488893313626566, -0.8515760182391832, 0.7455019971838515, -0.8715758178543491, -0.6526036528370198, -0.18748010794072556, 0.5540509239446565, 0.8220824264795294, -0.08645547911540034, -0.7975594654324103, 0.325848082181866, 1.5576306123261867, 1.0054993921810083, -0.7522607739963508, 2.4089041344076074, -0.7575598662020785, 2.711978020883583, -0.836875310829745, 2.5254841629336173, -0.6633727757067246, -0.7549957893283393, -1.0616593834275498, 2.7082173748020986, -0.8151661266320863, -0.738414758878159, -0.756021420077835, -0.9512331393985142, -0.6796119292404063, -0.34029908961558303, -0.8384137569539886, 0.2728571601245888, -0.8144823727990892, -1.007642830620777, -0.6876460367781225, -0.9821730003416341, -0.2519239067007046, -0.7674742967805368, -0.8184139573388226, 0.1656787468022895, -0.8137986189660921, -0.9002934788402284, 1.2234459264488418, -0.6462789298817965, -0.7737990197357603, 0.6772975523423883, -0.7320900359229356, -0.8225164803368054, 0.3487538355872697, -0.5091862863658728, 1.533528289713038, -0.8230292957115533, -0.6105527921076966, -0.8300377724997737, -0.8985840942577356, -0.8558494796954152, -0.8719176947708477, -0.7035433133953056, -0.4835455176284807, -0.44217841073215464, -0.5512371470951961, -0.8830286945570509, 0.4984959250136401, -0.8548238489459196, -0.9994377846248115, -0.9390965088628153, -0.887302156013283, -0.22867627637880233, -0.3119233055462023, -0.5102119171153685, -0.8994387865489819, -0.23978727616500561, 2.094719248145428, -0.0037212653227482245, -0.05619937200527757, -0.3189317823344228, -0.5380748858100014, 1.0207129149651943, -0.5148272554880992, 0.36294172762196003, 0.7656727352572666, 0.790800688619911, 2.084292002192222, -0.7189277746377409, 1.1620790199373499, 0.44858189520485, -0.38576871950989183, -0.3028635672589904, 0.9919952539793151, 1.3482310009708172, -0.25961613732192224, -0.4869642867934663, 1.7186546399970095, -0.2862825368088101, -0.8437128491597162, 0.2675580679188611, -0.9683269852234423, -0.7173893285134975, -0.6698684371201973], \"xaxis\": \"x\", \"y\": [0.1770409278939235, -0.3752184049819434, -0.44449683875682056, 0.23569142012379105, 1.1557956186963776, -0.1433718283148831, 0.12360599957040325, -0.32385002084773057, -0.4828755165582439, -0.4786440213134716, -0.7384381479692608, 0.22398100305104904, 2.0511996938634325, 1.0182228198081984, 1.3563488119253542, -0.06071006074258656, -0.9693006559747461, -0.49143691391394606, 0.7607904579401892, -0.3040702407500739, 0.6569712141440309, -0.5218446355566123, 2.008097486486449, 1.1589446384134174, 0.5210713319805291, -0.0956444982284976, 0.3351807618090194, -0.6649282189496113, 3.170479389538791, 0.7818495272978933, -0.8126369250520127, 1.0590616692635593, 1.8558620645408033, -0.9218685464868331, -1.0019717355390347, 1.8781020162923974, 0.4229596864215057, -0.6178897369263283, 1.294549299978447, 0.8173744059807493, -0.001961161646561515, -1.0076793337761696, -0.11808126371240667, -0.7643191537686822, 0.06387303181280324, -0.4527630155140502, -0.7403078784262532, 2.937550337343998, -1.0213578881720615, 1.619685585762813, -0.5516619160023336, -0.5366056654802367, 0.28627254932874396, -0.46575272184683963, -0.2243606791625022, -0.2998387455053016, -0.14504474503956055, -0.6012589765457115, -1.0687899976599744, 0.8899002663388237, -0.828972464834157, -0.24778151330798626, 0.7302843294313655, -0.6347173110392601, 0.8885225702126188, -0.2637234256255006, 0.9376275964252092, -0.9991179364204673, 0.13138014199684542, -0.01022733840379117, -0.9082883989570987, -0.3803355620221332, -1.0481245557669003, -0.04998371233141951, 0.9844692647161772, 0.09811862123561181, 3.1878974048486675, -0.29580406399284426, 1.3810489353308857, 0.05265464907084871, 0.18540551151731066, -0.51603863045332, -1.0693804388569195, -1.0674123015337695, -1.030017692393921, -1.0201770057781714, -0.11926214610629661, 0.07125354677461543, -0.9299379095117477, -0.781146727881614, 0.31786115336530013, 0.4641921633414965, -0.9265920760623929, -0.20399045786790057, -0.9190147473682657, -0.9313156056379527, 0.09329668479389451, 0.16818430993974887, 0.8045815133802748, 0.35112267412653375, 0.705977833490464, 0.025986388342167318, 0.029824256122309656, -0.38181166501449565, 0.9032836001362432, -0.25703175872679085, 0.6189861638072376, -0.6740800575022584, 0.13206899005994788, 0.02952903552383717, 2.4778918655223348, 0.8216059012255216, 1.0426277226152574, -1.0558986981933425, 3.094115661400574, -0.3661649732954538, -0.8629228336584931, 0.39688186688976934, -0.1413052841255757, -0.3426457322838123, -0.4497124026631678, -0.6145439034769734, -0.7658936636272021, 0.26245808771862994, -0.5395578714649616, 0.6645485428381581, 1.9198265275431756, 2.5749210355536256, -0.04575221708664719, 0.7830304096917832, -0.3051527162778063, -0.16403727020795725, -0.4867133843383863, 2.060843566746867, 0.5269757439499789, -0.9428292089783797, 0.7843096989518307, -0.7288926819519836, -1.0084665887054294, -0.8739444026681326, -0.6927773620721827, 0.6793095727617825, -0.7881336153787962, -1.034741221969481, -0.8999238153337115, 0.15391531434691197, 0.4238453482169232, -0.5555981906486334, 0.4669475555939064, -0.5951577508439467, -0.781737169078559, -0.4980301739464983, -0.5369008860787091, -1.0440898742544429, -0.9756971022749833, -1.019094530250439, -1.041531295734348, -0.8391083720483791, 3.42161371197272, 0.18589754584809814, 0.01299668200937786, -0.7590051829961774, 0.1462395787866273, -1.0013812943420897, -1.0374966142218907, -0.2656915629486505, -0.7735693991874868, -0.8297597197634169, -0.278484455549125, -0.9876043330800404, 0.5969430257879584, 0.2710194850743321, -0.527552233793747, -1.0519624235470426, -0.37029806167406865, 0.6055044231436606, -0.8308421952911494, 0.08030697846110504, -0.11808126371240667, -0.7678618009503521, 1.410472588311977, -1.0123044564855719, -0.87719182925133, -0.960739258619044, -0.4425287014336706, -0.8196238125491948, -0.9184243061713208, -0.5235175522812897, 0.7574446244908343, -0.35219119830108936, -0.743260084410978, -0.8372386415913866, -0.7935459930174584, 0.705977833490464, -1.067904335864557, -0.6607951305709965, 0.3823176506984599, -0.5386722096695441, -0.5736066471554552, -0.7951205028759784, -0.3538641150257668, 0.17812340342165597, 0.9754158330296877, -0.6719151064467935, -0.8857532266070322, -0.2178658259961075, 0.019885162640402573, -0.8390099651822216, 1.4851633997255165, -0.9748114404795659, 0.46576667320001647, -0.8888038394579145, -0.21993237018541492, 0.7697454827605212, -0.3451059039377497, 3.6039616349625603, 1.383509106984823, 0.7238878831311282, 0.03346531017013701, -0.4593562755466024, -0.7683538352811395, -0.19533065364604094, 0.2656071074356698, 0.47245834009872617, -0.278484455549125, -0.7556593495468226, -0.41792698489429664, 1.8358854707108316, -0.04831079560674208, 2.041359007247683, 0.02185329996355249, -0.23567746877061424, 4.166061654454177, -0.1650213388695322, -0.2963945051897892, 1.21897282676949, -0.8578056766183033, -0.9640850920683989, -1.0133869320133042, 0.9863389951731697, 0.10215330274806914, 0.42788002972938055, -0.6051952511920113, -0.864694157249328, -1.019094530250439, 2.553369931865134, -0.9816999211105906, -1.0027589904682948, 1.6759743132049008, 0.08099582652420752, 0.6386675370387367, -0.7384381479692608, 0.13462756858004277, 3.7584604148298286, 1.4659740608248046, 2.8915943308484473, -0.3661649732954538, 0.44126336352679996, 0.5304199842654912, 3.140760515959227, -0.803189865900893, -0.4770695114549517, -0.7903969733004186, -0.6764418222900384, 1.023733604313018, -0.32296435905231313, 0.8086161948927322, -0.27356411224125016, -0.4046420579630347, -1.0259830108814638, 0.5489204751031005, -0.5497921855453411, -0.7856734437248588, -0.8139162143120601, -1.0538321540040352, -1.0457627909791205, -0.4331800491487085, 0.6354201104555394, -0.38210688561296813, -0.9793381563228107, 1.8466118191219987, -0.10686288097045213, -0.024889961461258058, -0.9241319044084555, -0.3683299243509187, -0.9533587436572317, 0.09152536120305958, -0.8951018788919942, -0.16876079978351705, 0.4931237819918003, 0.24504007240875317, 1.4866395027178787, -0.6353077522362051, -1.016339137998029, 0.596647805189486, -0.5665213527921155, -0.10627243977350716, 0.03474459943018445, 1.126864000046074, 1.5953790898219118, 0.3050682607648257, -0.14947305401664784, -0.8121448907212252, -1.032182643449386, -0.8413717299700014, -1.0445819085852304, -0.7702235657381319, -0.9517842337987118, -0.7969902333329708, 1.6247043359368454, -0.732336922267496, -0.48110419296740903, -0.7231850837148489, -0.9506033514048219, -1.0098442848316345, -1.058162056114965, 0.31185833452969286, -1.0509783548854676, 1.16278250619356, -1.0660346054075647, -0.9949848480418525, -0.9913437939940252, 0.8734663196905219, -0.6038175550658064, -0.8609546963353432, -0.6143470897446585, -0.8123417044535401, -0.6079506434444212, -0.12880761212357372, -0.7275149858257787, 1.1282416961722788, -0.458470613751185, 2.835010382807887, 0.908794384641063, -0.6874633912996779, 0.41390625473501613, -0.44597294174918295, -0.49488115422945844, -0.7610717271854848, 2.747821899392346, -0.7523135160974677, -0.6713246652498486, 1.7110071575569692, 0.6790143521633101, 2.3208345071349714, -0.8904767561825919, -0.01839510829486333, 0.07528822828707275, -0.9509969788694519, 0.9887991668271071, -0.10676447410429464, -0.146127220567293, -0.7398158440954657, -0.8091926847365003, -1.018700902785809, 1.255875401578551, 0.1483061229759347, -0.12477293061111638, -0.6253686587542979, 0.06544754167132318, 0.05629570311867605, -0.12378886194954143, -0.6321587325191652, 1.5419441614983915, 1.4501305553734478, 0.7088316326090313, -0.3922427928271902, 1.3969908476484, -0.3452043108039072, -0.2571301655929484, -0.2127486689559177, -0.41694291623272167, -0.8604626620045557, -1.0601301934381149, -0.48228507536129894, -0.29796901504830914, -0.6377679238901425, -0.5712448823676752, -1.0047271277914447, -0.19769241843382085, -0.6311746638575902, 0.6094406977899605, 1.5282656071024996, 0.6588409446010234, 0.6012729278988883, 0.2228001206571591, -0.769829938273502, -0.2226877624378248, -0.7649095949656272, 1.0083821331924487, -0.8746332507312351, 0.5767696182256719, 2.7906288861708566, -0.057069006694759214, -0.7954157234744509], \"yaxis\": \"y\"}],\n",
       "                        {\"coloraxis\": {\"colorbar\": {\"title\": {\"text\": \"labels_DBSCAN\"}}, \"colorscale\": [[0.0, \"#0d0887\"], [0.1111111111111111, \"#46039f\"], [0.2222222222222222, \"#7201a8\"], [0.3333333333333333, \"#9c179e\"], [0.4444444444444444, \"#bd3786\"], [0.5555555555555556, \"#d8576b\"], [0.6666666666666666, \"#ed7953\"], [0.7777777777777778, \"#fb9f3a\"], [0.8888888888888888, \"#fdca26\"], [1.0, \"#f0f921\"]]}, \"legend\": {\"tracegroupgap\": 0}, \"margin\": {\"t\": 60}, \"template\": {\"data\": {\"bar\": [{\"error_x\": {\"color\": \"#2a3f5f\"}, \"error_y\": {\"color\": \"#2a3f5f\"}, \"marker\": {\"line\": {\"color\": \"#E5ECF6\", \"width\": 0.5}}, \"type\": \"bar\"}], \"barpolar\": [{\"marker\": {\"line\": {\"color\": \"#E5ECF6\", \"width\": 0.5}}, \"type\": \"barpolar\"}], \"carpet\": [{\"aaxis\": {\"endlinecolor\": \"#2a3f5f\", \"gridcolor\": \"white\", \"linecolor\": \"white\", \"minorgridcolor\": \"white\", \"startlinecolor\": \"#2a3f5f\"}, \"baxis\": {\"endlinecolor\": \"#2a3f5f\", \"gridcolor\": \"white\", \"linecolor\": \"white\", \"minorgridcolor\": \"white\", \"startlinecolor\": \"#2a3f5f\"}, \"type\": \"carpet\"}], \"choropleth\": [{\"colorbar\": {\"outlinewidth\": 0, \"ticks\": \"\"}, \"type\": \"choropleth\"}], \"contour\": [{\"colorbar\": {\"outlinewidth\": 0, \"ticks\": \"\"}, \"colorscale\": [[0.0, \"#0d0887\"], [0.1111111111111111, \"#46039f\"], [0.2222222222222222, \"#7201a8\"], [0.3333333333333333, \"#9c179e\"], [0.4444444444444444, \"#bd3786\"], [0.5555555555555556, \"#d8576b\"], [0.6666666666666666, \"#ed7953\"], [0.7777777777777778, \"#fb9f3a\"], [0.8888888888888888, \"#fdca26\"], [1.0, \"#f0f921\"]], \"type\": \"contour\"}], \"contourcarpet\": [{\"colorbar\": {\"outlinewidth\": 0, \"ticks\": \"\"}, \"type\": \"contourcarpet\"}], \"heatmap\": [{\"colorbar\": {\"outlinewidth\": 0, \"ticks\": \"\"}, \"colorscale\": [[0.0, \"#0d0887\"], [0.1111111111111111, \"#46039f\"], [0.2222222222222222, \"#7201a8\"], [0.3333333333333333, \"#9c179e\"], [0.4444444444444444, \"#bd3786\"], [0.5555555555555556, \"#d8576b\"], [0.6666666666666666, \"#ed7953\"], [0.7777777777777778, \"#fb9f3a\"], [0.8888888888888888, \"#fdca26\"], [1.0, \"#f0f921\"]], \"type\": \"heatmap\"}], \"heatmapgl\": [{\"colorbar\": {\"outlinewidth\": 0, \"ticks\": \"\"}, \"colorscale\": [[0.0, \"#0d0887\"], [0.1111111111111111, \"#46039f\"], [0.2222222222222222, \"#7201a8\"], [0.3333333333333333, \"#9c179e\"], [0.4444444444444444, \"#bd3786\"], [0.5555555555555556, \"#d8576b\"], [0.6666666666666666, \"#ed7953\"], [0.7777777777777778, \"#fb9f3a\"], [0.8888888888888888, \"#fdca26\"], [1.0, \"#f0f921\"]], \"type\": \"heatmapgl\"}], \"histogram\": [{\"marker\": {\"colorbar\": {\"outlinewidth\": 0, \"ticks\": \"\"}}, \"type\": \"histogram\"}], \"histogram2d\": [{\"colorbar\": {\"outlinewidth\": 0, \"ticks\": \"\"}, \"colorscale\": [[0.0, \"#0d0887\"], [0.1111111111111111, \"#46039f\"], [0.2222222222222222, \"#7201a8\"], [0.3333333333333333, \"#9c179e\"], [0.4444444444444444, \"#bd3786\"], [0.5555555555555556, \"#d8576b\"], [0.6666666666666666, \"#ed7953\"], [0.7777777777777778, \"#fb9f3a\"], [0.8888888888888888, \"#fdca26\"], [1.0, \"#f0f921\"]], \"type\": \"histogram2d\"}], \"histogram2dcontour\": [{\"colorbar\": {\"outlinewidth\": 0, \"ticks\": \"\"}, \"colorscale\": [[0.0, \"#0d0887\"], [0.1111111111111111, \"#46039f\"], [0.2222222222222222, \"#7201a8\"], [0.3333333333333333, \"#9c179e\"], [0.4444444444444444, \"#bd3786\"], [0.5555555555555556, \"#d8576b\"], [0.6666666666666666, \"#ed7953\"], [0.7777777777777778, \"#fb9f3a\"], [0.8888888888888888, \"#fdca26\"], [1.0, \"#f0f921\"]], \"type\": \"histogram2dcontour\"}], \"mesh3d\": [{\"colorbar\": {\"outlinewidth\": 0, \"ticks\": \"\"}, \"type\": \"mesh3d\"}], \"parcoords\": [{\"line\": {\"colorbar\": {\"outlinewidth\": 0, \"ticks\": \"\"}}, \"type\": \"parcoords\"}], \"pie\": [{\"automargin\": true, \"type\": \"pie\"}], \"scatter\": [{\"marker\": {\"colorbar\": {\"outlinewidth\": 0, \"ticks\": \"\"}}, \"type\": \"scatter\"}], \"scatter3d\": [{\"line\": {\"colorbar\": {\"outlinewidth\": 0, \"ticks\": \"\"}}, \"marker\": {\"colorbar\": {\"outlinewidth\": 0, \"ticks\": \"\"}}, \"type\": \"scatter3d\"}], \"scattercarpet\": [{\"marker\": {\"colorbar\": {\"outlinewidth\": 0, \"ticks\": \"\"}}, \"type\": \"scattercarpet\"}], \"scattergeo\": [{\"marker\": {\"colorbar\": {\"outlinewidth\": 0, \"ticks\": \"\"}}, \"type\": \"scattergeo\"}], \"scattergl\": [{\"marker\": {\"colorbar\": {\"outlinewidth\": 0, \"ticks\": \"\"}}, \"type\": \"scattergl\"}], \"scattermapbox\": [{\"marker\": {\"colorbar\": {\"outlinewidth\": 0, \"ticks\": \"\"}}, \"type\": \"scattermapbox\"}], \"scatterpolar\": [{\"marker\": {\"colorbar\": {\"outlinewidth\": 0, \"ticks\": \"\"}}, \"type\": \"scatterpolar\"}], \"scatterpolargl\": [{\"marker\": {\"colorbar\": {\"outlinewidth\": 0, \"ticks\": \"\"}}, \"type\": \"scatterpolargl\"}], \"scatterternary\": [{\"marker\": {\"colorbar\": {\"outlinewidth\": 0, \"ticks\": \"\"}}, \"type\": \"scatterternary\"}], \"surface\": [{\"colorbar\": {\"outlinewidth\": 0, \"ticks\": \"\"}, \"colorscale\": [[0.0, \"#0d0887\"], [0.1111111111111111, \"#46039f\"], [0.2222222222222222, \"#7201a8\"], [0.3333333333333333, \"#9c179e\"], [0.4444444444444444, \"#bd3786\"], [0.5555555555555556, \"#d8576b\"], [0.6666666666666666, \"#ed7953\"], [0.7777777777777778, \"#fb9f3a\"], [0.8888888888888888, \"#fdca26\"], [1.0, \"#f0f921\"]], \"type\": \"surface\"}], \"table\": [{\"cells\": {\"fill\": {\"color\": \"#EBF0F8\"}, \"line\": {\"color\": \"white\"}}, \"header\": {\"fill\": {\"color\": \"#C8D4E3\"}, \"line\": {\"color\": \"white\"}}, \"type\": \"table\"}]}, \"layout\": {\"annotationdefaults\": {\"arrowcolor\": \"#2a3f5f\", \"arrowhead\": 0, \"arrowwidth\": 1}, \"coloraxis\": {\"colorbar\": {\"outlinewidth\": 0, \"ticks\": \"\"}}, \"colorscale\": {\"diverging\": [[0, \"#8e0152\"], [0.1, \"#c51b7d\"], [0.2, \"#de77ae\"], [0.3, \"#f1b6da\"], [0.4, \"#fde0ef\"], [0.5, \"#f7f7f7\"], [0.6, \"#e6f5d0\"], [0.7, \"#b8e186\"], [0.8, \"#7fbc41\"], [0.9, \"#4d9221\"], [1, \"#276419\"]], \"sequential\": [[0.0, \"#0d0887\"], [0.1111111111111111, \"#46039f\"], [0.2222222222222222, \"#7201a8\"], [0.3333333333333333, \"#9c179e\"], [0.4444444444444444, \"#bd3786\"], [0.5555555555555556, \"#d8576b\"], [0.6666666666666666, \"#ed7953\"], [0.7777777777777778, \"#fb9f3a\"], [0.8888888888888888, \"#fdca26\"], [1.0, \"#f0f921\"]], \"sequentialminus\": [[0.0, \"#0d0887\"], [0.1111111111111111, \"#46039f\"], [0.2222222222222222, \"#7201a8\"], [0.3333333333333333, \"#9c179e\"], [0.4444444444444444, \"#bd3786\"], [0.5555555555555556, \"#d8576b\"], [0.6666666666666666, \"#ed7953\"], [0.7777777777777778, \"#fb9f3a\"], [0.8888888888888888, \"#fdca26\"], [1.0, \"#f0f921\"]]}, \"colorway\": [\"#636efa\", \"#EF553B\", \"#00cc96\", \"#ab63fa\", \"#FFA15A\", \"#19d3f3\", \"#FF6692\", \"#B6E880\", \"#FF97FF\", \"#FECB52\"], \"font\": {\"color\": \"#2a3f5f\"}, \"geo\": {\"bgcolor\": \"white\", \"lakecolor\": \"white\", \"landcolor\": \"#E5ECF6\", \"showlakes\": true, \"showland\": true, \"subunitcolor\": \"white\"}, \"hoverlabel\": {\"align\": \"left\"}, \"hovermode\": \"closest\", \"mapbox\": {\"style\": \"light\"}, \"paper_bgcolor\": \"white\", \"plot_bgcolor\": \"#E5ECF6\", \"polar\": {\"angularaxis\": {\"gridcolor\": \"white\", \"linecolor\": \"white\", \"ticks\": \"\"}, \"bgcolor\": \"#E5ECF6\", \"radialaxis\": {\"gridcolor\": \"white\", \"linecolor\": \"white\", \"ticks\": \"\"}}, \"scene\": {\"xaxis\": {\"backgroundcolor\": \"#E5ECF6\", \"gridcolor\": \"white\", \"gridwidth\": 2, \"linecolor\": \"white\", \"showbackground\": true, \"ticks\": \"\", \"zerolinecolor\": \"white\"}, \"yaxis\": {\"backgroundcolor\": \"#E5ECF6\", \"gridcolor\": \"white\", \"gridwidth\": 2, \"linecolor\": \"white\", \"showbackground\": true, \"ticks\": \"\", \"zerolinecolor\": \"white\"}, \"zaxis\": {\"backgroundcolor\": \"#E5ECF6\", \"gridcolor\": \"white\", \"gridwidth\": 2, \"linecolor\": \"white\", \"showbackground\": true, \"ticks\": \"\", \"zerolinecolor\": \"white\"}}, \"shapedefaults\": {\"line\": {\"color\": \"#2a3f5f\"}}, \"ternary\": {\"aaxis\": {\"gridcolor\": \"white\", \"linecolor\": \"white\", \"ticks\": \"\"}, \"baxis\": {\"gridcolor\": \"white\", \"linecolor\": \"white\", \"ticks\": \"\"}, \"bgcolor\": \"#E5ECF6\", \"caxis\": {\"gridcolor\": \"white\", \"linecolor\": \"white\", \"ticks\": \"\"}}, \"title\": {\"x\": 0.05}, \"xaxis\": {\"automargin\": true, \"gridcolor\": \"white\", \"linecolor\": \"white\", \"ticks\": \"\", \"title\": {\"standoff\": 15}, \"zerolinecolor\": \"white\", \"zerolinewidth\": 2}, \"yaxis\": {\"automargin\": true, \"gridcolor\": \"white\", \"linecolor\": \"white\", \"ticks\": \"\", \"title\": {\"standoff\": 15}, \"zerolinecolor\": \"white\", \"zerolinewidth\": 2}}}, \"xaxis\": {\"anchor\": \"y\", \"domain\": [0.0, 1.0], \"title\": {\"text\": \"Grocery\"}}, \"yaxis\": {\"anchor\": \"x\", \"domain\": [0.0, 1.0], \"title\": {\"text\": \"Fresh\"}}},\n",
       "                        {\"responsive\": true}\n",
       "                    ).then(function(){\n",
       "                            \n",
       "var gd = document.getElementById('3feeab17-c630-4885-b0ca-47a74132587b');\n",
       "var x = new MutationObserver(function (mutations, observer) {{\n",
       "        var display = window.getComputedStyle(gd).display;\n",
       "        if (!display || display === 'none') {{\n",
       "            console.log([gd, 'removed!']);\n",
       "            Plotly.purge(gd);\n",
       "            observer.disconnect();\n",
       "        }}\n",
       "}});\n",
       "\n",
       "// Listen for the removal of the full notebook cells\n",
       "var notebookContainer = gd.closest('#notebook-container');\n",
       "if (notebookContainer) {{\n",
       "    x.observe(notebookContainer, {childList: true});\n",
       "}}\n",
       "\n",
       "// Listen for the clearing of the current output cell\n",
       "var outputEl = gd.closest('.output');\n",
       "if (outputEl) {{\n",
       "    x.observe(outputEl, {childList: true});\n",
       "}}\n",
       "\n",
       "                        })\n",
       "                };\n",
       "                });\n",
       "            </script>\n",
       "        </div>"
      ]
     },
     "metadata": {},
     "output_type": "display_data"
    }
   ],
   "source": [
    "import plotly.express as px\n",
    "fig = px.scatter(customers, x=\"Grocery\", y=\"Fresh\", color=\"labels_DBSCAN\")\n",
    "fig.show()"
   ]
  },
  {
   "cell_type": "markdown",
   "metadata": {},
   "source": [
    "Visualize `Frozen` as X and `Delicassen` as y by `labels` and `labels_DBSCAN` respectively"
   ]
  },
  {
   "cell_type": "code",
   "execution_count": 74,
   "metadata": {},
   "outputs": [
    {
     "data": {
      "application/vnd.plotly.v1+json": {
       "config": {
        "plotlyServerURL": "https://plot.ly"
       },
       "data": [
        {
         "hoverlabel": {
          "namelength": 0
         },
         "hovertemplate": "Frozen=%{x}<br>Delicassen=%{y}<br>labels=%{marker.color}",
         "legendgroup": "",
         "marker": {
          "color": [
           6,
           6,
           4,
           0,
           5,
           6,
           6,
           5,
           1,
           2,
           6,
           1,
           5,
           6,
           5,
           1,
           6,
           5,
           5,
           1,
           5,
           1,
           0,
           5,
           6,
           1,
           1,
           2,
           3,
           5,
           1,
           1,
           3,
           1,
           6,
           5,
           6,
           2,
           4,
           5,
           6,
           2,
           6,
           2,
           6,
           1,
           1,
           3,
           6,
           3,
           1,
           6,
           1,
           6,
           6,
           6,
           2,
           1,
           1,
           6,
           0,
           1,
           4,
           0,
           0,
           6,
           0,
           0,
           2,
           1,
           1,
           1,
           2,
           5,
           1,
           6,
           4,
           0,
           3,
           1,
           0,
           6,
           1,
           6,
           1,
           1,
           0,
           6,
           2,
           6,
           1,
           1,
           6,
           2,
           6,
           2,
           1,
           2,
           0,
           1,
           1,
           1,
           1,
           1,
           0,
           1,
           1,
           1,
           1,
           6,
           3,
           0,
           5,
           1,
           3,
           0,
           1,
           1,
           1,
           1,
           1,
           5,
           6,
           5,
           1,
           5,
           3,
           3,
           0,
           1,
           1,
           1,
           1,
           3,
           1,
           1,
           1,
           1,
           1,
           2,
           6,
           1,
           6,
           6,
           6,
           1,
           1,
           6,
           2,
           5,
           1,
           1,
           1,
           6,
           6,
           2,
           1,
           6,
           3,
           5,
           1,
           1,
           5,
           6,
           1,
           1,
           1,
           0,
           6,
           6,
           0,
           1,
           1,
           6,
           1,
           0,
           6,
           7,
           7,
           2,
           4,
           7,
           7,
           2,
           7,
           7,
           7,
           2,
           7,
           7,
           7,
           6,
           2,
           7,
           5,
           7,
           7,
           6,
           0,
           7,
           7,
           7,
           7,
           7,
           7,
           0,
           0,
           7,
           7,
           7,
           7,
           7,
           7,
           7,
           7,
           3,
           7,
           7,
           7,
           7,
           2,
           7,
           7,
           7,
           0,
           7,
           0,
           3,
           5,
           3,
           7,
           7,
           3,
           7,
           0,
           7,
           7,
           2,
           2,
           7,
           2,
           7,
           7,
           7,
           7,
           3,
           1,
           1,
           3,
           0,
           6,
           1,
           5,
           3,
           0,
           3,
           1,
           0,
           1,
           3,
           1,
           1,
           1,
           6,
           7,
           7,
           7,
           6,
           6,
           1,
           5,
           2,
           6,
           6,
           2,
           6,
           2,
           7,
           1,
           2,
           3,
           7,
           7,
           5,
           7,
           7,
           7,
           1,
           7,
           7,
           7,
           3,
           7,
           1,
           0,
           0,
           7,
           2,
           3,
           5,
           7,
           0,
           0,
           6,
           6,
           6,
           1,
           6,
           6,
           6,
           1,
           2,
           1,
           2,
           1,
           2,
           0,
           1,
           3,
           6,
           5,
           1,
           1,
           1,
           1,
           1,
           1,
           5,
           1,
           1,
           3,
           1,
           3,
           0,
           5,
           5,
           1,
           1,
           6,
           3,
           1,
           6,
           3,
           0,
           3,
           1,
           5,
           1,
           1,
           1,
           1,
           1,
           0,
           1,
           1,
           0,
           1,
           1,
           5,
           0,
           0,
           1,
           1,
           3,
           3,
           0,
           1,
           0,
           2,
           6,
           5,
           1,
           5,
           6,
           0,
           6,
           6,
           6,
           2,
           1,
           6,
           6,
           3,
           1,
           6,
           6,
           1,
           1,
           6,
           1,
           1,
           1,
           3,
           1,
           1
          ],
          "coloraxis": "coloraxis",
          "symbol": "circle"
         },
         "mode": "markers",
         "name": "",
         "showlegend": false,
         "type": "scatter",
         "x": [
          -0.9011783301328619,
          -0.22276576324318298,
          0.05902963760311129,
          1.8115954354014485,
          0.7207886660290901,
          -0.7030888726172709,
          -0.784603560886961,
          -0.26352310737802803,
          -0.8087073665581059,
          -0.48703112360137185,
          0.9333404069473681,
          -0.37264760941648417,
          -0.8691860062420695,
          0.3614228360229294,
          -0.8661182491566511,
          -0.8209783948997798,
          -0.9362384111090727,
          -0.6272714475062151,
          -0.0286205648374157,
          -0.701774119580663,
          -0.5277884677362169,
          0.4876391275372883,
          3.128101476058164,
          0.2825376538264551,
          -0.9068755932914961,
          0.385964892706277,
          -0.7824123058259478,
          -0.4874693746135745,
          -0.4690628321010638,
          -0.4918518847356009,
          -0.079895933265124,
          -0.8783892774983248,
          1.6915146580579266,
          -0.8087073665581059,
          -0.6299009535794309,
          -0.23722804664586994,
          -0.15352210331516666,
          -0.9805017633415388,
          3.172803079302833,
          -0.10399973893626892,
          -0.9125728564501304,
          -0.6500605001407521,
          -0.7578702491426003,
          -0.26396135839023066,
          -0.739025455617887,
          0.6966848603579452,
          -0.890222054827796,
          -0.761814508252424,
          -0.6689052936654654,
          0.07261541898139298,
          -0.5317327268460407,
          -0.9783105082805257,
          -0.7337664434714554,
          -0.9384296661700858,
          -0.9528919495727728,
          0.8255306579455198,
          0.2742108845946051,
          0.6370827226983868,
          -0.9182701196087647,
          -0.4445207754177163,
          1.5775693948852414,
          -0.6535665082383731,
          1.3597586418205319,
          2.8931989335175516,
          2.5688931844876017,
          -0.43181149606383984,
          0.9364081640327865,
          2.3050660751416157,
          -0.614123917140136,
          -0.07638992516750291,
          -0.6145621681523387,
          -0.8065161114970928,
          -0.8709390102908801,
          -0.6719730507508839,
          0.021778301565887323,
          -0.4787043543695218,
          1.771276342278806,
          3.2714095570484254,
          0.5139341882694464,
          0.47186209109799343,
          2.81475200233328,
          -0.904684338230483,
          -0.8021336013750664,
          -0.9314176499748438,
          -0.6557577632993863,
          -0.6027293908228675,
          1.4763334110664328,
          0.4302282449387431,
          -0.2968301843054283,
          0.12739679550672234,
          -0.40946069444150546,
          -0.5961556256398279,
          -0.9366766621212753,
          0.0879542044084852,
          -0.8867160467301749,
          -0.7000211155318524,
          0.0024952570289713837,
          -0.6421719819211047,
          2.8848721642857016,
          0.4162042125482588,
          0.12476728943350654,
          0.19488745138592814,
          -0.33013726123282855,
          -0.273164629646486,
          1.3466111114544528,
          0.71246189679724,
          0.06428864974954292,
          0.054647127481084946,
          -0.12240628144877957,
          -0.03344132597164468,
          1.1029435486697878,
          2.596502998256368,
          -0.609303156005907,
          -0.9327324030114517,
          -0.24204880778009893,
          1.7730293463276166,
          -0.8433291965221141,
          -0.742531463715508,
          -0.8038866054238769,
          -0.6794233179583287,
          -0.4822103624671429,
          1.010034334082829,
          -0.7052801276782841,
          -0.9270351398528174,
          -0.6334069616770519,
          0.0038100100655792885,
          -0.85428547182718,
          0.3175977348026659,
          2.697300731062974,
          -0.9432504273043149,
          -0.5891436094445858,
          -0.4313732450516372,
          0.7808290547008511,
          -0.6443632369821178,
          -0.6211359333353782,
          -0.7622527592646267,
          0.3202272408758817,
          -0.6535665082383731,
          -0.9620952208290282,
          -0.8928515609010118,
          -0.8560384758759905,
          0.48544787247627513,
          -0.5873906053957753,
          -0.8205401438875771,
          -0.6338452126892545,
          -0.5163939414189485,
          0.1729749007757964,
          0.11819352425046702,
          0.9442966822524339,
          -0.5597807916270092,
          -0.8174723868021586,
          -0.3844803867459553,
          0.05640013152989548,
          -0.5058759171260852,
          -0.8490264596807483,
          -0.5843228483103569,
          0.10723724894540114,
          -0.9721749941096888,
          2.2340694111647887,
          -0.22714827336520935,
          -0.4900988806867903,
          0.9670857348869709,
          -0.8187871398387665,
          -0.8008188483384585,
          -0.9625334718412308,
          -0.039138589130278935,
          0.5257669655989176,
          1.7524315487540927,
          0.21373224491064144,
          -0.8744450183885012,
          2.2182923747254937,
          -0.6049206458838807,
          -0.7552407430693845,
          -0.5746813260418988,
          -0.641733730908902,
          2.4619599375101586,
          -0.5010551559918562,
          0.5507472732944677,
          -0.7670735203988556,
          0.7321831923463586,
          1.2247773300621203,
          -0.78942432202119,
          -0.38886289686798164,
          -0.5764343300907094,
          -0.6101796580303123,
          0.29612343520473683,
          -0.18025541505952739,
          -0.6163151722011492,
          -0.20567397376728022,
          -0.42918198999062407,
          -0.4125284515269239,
          -0.59484087260322,
          -0.39280715597780536,
          0.11468751615284593,
          -0.43181149606383984,
          0.01564278739505043,
          -0.2214510102065751,
          -0.955083204633786,
          2.290165540726726,
          1.4645006337369617,
          -0.65137525317736,
          -0.7057183786904867,
          -0.2240805162797909,
          0.006877767150997733,
          -0.5786255851517226,
          2.0048641317828104,
          2.6517226257938997,
          -0.36432084018463406,
          -0.7153599009589446,
          -0.5843228483103569,
          0.8719852652389991,
          -0.4611743138814164,
          0.018272293468266244,
          1.0358911438027847,
          -0.5076289211748957,
          1.3027860102341893,
          -0.023799803703186715,
          0.6493537510400605,
          -0.7491052288985476,
          -0.4765130993085086,
          -0.8941663139376197,
          -0.21619199806014347,
          -0.08471669439935298,
          -0.7499817309229528,
          1.7835473706204799,
          -0.2367897956336673,
          2.3721184800086186,
          -0.8056396094726875,
          1.0586801964373216,
          0.4258457348167168,
          -0.7964363382164321,
          1.1980440183177596,
          0.3250480020101107,
          -0.8516559657539642,
          1.9930313544533393,
          -0.5646015527612382,
          0.9000333300199678,
          -0.968230734999865,
          -0.02160854864217354,
          0.7470837267612482,
          -0.526473714699609,
          0.10767549995760377,
          1.4154165203702664,
          -0.5041229130772746,
          -0.7631292612890319,
          1.1095173138528274,
          -0.6689052936654654,
          -0.6171916742255544,
          0.9679622369113762,
          1.5666131195801756,
          -0.4283054879662188,
          -0.5667928078222514,
          -0.5159556904067458,
          1.621394496105505,
          3.5203361319795223,
          -0.5383064920290802,
          -0.2854356579881598,
          2.6714439213430183,
          -0.6233271883963913,
          -0.38667164180696845,
          -0.774962038618503,
          0.10373124084778006,
          0.6870433380894871,
          -0.5996616337374491,
          -0.5965938766520306,
          -0.812213374655727,
          0.33951028541279765,
          -0.3573088239893919,
          -0.5856376013469647,
          -0.8792657795227301,
          -0.6338452126892545,
          -0.20216796566965914,
          -0.8354406783024667,
          -0.7793445487405294,
          -0.7245631722152001,
          -0.6448014879943205,
          -0.18858218429137746,
          -0.49141363372339825,
          -0.8126516256679297,
          -0.35292631386736556,
          0.3399485364250003,
          0.9539382045208918,
          -0.34503779564771814,
          -0.7048418766660814,
          0.17911041494663327,
          -0.5663545568100488,
          -0.06543364986243703,
          -0.7697030264720714,
          0.19444920037372548,
          0.6278794514421314,
          -0.5939643705788148,
          0.043252601163816434,
          0.5380379939405913,
          -0.813528127692335,
          2.444868148034256,
          1.2519488928186837,
          0.5695920668191811,
          -0.4541622976861742,
          -0.027305811800807794,
          -0.39675141508762907,
          -0.7101008888125131,
          2.585546722951302,
          3.2052336542058275,
          -0.8249226540096034,
          -0.6588255203848048,
          -0.8420144434855061,
          -0.015911285483539286,
          -0.8187871398387665,
          0.18524592911747018,
          0.23608304653297582,
          -0.4072694393804923,
          -0.1162707672779427,
          -0.2078652288282934,
          -0.23196903449943831,
          -0.6312157066160388,
          -0.8950428159620251,
          1.803706917181801,
          -0.8875925487545803,
          0.3885943987794928,
          -0.9349236580724648,
          1.6845026418626843,
          -0.8459587025953299,
          0.14492683599482775,
          -0.46643332602784804,
          -0.7495434799107502,
          -0.9112581034135225,
          -0.5115731802847194,
          -0.2854356579881598,
          -0.480895609430535,
          -0.35643232196498664,
          -0.09830247577763465,
          -0.5177086944555563,
          -0.3971896660998317,
          2.582917216878086,
          -0.6110561600547175,
          -0.33583452439146283,
          -0.3410935365378944,
          -0.7333281924592527,
          1.477209913090838,
          -0.5418125001267012,
          -0.8713772613030827,
          -0.9379914151578832,
          0.7058881316142005,
          3.3555537513913314,
          0.11819352425046702,
          0.7606695081395298,
          0.5980783826123522,
          0.13703831777518033,
          -0.1425658280101008,
          -0.13599206282706128,
          -0.26001709928040695,
          0.32811575909552915,
          1.4162930223946717,
          -0.5974703786764359,
          -0.7061566297026893,
          2.7827596784424875,
          -0.3822891316849421,
          0.28516715989967095,
          0.16377162951954105,
          2.001796374697392,
          1.3672089090279766,
          -0.2933241762078072,
          0.5722215728923968,
          -0.8985488240596461,
          -0.9393061681944912,
          0.9000333300199678,
          -0.08822270249697406,
          3.3025253789148126,
          0.2558043420820944,
          -0.27360288065868865,
          0.034487580919763734,
          -0.3862333907947658,
          -0.3222487430131811,
          -0.9520154475483675,
          1.4938634515545381,
          -0.2538815851095701,
          -0.6233271883963913,
          -0.8354406783024667,
          -0.9366766621212753,
          -0.7175511560199579,
          -0.98400777143916,
          -0.5431272531633091,
          -0.6312157066160388,
          -0.5308562248216354,
          -0.6119326620791228,
          0.38158238258425065,
          -0.03168832192283414,
          -0.9743662491707019,
          -0.7429697147277107,
          -0.877074524461717,
          -0.3196192369399653,
          -0.6934473503488129,
          0.9815480182896579,
          -0.5400594960778907,
          -0.9664777309510545
         ],
         "xaxis": "x",
         "y": [
          0.051447566204893075,
          0.3433009149198433,
          4.386602558760752,
          0.3512968970764173,
          2.614826179233235,
          0.1267430648459647,
          -0.47695358797537074,
          0.8697030735609637,
          -0.3403555594672319,
          0.5578597694545785,
          0.321978295835646,
          -0.5089375166016666,
          1.112914197490089,
          -0.4389726727316443,
          0.60450299870126,
          -0.5655757235440657,
          -0.12046605016144749,
          2.143729563841751,
          1.27949715908538,
          -0.506272189216142,
          0.5751843974604888,
          -0.46096162366222276,
          2.0477777779628634,
          3.0099609641372655,
          -0.8021235290093792,
          -0.28505001621759524,
          -0.4949445478276622,
          2.628819148007239,
          -0.29171333468140687,
          1.1342368165742862,
          -0.18376757556765816,
          -0.5702400464687338,
          -0.11846705462230399,
          -0.5769033649325455,
          -0.5495837592309177,
          2.2423466771061635,
          -0.36434350593695386,
          -0.5515827547700612,
          3.0672655029260456,
          1.0269573893069186,
          -0.8094531793195721,
          -0.7921285513136618,
          -0.7967928742383299,
          0.12740939669234588,
          0.14340136100549383,
          0.600505007622973,
          -0.639538558492375,
          0.011467655422023175,
          -0.6908461106637247,
          0.048115906972987246,
          -0.08714945784238924,
          0.014132982807547836,
          -0.5495837592309177,
          0.22802550549590178,
          -0.6901797788173435,
          -0.19776054434166263,
          0.02279529681050298,
          -0.07715448014667177,
          -0.8221134844008142,
          -0.2843836843712141,
          1.2221926202965998,
          -0.7441526583742178,
          8.803050036575113,
          -0.7194983800581147,
          -0.40832140779811077,
          0.345966242305368,
          -0.19043089403146982,
          -0.24440377358834417,
          -0.1677756112545102,
          -0.7288270259074511,
          0.26134209781496004,
          -0.4876148975174694,
          -0.7361566762176439,
          0.7204447399715826,
          -0.3256962588468463,
          -0.7601446226873658,
          8.722423883162993,
          -0.8094531793195721,
          1.2774981635462366,
          -0.6002249795558863,
          -0.09581177184534438,
          -0.6775194737361014,
          -0.3676751651688597,
          -0.6955104335883928,
          -0.7981255379310922,
          -0.7521486405307919,
          -0.6248792578719894,
          1.178214718435443,
          0.38461348939547557,
          0.08343149483118899,
          -0.47495459243622723,
          0.07810084006013968,
          0.3799491664708074,
          0.11808075084300956,
          -0.016518282125985752,
          -0.8381054487139622,
          0.257344106736673,
          0.17205363039988392,
          0.9643221957470891,
          0.20003956794789285,
          0.0034716732654491967,
          -0.43364201796059504,
          -0.692178774356487,
          -0.06715950245095428,
          -0.21841683157947872,
          -0.4169837218010659,
          -0.08315146676410225,
          -0.6701898234259086,
          -0.26705905636530375,
          -0.744818990220599,
          0.24001947873076276,
          -0.518266162451003,
          0.9916418014487168,
          -0.8381054487139622,
          0.3719531843142334,
          -0.23307613219986437,
          -0.6335415718749445,
          -0.6215475986400836,
          -0.5762370330861644,
          -0.48228424274642007,
          -0.6228802623328459,
          0.18737926286665071,
          -0.8161164977833837,
          1.339467025259685,
          -0.22108215896500338,
          0.9030196658800219,
          0.12607673299958355,
          -0.8381054487139622,
          -0.6282109171038952,
          -0.7061717431304915,
          -0.49361188413489987,
          -0.48961389305661285,
          -0.55091642292368,
          0.1194134145357719,
          -0.12912836416440263,
          0.341968251227081,
          -0.7174993845189713,
          0.24401746980904976,
          -0.8347737894820563,
          0.5945080210055426,
          1.2801634909317612,
          -0.5615777324657787,
          0.28066572136001383,
          -0.6382058947996126,
          0.5971733483910672,
          0.6478145687160357,
          -0.43364201796059504,
          -0.6815174648143884,
          0.7450990182876858,
          1.5833444810351913,
          -0.3783364747109583,
          -0.5542480821555859,
          -0.3403555594672319,
          -0.6248792578719894,
          -0.36900782886162203,
          -0.36301084224419156,
          0.12074607822853423,
          0.2906606990557313,
          -0.6868481195854377,
          0.9130146435757394,
          -0.5769033649325455,
          0.6025040031621165,
          1.0216267345358692,
          -0.7361566762176439,
          -0.8327747939429129,
          -0.6755204781969579,
          -0.3556811919339987,
          -0.8381054487139622,
          -0.570906378315115,
          0.3966074626303365,
          -0.7974592060847111,
          -0.7841325691570877,
          -0.5675747190832092,
          -0.39632743456324976,
          -0.07915347568581525,
          0.32930794614583886,
          0.1380707062344445,
          -0.37567114732543366,
          -0.6088872935588414,
          -0.35301586454847406,
          3.726934030843399,
          -0.8281104710182446,
          0.044784247741081425,
          -0.3670088333224785,
          -0.6501998680344736,
          -0.7601446226873658,
          -0.30304097606988667,
          -0.30903796268731715,
          0.5591924331473408,
          0.3426345830734622,
          -0.030511250899990218,
          -0.31303595376560417,
          0.7510960049051163,
          -0.06849216614371662,
          3.4057620808876776,
          -0.7534813042235542,
          -0.3410218913136131,
          -0.6808511329680073,
          -0.5902300018601688,
          0.0661068668252787,
          -0.40099175748791793,
          -0.31636761299751,
          0.19470891317684355,
          -0.381001802096483,
          -0.7048390794377292,
          -0.18709923479956397,
          0.5838467114634439,
          -0.5136018395263348,
          -0.2843836843712141,
          -0.8354401213284375,
          0.8677040780218201,
          -0.643536549570662,
          -0.6901797788173435,
          -0.030511250899990218,
          -0.696176765434774,
          0.661141205643659,
          -0.14245500109202594,
          -0.4549646370447923,
          0.7577593233689279,
          0.47256929311778934,
          1.0149634160720575,
          -0.43364201796059504,
          -0.40099175748791793,
          -0.4589626281230793,
          -0.6462018769561866,
          -0.3670088333224785,
          0.2879953716702066,
          0.08676315406309482,
          1.335469034181398,
          -0.43031035872868917,
          -0.5915626655529311,
          -0.18243491187489583,
          -0.2950449939133127,
          -0.47495459243622723,
          -0.6488672043417113,
          -0.4036570848734426,
          -0.5662420553904468,
          0.0028053414190680314,
          0.8677040780218201,
          1.5773474944177608,
          -0.3750048154790525,
          -0.704172747591348,
          -0.8027898608557604,
          0.19270991763770004,
          -0.1471193240166941,
          0.3752848435461392,
          -0.07182382537562244,
          -0.5875646744746441,
          0.8277241672389503,
          0.09875712729795579,
          0.30665266336887925,
          -0.10447408584829952,
          0.5451994643733363,
          0.09542546806604996,
          0.08209883113842666,
          -0.8281104710182446,
          -0.7548139679163165,
          -0.15578163801964923,
          -0.6681908278867651,
          -0.82544514363272,
          0.17405262593902743,
          -0.3830007976356265,
          -0.13379268708907077,
          -0.3463525460846624,
          0.39527479893757417,
          -0.6708561552722897,
          -0.2417384462028195,
          -0.48628223382470703,
          -0.14911831955583757,
          -0.6675244960403839,
          0.4958909077411301,
          -0.7254953666755453,
          -0.4702902695115591,
          -0.8007908653166169,
          0.7657553055255019,
          -0.6995084246666798,
          0.1880455947130319,
          -0.22374748635052805,
          -0.40299075302706144,
          -0.30304097606988667,
          -0.7621436182265093,
          -0.6422038858778997,
          -0.018517277665129245,
          1.497387672852021,
          -0.13445901893545195,
          0.2506807882728614,
          -0.8061215200876662,
          -0.2843836843712141,
          -0.09847709923086904,
          -0.6875144514318189,
          -0.4582962962766981,
          -0.11247006800487351,
          -0.2843836843712141,
          -0.4922792204421375,
          0.18204860809560142,
          -0.34768520977742473,
          -0.14512032847755058,
          -0.10580674954106185,
          0.8936910200306856,
          0.5851793751562062,
          -0.3216982677685593,
          -0.2617284015942545,
          0.4539120014191167,
          0.07343651713547152,
          0.5978396802374484,
          0.044784247741081425,
          -0.5875646744746441,
          -0.6382058947996126,
          -0.09714443553810671,
          -0.15911329725155504,
          -0.39699376640963097,
          -0.5435867726134872,
          -0.1771042571038465,
          1.2501785578446087,
          -0.7101697342087785,
          -0.09980976292363138,
          0.7197784081252016,
          -0.7554802997626977,
          -0.47495459243622723,
          -0.7668079411511775,
          1.8918561259096707,
          -0.3230309314613216,
          -0.5049395255233796,
          -0.5702400464687338,
          -0.36567616962971616,
          -0.6308762444894198,
          -0.5282611401467204,
          1.2288559387604117,
          -0.5422541089207249,
          -0.6122189527907472,
          -0.4682912739724156,
          -0.6428702177242808,
          0.649147232408798,
          -0.3137022856119853,
          2.37761204192154,
          1.2341865935314609,
          -0.3830007976356265,
          -0.7934612150064241,
          0.11008476868643559,
          -0.012520291047698763,
          -0.09781076738448788,
          -0.7208310437508771,
          -0.660194845730191,
          -0.4856159019783259,
          1.0875935873276046,
          -0.5995586477095051,
          2.571514609218459,
          -0.12846203231802147,
          -0.19576154880251911,
          -0.1997595398808061,
          -0.5695737146223526,
          -0.3843334613283888,
          -0.1737725978719407,
          0.37728383908528274,
          -0.40432341671982375,
          -0.29437866206693153,
          -0.5389224496888191,
          -0.6468682088025678,
          0.6344879317884125,
          -0.34501988239190007,
          -0.6755204781969579,
          -0.5902300018601688,
          -0.16444395202260437,
          -0.6135516164835095,
          -0.6482008724953301,
          -0.3636771740905727,
          -0.5882310063210253,
          -0.2004258717271873,
          -0.4716229332043214,
          -0.6108862890979849,
          2.5828422506069386,
          0.42059540910005844,
          2.0684340652006794,
          -0.7987918697774734,
          -0.6468682088025678,
          0.4086014358651975,
          -0.17843692079660883,
          -0.1317936915499273,
          -0.3230309314613216,
          0.17338629409264625,
          0.08809581775585715,
          0.34863156969089265,
          -0.02851225536084672,
          -0.39499477087048745,
          -0.6741878145041955,
          0.4219280727928208,
          -0.6288772489502763,
          0.826391503546188,
          0.5458657962197174,
          -0.5769033649325455,
          0.12541040115320237,
          -0.2817183569856894,
          0.7231100673571074,
          0.5758507293068699,
          -0.805455188241285
         ],
         "yaxis": "y"
        }
       ],
       "layout": {
        "coloraxis": {
         "colorbar": {
          "title": {
           "text": "labels"
          }
         },
         "colorscale": [
          [
           0,
           "#0d0887"
          ],
          [
           0.1111111111111111,
           "#46039f"
          ],
          [
           0.2222222222222222,
           "#7201a8"
          ],
          [
           0.3333333333333333,
           "#9c179e"
          ],
          [
           0.4444444444444444,
           "#bd3786"
          ],
          [
           0.5555555555555556,
           "#d8576b"
          ],
          [
           0.6666666666666666,
           "#ed7953"
          ],
          [
           0.7777777777777778,
           "#fb9f3a"
          ],
          [
           0.8888888888888888,
           "#fdca26"
          ],
          [
           1,
           "#f0f921"
          ]
         ]
        },
        "legend": {
         "tracegroupgap": 0
        },
        "margin": {
         "t": 60
        },
        "template": {
         "data": {
          "bar": [
           {
            "error_x": {
             "color": "#2a3f5f"
            },
            "error_y": {
             "color": "#2a3f5f"
            },
            "marker": {
             "line": {
              "color": "#E5ECF6",
              "width": 0.5
             }
            },
            "type": "bar"
           }
          ],
          "barpolar": [
           {
            "marker": {
             "line": {
              "color": "#E5ECF6",
              "width": 0.5
             }
            },
            "type": "barpolar"
           }
          ],
          "carpet": [
           {
            "aaxis": {
             "endlinecolor": "#2a3f5f",
             "gridcolor": "white",
             "linecolor": "white",
             "minorgridcolor": "white",
             "startlinecolor": "#2a3f5f"
            },
            "baxis": {
             "endlinecolor": "#2a3f5f",
             "gridcolor": "white",
             "linecolor": "white",
             "minorgridcolor": "white",
             "startlinecolor": "#2a3f5f"
            },
            "type": "carpet"
           }
          ],
          "choropleth": [
           {
            "colorbar": {
             "outlinewidth": 0,
             "ticks": ""
            },
            "type": "choropleth"
           }
          ],
          "contour": [
           {
            "colorbar": {
             "outlinewidth": 0,
             "ticks": ""
            },
            "colorscale": [
             [
              0,
              "#0d0887"
             ],
             [
              0.1111111111111111,
              "#46039f"
             ],
             [
              0.2222222222222222,
              "#7201a8"
             ],
             [
              0.3333333333333333,
              "#9c179e"
             ],
             [
              0.4444444444444444,
              "#bd3786"
             ],
             [
              0.5555555555555556,
              "#d8576b"
             ],
             [
              0.6666666666666666,
              "#ed7953"
             ],
             [
              0.7777777777777778,
              "#fb9f3a"
             ],
             [
              0.8888888888888888,
              "#fdca26"
             ],
             [
              1,
              "#f0f921"
             ]
            ],
            "type": "contour"
           }
          ],
          "contourcarpet": [
           {
            "colorbar": {
             "outlinewidth": 0,
             "ticks": ""
            },
            "type": "contourcarpet"
           }
          ],
          "heatmap": [
           {
            "colorbar": {
             "outlinewidth": 0,
             "ticks": ""
            },
            "colorscale": [
             [
              0,
              "#0d0887"
             ],
             [
              0.1111111111111111,
              "#46039f"
             ],
             [
              0.2222222222222222,
              "#7201a8"
             ],
             [
              0.3333333333333333,
              "#9c179e"
             ],
             [
              0.4444444444444444,
              "#bd3786"
             ],
             [
              0.5555555555555556,
              "#d8576b"
             ],
             [
              0.6666666666666666,
              "#ed7953"
             ],
             [
              0.7777777777777778,
              "#fb9f3a"
             ],
             [
              0.8888888888888888,
              "#fdca26"
             ],
             [
              1,
              "#f0f921"
             ]
            ],
            "type": "heatmap"
           }
          ],
          "heatmapgl": [
           {
            "colorbar": {
             "outlinewidth": 0,
             "ticks": ""
            },
            "colorscale": [
             [
              0,
              "#0d0887"
             ],
             [
              0.1111111111111111,
              "#46039f"
             ],
             [
              0.2222222222222222,
              "#7201a8"
             ],
             [
              0.3333333333333333,
              "#9c179e"
             ],
             [
              0.4444444444444444,
              "#bd3786"
             ],
             [
              0.5555555555555556,
              "#d8576b"
             ],
             [
              0.6666666666666666,
              "#ed7953"
             ],
             [
              0.7777777777777778,
              "#fb9f3a"
             ],
             [
              0.8888888888888888,
              "#fdca26"
             ],
             [
              1,
              "#f0f921"
             ]
            ],
            "type": "heatmapgl"
           }
          ],
          "histogram": [
           {
            "marker": {
             "colorbar": {
              "outlinewidth": 0,
              "ticks": ""
             }
            },
            "type": "histogram"
           }
          ],
          "histogram2d": [
           {
            "colorbar": {
             "outlinewidth": 0,
             "ticks": ""
            },
            "colorscale": [
             [
              0,
              "#0d0887"
             ],
             [
              0.1111111111111111,
              "#46039f"
             ],
             [
              0.2222222222222222,
              "#7201a8"
             ],
             [
              0.3333333333333333,
              "#9c179e"
             ],
             [
              0.4444444444444444,
              "#bd3786"
             ],
             [
              0.5555555555555556,
              "#d8576b"
             ],
             [
              0.6666666666666666,
              "#ed7953"
             ],
             [
              0.7777777777777778,
              "#fb9f3a"
             ],
             [
              0.8888888888888888,
              "#fdca26"
             ],
             [
              1,
              "#f0f921"
             ]
            ],
            "type": "histogram2d"
           }
          ],
          "histogram2dcontour": [
           {
            "colorbar": {
             "outlinewidth": 0,
             "ticks": ""
            },
            "colorscale": [
             [
              0,
              "#0d0887"
             ],
             [
              0.1111111111111111,
              "#46039f"
             ],
             [
              0.2222222222222222,
              "#7201a8"
             ],
             [
              0.3333333333333333,
              "#9c179e"
             ],
             [
              0.4444444444444444,
              "#bd3786"
             ],
             [
              0.5555555555555556,
              "#d8576b"
             ],
             [
              0.6666666666666666,
              "#ed7953"
             ],
             [
              0.7777777777777778,
              "#fb9f3a"
             ],
             [
              0.8888888888888888,
              "#fdca26"
             ],
             [
              1,
              "#f0f921"
             ]
            ],
            "type": "histogram2dcontour"
           }
          ],
          "mesh3d": [
           {
            "colorbar": {
             "outlinewidth": 0,
             "ticks": ""
            },
            "type": "mesh3d"
           }
          ],
          "parcoords": [
           {
            "line": {
             "colorbar": {
              "outlinewidth": 0,
              "ticks": ""
             }
            },
            "type": "parcoords"
           }
          ],
          "pie": [
           {
            "automargin": true,
            "type": "pie"
           }
          ],
          "scatter": [
           {
            "marker": {
             "colorbar": {
              "outlinewidth": 0,
              "ticks": ""
             }
            },
            "type": "scatter"
           }
          ],
          "scatter3d": [
           {
            "line": {
             "colorbar": {
              "outlinewidth": 0,
              "ticks": ""
             }
            },
            "marker": {
             "colorbar": {
              "outlinewidth": 0,
              "ticks": ""
             }
            },
            "type": "scatter3d"
           }
          ],
          "scattercarpet": [
           {
            "marker": {
             "colorbar": {
              "outlinewidth": 0,
              "ticks": ""
             }
            },
            "type": "scattercarpet"
           }
          ],
          "scattergeo": [
           {
            "marker": {
             "colorbar": {
              "outlinewidth": 0,
              "ticks": ""
             }
            },
            "type": "scattergeo"
           }
          ],
          "scattergl": [
           {
            "marker": {
             "colorbar": {
              "outlinewidth": 0,
              "ticks": ""
             }
            },
            "type": "scattergl"
           }
          ],
          "scattermapbox": [
           {
            "marker": {
             "colorbar": {
              "outlinewidth": 0,
              "ticks": ""
             }
            },
            "type": "scattermapbox"
           }
          ],
          "scatterpolar": [
           {
            "marker": {
             "colorbar": {
              "outlinewidth": 0,
              "ticks": ""
             }
            },
            "type": "scatterpolar"
           }
          ],
          "scatterpolargl": [
           {
            "marker": {
             "colorbar": {
              "outlinewidth": 0,
              "ticks": ""
             }
            },
            "type": "scatterpolargl"
           }
          ],
          "scatterternary": [
           {
            "marker": {
             "colorbar": {
              "outlinewidth": 0,
              "ticks": ""
             }
            },
            "type": "scatterternary"
           }
          ],
          "surface": [
           {
            "colorbar": {
             "outlinewidth": 0,
             "ticks": ""
            },
            "colorscale": [
             [
              0,
              "#0d0887"
             ],
             [
              0.1111111111111111,
              "#46039f"
             ],
             [
              0.2222222222222222,
              "#7201a8"
             ],
             [
              0.3333333333333333,
              "#9c179e"
             ],
             [
              0.4444444444444444,
              "#bd3786"
             ],
             [
              0.5555555555555556,
              "#d8576b"
             ],
             [
              0.6666666666666666,
              "#ed7953"
             ],
             [
              0.7777777777777778,
              "#fb9f3a"
             ],
             [
              0.8888888888888888,
              "#fdca26"
             ],
             [
              1,
              "#f0f921"
             ]
            ],
            "type": "surface"
           }
          ],
          "table": [
           {
            "cells": {
             "fill": {
              "color": "#EBF0F8"
             },
             "line": {
              "color": "white"
             }
            },
            "header": {
             "fill": {
              "color": "#C8D4E3"
             },
             "line": {
              "color": "white"
             }
            },
            "type": "table"
           }
          ]
         },
         "layout": {
          "annotationdefaults": {
           "arrowcolor": "#2a3f5f",
           "arrowhead": 0,
           "arrowwidth": 1
          },
          "coloraxis": {
           "colorbar": {
            "outlinewidth": 0,
            "ticks": ""
           }
          },
          "colorscale": {
           "diverging": [
            [
             0,
             "#8e0152"
            ],
            [
             0.1,
             "#c51b7d"
            ],
            [
             0.2,
             "#de77ae"
            ],
            [
             0.3,
             "#f1b6da"
            ],
            [
             0.4,
             "#fde0ef"
            ],
            [
             0.5,
             "#f7f7f7"
            ],
            [
             0.6,
             "#e6f5d0"
            ],
            [
             0.7,
             "#b8e186"
            ],
            [
             0.8,
             "#7fbc41"
            ],
            [
             0.9,
             "#4d9221"
            ],
            [
             1,
             "#276419"
            ]
           ],
           "sequential": [
            [
             0,
             "#0d0887"
            ],
            [
             0.1111111111111111,
             "#46039f"
            ],
            [
             0.2222222222222222,
             "#7201a8"
            ],
            [
             0.3333333333333333,
             "#9c179e"
            ],
            [
             0.4444444444444444,
             "#bd3786"
            ],
            [
             0.5555555555555556,
             "#d8576b"
            ],
            [
             0.6666666666666666,
             "#ed7953"
            ],
            [
             0.7777777777777778,
             "#fb9f3a"
            ],
            [
             0.8888888888888888,
             "#fdca26"
            ],
            [
             1,
             "#f0f921"
            ]
           ],
           "sequentialminus": [
            [
             0,
             "#0d0887"
            ],
            [
             0.1111111111111111,
             "#46039f"
            ],
            [
             0.2222222222222222,
             "#7201a8"
            ],
            [
             0.3333333333333333,
             "#9c179e"
            ],
            [
             0.4444444444444444,
             "#bd3786"
            ],
            [
             0.5555555555555556,
             "#d8576b"
            ],
            [
             0.6666666666666666,
             "#ed7953"
            ],
            [
             0.7777777777777778,
             "#fb9f3a"
            ],
            [
             0.8888888888888888,
             "#fdca26"
            ],
            [
             1,
             "#f0f921"
            ]
           ]
          },
          "colorway": [
           "#636efa",
           "#EF553B",
           "#00cc96",
           "#ab63fa",
           "#FFA15A",
           "#19d3f3",
           "#FF6692",
           "#B6E880",
           "#FF97FF",
           "#FECB52"
          ],
          "font": {
           "color": "#2a3f5f"
          },
          "geo": {
           "bgcolor": "white",
           "lakecolor": "white",
           "landcolor": "#E5ECF6",
           "showlakes": true,
           "showland": true,
           "subunitcolor": "white"
          },
          "hoverlabel": {
           "align": "left"
          },
          "hovermode": "closest",
          "mapbox": {
           "style": "light"
          },
          "paper_bgcolor": "white",
          "plot_bgcolor": "#E5ECF6",
          "polar": {
           "angularaxis": {
            "gridcolor": "white",
            "linecolor": "white",
            "ticks": ""
           },
           "bgcolor": "#E5ECF6",
           "radialaxis": {
            "gridcolor": "white",
            "linecolor": "white",
            "ticks": ""
           }
          },
          "scene": {
           "xaxis": {
            "backgroundcolor": "#E5ECF6",
            "gridcolor": "white",
            "gridwidth": 2,
            "linecolor": "white",
            "showbackground": true,
            "ticks": "",
            "zerolinecolor": "white"
           },
           "yaxis": {
            "backgroundcolor": "#E5ECF6",
            "gridcolor": "white",
            "gridwidth": 2,
            "linecolor": "white",
            "showbackground": true,
            "ticks": "",
            "zerolinecolor": "white"
           },
           "zaxis": {
            "backgroundcolor": "#E5ECF6",
            "gridcolor": "white",
            "gridwidth": 2,
            "linecolor": "white",
            "showbackground": true,
            "ticks": "",
            "zerolinecolor": "white"
           }
          },
          "shapedefaults": {
           "line": {
            "color": "#2a3f5f"
           }
          },
          "ternary": {
           "aaxis": {
            "gridcolor": "white",
            "linecolor": "white",
            "ticks": ""
           },
           "baxis": {
            "gridcolor": "white",
            "linecolor": "white",
            "ticks": ""
           },
           "bgcolor": "#E5ECF6",
           "caxis": {
            "gridcolor": "white",
            "linecolor": "white",
            "ticks": ""
           }
          },
          "title": {
           "x": 0.05
          },
          "xaxis": {
           "automargin": true,
           "gridcolor": "white",
           "linecolor": "white",
           "ticks": "",
           "title": {
            "standoff": 15
           },
           "zerolinecolor": "white",
           "zerolinewidth": 2
          },
          "yaxis": {
           "automargin": true,
           "gridcolor": "white",
           "linecolor": "white",
           "ticks": "",
           "title": {
            "standoff": 15
           },
           "zerolinecolor": "white",
           "zerolinewidth": 2
          }
         }
        },
        "xaxis": {
         "anchor": "y",
         "domain": [
          0,
          1
         ],
         "title": {
          "text": "Frozen"
         }
        },
        "yaxis": {
         "anchor": "x",
         "domain": [
          0,
          1
         ],
         "title": {
          "text": "Delicassen"
         }
        }
       }
      },
      "text/html": [
       "<div>\n",
       "        \n",
       "        \n",
       "            <div id=\"e4fbc18b-4c7f-4b36-b62a-4b728194a2ff\" class=\"plotly-graph-div\" style=\"height:525px; width:100%;\"></div>\n",
       "            <script type=\"text/javascript\">\n",
       "                require([\"plotly\"], function(Plotly) {\n",
       "                    window.PLOTLYENV=window.PLOTLYENV || {};\n",
       "                    \n",
       "                if (document.getElementById(\"e4fbc18b-4c7f-4b36-b62a-4b728194a2ff\")) {\n",
       "                    Plotly.newPlot(\n",
       "                        'e4fbc18b-4c7f-4b36-b62a-4b728194a2ff',\n",
       "                        [{\"hoverlabel\": {\"namelength\": 0}, \"hovertemplate\": \"Frozen=%{x}<br>Delicassen=%{y}<br>labels=%{marker.color}\", \"legendgroup\": \"\", \"marker\": {\"color\": [6, 6, 4, 0, 5, 6, 6, 5, 1, 2, 6, 1, 5, 6, 5, 1, 6, 5, 5, 1, 5, 1, 0, 5, 6, 1, 1, 2, 3, 5, 1, 1, 3, 1, 6, 5, 6, 2, 4, 5, 6, 2, 6, 2, 6, 1, 1, 3, 6, 3, 1, 6, 1, 6, 6, 6, 2, 1, 1, 6, 0, 1, 4, 0, 0, 6, 0, 0, 2, 1, 1, 1, 2, 5, 1, 6, 4, 0, 3, 1, 0, 6, 1, 6, 1, 1, 0, 6, 2, 6, 1, 1, 6, 2, 6, 2, 1, 2, 0, 1, 1, 1, 1, 1, 0, 1, 1, 1, 1, 6, 3, 0, 5, 1, 3, 0, 1, 1, 1, 1, 1, 5, 6, 5, 1, 5, 3, 3, 0, 1, 1, 1, 1, 3, 1, 1, 1, 1, 1, 2, 6, 1, 6, 6, 6, 1, 1, 6, 2, 5, 1, 1, 1, 6, 6, 2, 1, 6, 3, 5, 1, 1, 5, 6, 1, 1, 1, 0, 6, 6, 0, 1, 1, 6, 1, 0, 6, 7, 7, 2, 4, 7, 7, 2, 7, 7, 7, 2, 7, 7, 7, 6, 2, 7, 5, 7, 7, 6, 0, 7, 7, 7, 7, 7, 7, 0, 0, 7, 7, 7, 7, 7, 7, 7, 7, 3, 7, 7, 7, 7, 2, 7, 7, 7, 0, 7, 0, 3, 5, 3, 7, 7, 3, 7, 0, 7, 7, 2, 2, 7, 2, 7, 7, 7, 7, 3, 1, 1, 3, 0, 6, 1, 5, 3, 0, 3, 1, 0, 1, 3, 1, 1, 1, 6, 7, 7, 7, 6, 6, 1, 5, 2, 6, 6, 2, 6, 2, 7, 1, 2, 3, 7, 7, 5, 7, 7, 7, 1, 7, 7, 7, 3, 7, 1, 0, 0, 7, 2, 3, 5, 7, 0, 0, 6, 6, 6, 1, 6, 6, 6, 1, 2, 1, 2, 1, 2, 0, 1, 3, 6, 5, 1, 1, 1, 1, 1, 1, 5, 1, 1, 3, 1, 3, 0, 5, 5, 1, 1, 6, 3, 1, 6, 3, 0, 3, 1, 5, 1, 1, 1, 1, 1, 0, 1, 1, 0, 1, 1, 5, 0, 0, 1, 1, 3, 3, 0, 1, 0, 2, 6, 5, 1, 5, 6, 0, 6, 6, 6, 2, 1, 6, 6, 3, 1, 6, 6, 1, 1, 6, 1, 1, 1, 3, 1, 1], \"coloraxis\": \"coloraxis\", \"symbol\": \"circle\"}, \"mode\": \"markers\", \"name\": \"\", \"showlegend\": false, \"type\": \"scatter\", \"x\": [-0.9011783301328619, -0.22276576324318298, 0.05902963760311129, 1.8115954354014485, 0.7207886660290901, -0.7030888726172709, -0.784603560886961, -0.26352310737802803, -0.8087073665581059, -0.48703112360137185, 0.9333404069473681, -0.37264760941648417, -0.8691860062420695, 0.3614228360229294, -0.8661182491566511, -0.8209783948997798, -0.9362384111090727, -0.6272714475062151, -0.0286205648374157, -0.701774119580663, -0.5277884677362169, 0.4876391275372883, 3.128101476058164, 0.2825376538264551, -0.9068755932914961, 0.385964892706277, -0.7824123058259478, -0.4874693746135745, -0.4690628321010638, -0.4918518847356009, -0.079895933265124, -0.8783892774983248, 1.6915146580579266, -0.8087073665581059, -0.6299009535794309, -0.23722804664586994, -0.15352210331516666, -0.9805017633415388, 3.172803079302833, -0.10399973893626892, -0.9125728564501304, -0.6500605001407521, -0.7578702491426003, -0.26396135839023066, -0.739025455617887, 0.6966848603579452, -0.890222054827796, -0.761814508252424, -0.6689052936654654, 0.07261541898139298, -0.5317327268460407, -0.9783105082805257, -0.7337664434714554, -0.9384296661700858, -0.9528919495727728, 0.8255306579455198, 0.2742108845946051, 0.6370827226983868, -0.9182701196087647, -0.4445207754177163, 1.5775693948852414, -0.6535665082383731, 1.3597586418205319, 2.8931989335175516, 2.5688931844876017, -0.43181149606383984, 0.9364081640327865, 2.3050660751416157, -0.614123917140136, -0.07638992516750291, -0.6145621681523387, -0.8065161114970928, -0.8709390102908801, -0.6719730507508839, 0.021778301565887323, -0.4787043543695218, 1.771276342278806, 3.2714095570484254, 0.5139341882694464, 0.47186209109799343, 2.81475200233328, -0.904684338230483, -0.8021336013750664, -0.9314176499748438, -0.6557577632993863, -0.6027293908228675, 1.4763334110664328, 0.4302282449387431, -0.2968301843054283, 0.12739679550672234, -0.40946069444150546, -0.5961556256398279, -0.9366766621212753, 0.0879542044084852, -0.8867160467301749, -0.7000211155318524, 0.0024952570289713837, -0.6421719819211047, 2.8848721642857016, 0.4162042125482588, 0.12476728943350654, 0.19488745138592814, -0.33013726123282855, -0.273164629646486, 1.3466111114544528, 0.71246189679724, 0.06428864974954292, 0.054647127481084946, -0.12240628144877957, -0.03344132597164468, 1.1029435486697878, 2.596502998256368, -0.609303156005907, -0.9327324030114517, -0.24204880778009893, 1.7730293463276166, -0.8433291965221141, -0.742531463715508, -0.8038866054238769, -0.6794233179583287, -0.4822103624671429, 1.010034334082829, -0.7052801276782841, -0.9270351398528174, -0.6334069616770519, 0.0038100100655792885, -0.85428547182718, 0.3175977348026659, 2.697300731062974, -0.9432504273043149, -0.5891436094445858, -0.4313732450516372, 0.7808290547008511, -0.6443632369821178, -0.6211359333353782, -0.7622527592646267, 0.3202272408758817, -0.6535665082383731, -0.9620952208290282, -0.8928515609010118, -0.8560384758759905, 0.48544787247627513, -0.5873906053957753, -0.8205401438875771, -0.6338452126892545, -0.5163939414189485, 0.1729749007757964, 0.11819352425046702, 0.9442966822524339, -0.5597807916270092, -0.8174723868021586, -0.3844803867459553, 0.05640013152989548, -0.5058759171260852, -0.8490264596807483, -0.5843228483103569, 0.10723724894540114, -0.9721749941096888, 2.2340694111647887, -0.22714827336520935, -0.4900988806867903, 0.9670857348869709, -0.8187871398387665, -0.8008188483384585, -0.9625334718412308, -0.039138589130278935, 0.5257669655989176, 1.7524315487540927, 0.21373224491064144, -0.8744450183885012, 2.2182923747254937, -0.6049206458838807, -0.7552407430693845, -0.5746813260418988, -0.641733730908902, 2.4619599375101586, -0.5010551559918562, 0.5507472732944677, -0.7670735203988556, 0.7321831923463586, 1.2247773300621203, -0.78942432202119, -0.38886289686798164, -0.5764343300907094, -0.6101796580303123, 0.29612343520473683, -0.18025541505952739, -0.6163151722011492, -0.20567397376728022, -0.42918198999062407, -0.4125284515269239, -0.59484087260322, -0.39280715597780536, 0.11468751615284593, -0.43181149606383984, 0.01564278739505043, -0.2214510102065751, -0.955083204633786, 2.290165540726726, 1.4645006337369617, -0.65137525317736, -0.7057183786904867, -0.2240805162797909, 0.006877767150997733, -0.5786255851517226, 2.0048641317828104, 2.6517226257938997, -0.36432084018463406, -0.7153599009589446, -0.5843228483103569, 0.8719852652389991, -0.4611743138814164, 0.018272293468266244, 1.0358911438027847, -0.5076289211748957, 1.3027860102341893, -0.023799803703186715, 0.6493537510400605, -0.7491052288985476, -0.4765130993085086, -0.8941663139376197, -0.21619199806014347, -0.08471669439935298, -0.7499817309229528, 1.7835473706204799, -0.2367897956336673, 2.3721184800086186, -0.8056396094726875, 1.0586801964373216, 0.4258457348167168, -0.7964363382164321, 1.1980440183177596, 0.3250480020101107, -0.8516559657539642, 1.9930313544533393, -0.5646015527612382, 0.9000333300199678, -0.968230734999865, -0.02160854864217354, 0.7470837267612482, -0.526473714699609, 0.10767549995760377, 1.4154165203702664, -0.5041229130772746, -0.7631292612890319, 1.1095173138528274, -0.6689052936654654, -0.6171916742255544, 0.9679622369113762, 1.5666131195801756, -0.4283054879662188, -0.5667928078222514, -0.5159556904067458, 1.621394496105505, 3.5203361319795223, -0.5383064920290802, -0.2854356579881598, 2.6714439213430183, -0.6233271883963913, -0.38667164180696845, -0.774962038618503, 0.10373124084778006, 0.6870433380894871, -0.5996616337374491, -0.5965938766520306, -0.812213374655727, 0.33951028541279765, -0.3573088239893919, -0.5856376013469647, -0.8792657795227301, -0.6338452126892545, -0.20216796566965914, -0.8354406783024667, -0.7793445487405294, -0.7245631722152001, -0.6448014879943205, -0.18858218429137746, -0.49141363372339825, -0.8126516256679297, -0.35292631386736556, 0.3399485364250003, 0.9539382045208918, -0.34503779564771814, -0.7048418766660814, 0.17911041494663327, -0.5663545568100488, -0.06543364986243703, -0.7697030264720714, 0.19444920037372548, 0.6278794514421314, -0.5939643705788148, 0.043252601163816434, 0.5380379939405913, -0.813528127692335, 2.444868148034256, 1.2519488928186837, 0.5695920668191811, -0.4541622976861742, -0.027305811800807794, -0.39675141508762907, -0.7101008888125131, 2.585546722951302, 3.2052336542058275, -0.8249226540096034, -0.6588255203848048, -0.8420144434855061, -0.015911285483539286, -0.8187871398387665, 0.18524592911747018, 0.23608304653297582, -0.4072694393804923, -0.1162707672779427, -0.2078652288282934, -0.23196903449943831, -0.6312157066160388, -0.8950428159620251, 1.803706917181801, -0.8875925487545803, 0.3885943987794928, -0.9349236580724648, 1.6845026418626843, -0.8459587025953299, 0.14492683599482775, -0.46643332602784804, -0.7495434799107502, -0.9112581034135225, -0.5115731802847194, -0.2854356579881598, -0.480895609430535, -0.35643232196498664, -0.09830247577763465, -0.5177086944555563, -0.3971896660998317, 2.582917216878086, -0.6110561600547175, -0.33583452439146283, -0.3410935365378944, -0.7333281924592527, 1.477209913090838, -0.5418125001267012, -0.8713772613030827, -0.9379914151578832, 0.7058881316142005, 3.3555537513913314, 0.11819352425046702, 0.7606695081395298, 0.5980783826123522, 0.13703831777518033, -0.1425658280101008, -0.13599206282706128, -0.26001709928040695, 0.32811575909552915, 1.4162930223946717, -0.5974703786764359, -0.7061566297026893, 2.7827596784424875, -0.3822891316849421, 0.28516715989967095, 0.16377162951954105, 2.001796374697392, 1.3672089090279766, -0.2933241762078072, 0.5722215728923968, -0.8985488240596461, -0.9393061681944912, 0.9000333300199678, -0.08822270249697406, 3.3025253789148126, 0.2558043420820944, -0.27360288065868865, 0.034487580919763734, -0.3862333907947658, -0.3222487430131811, -0.9520154475483675, 1.4938634515545381, -0.2538815851095701, -0.6233271883963913, -0.8354406783024667, -0.9366766621212753, -0.7175511560199579, -0.98400777143916, -0.5431272531633091, -0.6312157066160388, -0.5308562248216354, -0.6119326620791228, 0.38158238258425065, -0.03168832192283414, -0.9743662491707019, -0.7429697147277107, -0.877074524461717, -0.3196192369399653, -0.6934473503488129, 0.9815480182896579, -0.5400594960778907, -0.9664777309510545], \"xaxis\": \"x\", \"y\": [0.051447566204893075, 0.3433009149198433, 4.386602558760752, 0.3512968970764173, 2.614826179233235, 0.1267430648459647, -0.47695358797537074, 0.8697030735609637, -0.3403555594672319, 0.5578597694545785, 0.321978295835646, -0.5089375166016666, 1.112914197490089, -0.4389726727316443, 0.60450299870126, -0.5655757235440657, -0.12046605016144749, 2.143729563841751, 1.27949715908538, -0.506272189216142, 0.5751843974604888, -0.46096162366222276, 2.0477777779628634, 3.0099609641372655, -0.8021235290093792, -0.28505001621759524, -0.4949445478276622, 2.628819148007239, -0.29171333468140687, 1.1342368165742862, -0.18376757556765816, -0.5702400464687338, -0.11846705462230399, -0.5769033649325455, -0.5495837592309177, 2.2423466771061635, -0.36434350593695386, -0.5515827547700612, 3.0672655029260456, 1.0269573893069186, -0.8094531793195721, -0.7921285513136618, -0.7967928742383299, 0.12740939669234588, 0.14340136100549383, 0.600505007622973, -0.639538558492375, 0.011467655422023175, -0.6908461106637247, 0.048115906972987246, -0.08714945784238924, 0.014132982807547836, -0.5495837592309177, 0.22802550549590178, -0.6901797788173435, -0.19776054434166263, 0.02279529681050298, -0.07715448014667177, -0.8221134844008142, -0.2843836843712141, 1.2221926202965998, -0.7441526583742178, 8.803050036575113, -0.7194983800581147, -0.40832140779811077, 0.345966242305368, -0.19043089403146982, -0.24440377358834417, -0.1677756112545102, -0.7288270259074511, 0.26134209781496004, -0.4876148975174694, -0.7361566762176439, 0.7204447399715826, -0.3256962588468463, -0.7601446226873658, 8.722423883162993, -0.8094531793195721, 1.2774981635462366, -0.6002249795558863, -0.09581177184534438, -0.6775194737361014, -0.3676751651688597, -0.6955104335883928, -0.7981255379310922, -0.7521486405307919, -0.6248792578719894, 1.178214718435443, 0.38461348939547557, 0.08343149483118899, -0.47495459243622723, 0.07810084006013968, 0.3799491664708074, 0.11808075084300956, -0.016518282125985752, -0.8381054487139622, 0.257344106736673, 0.17205363039988392, 0.9643221957470891, 0.20003956794789285, 0.0034716732654491967, -0.43364201796059504, -0.692178774356487, -0.06715950245095428, -0.21841683157947872, -0.4169837218010659, -0.08315146676410225, -0.6701898234259086, -0.26705905636530375, -0.744818990220599, 0.24001947873076276, -0.518266162451003, 0.9916418014487168, -0.8381054487139622, 0.3719531843142334, -0.23307613219986437, -0.6335415718749445, -0.6215475986400836, -0.5762370330861644, -0.48228424274642007, -0.6228802623328459, 0.18737926286665071, -0.8161164977833837, 1.339467025259685, -0.22108215896500338, 0.9030196658800219, 0.12607673299958355, -0.8381054487139622, -0.6282109171038952, -0.7061717431304915, -0.49361188413489987, -0.48961389305661285, -0.55091642292368, 0.1194134145357719, -0.12912836416440263, 0.341968251227081, -0.7174993845189713, 0.24401746980904976, -0.8347737894820563, 0.5945080210055426, 1.2801634909317612, -0.5615777324657787, 0.28066572136001383, -0.6382058947996126, 0.5971733483910672, 0.6478145687160357, -0.43364201796059504, -0.6815174648143884, 0.7450990182876858, 1.5833444810351913, -0.3783364747109583, -0.5542480821555859, -0.3403555594672319, -0.6248792578719894, -0.36900782886162203, -0.36301084224419156, 0.12074607822853423, 0.2906606990557313, -0.6868481195854377, 0.9130146435757394, -0.5769033649325455, 0.6025040031621165, 1.0216267345358692, -0.7361566762176439, -0.8327747939429129, -0.6755204781969579, -0.3556811919339987, -0.8381054487139622, -0.570906378315115, 0.3966074626303365, -0.7974592060847111, -0.7841325691570877, -0.5675747190832092, -0.39632743456324976, -0.07915347568581525, 0.32930794614583886, 0.1380707062344445, -0.37567114732543366, -0.6088872935588414, -0.35301586454847406, 3.726934030843399, -0.8281104710182446, 0.044784247741081425, -0.3670088333224785, -0.6501998680344736, -0.7601446226873658, -0.30304097606988667, -0.30903796268731715, 0.5591924331473408, 0.3426345830734622, -0.030511250899990218, -0.31303595376560417, 0.7510960049051163, -0.06849216614371662, 3.4057620808876776, -0.7534813042235542, -0.3410218913136131, -0.6808511329680073, -0.5902300018601688, 0.0661068668252787, -0.40099175748791793, -0.31636761299751, 0.19470891317684355, -0.381001802096483, -0.7048390794377292, -0.18709923479956397, 0.5838467114634439, -0.5136018395263348, -0.2843836843712141, -0.8354401213284375, 0.8677040780218201, -0.643536549570662, -0.6901797788173435, -0.030511250899990218, -0.696176765434774, 0.661141205643659, -0.14245500109202594, -0.4549646370447923, 0.7577593233689279, 0.47256929311778934, 1.0149634160720575, -0.43364201796059504, -0.40099175748791793, -0.4589626281230793, -0.6462018769561866, -0.3670088333224785, 0.2879953716702066, 0.08676315406309482, 1.335469034181398, -0.43031035872868917, -0.5915626655529311, -0.18243491187489583, -0.2950449939133127, -0.47495459243622723, -0.6488672043417113, -0.4036570848734426, -0.5662420553904468, 0.0028053414190680314, 0.8677040780218201, 1.5773474944177608, -0.3750048154790525, -0.704172747591348, -0.8027898608557604, 0.19270991763770004, -0.1471193240166941, 0.3752848435461392, -0.07182382537562244, -0.5875646744746441, 0.8277241672389503, 0.09875712729795579, 0.30665266336887925, -0.10447408584829952, 0.5451994643733363, 0.09542546806604996, 0.08209883113842666, -0.8281104710182446, -0.7548139679163165, -0.15578163801964923, -0.6681908278867651, -0.82544514363272, 0.17405262593902743, -0.3830007976356265, -0.13379268708907077, -0.3463525460846624, 0.39527479893757417, -0.6708561552722897, -0.2417384462028195, -0.48628223382470703, -0.14911831955583757, -0.6675244960403839, 0.4958909077411301, -0.7254953666755453, -0.4702902695115591, -0.8007908653166169, 0.7657553055255019, -0.6995084246666798, 0.1880455947130319, -0.22374748635052805, -0.40299075302706144, -0.30304097606988667, -0.7621436182265093, -0.6422038858778997, -0.018517277665129245, 1.497387672852021, -0.13445901893545195, 0.2506807882728614, -0.8061215200876662, -0.2843836843712141, -0.09847709923086904, -0.6875144514318189, -0.4582962962766981, -0.11247006800487351, -0.2843836843712141, -0.4922792204421375, 0.18204860809560142, -0.34768520977742473, -0.14512032847755058, -0.10580674954106185, 0.8936910200306856, 0.5851793751562062, -0.3216982677685593, -0.2617284015942545, 0.4539120014191167, 0.07343651713547152, 0.5978396802374484, 0.044784247741081425, -0.5875646744746441, -0.6382058947996126, -0.09714443553810671, -0.15911329725155504, -0.39699376640963097, -0.5435867726134872, -0.1771042571038465, 1.2501785578446087, -0.7101697342087785, -0.09980976292363138, 0.7197784081252016, -0.7554802997626977, -0.47495459243622723, -0.7668079411511775, 1.8918561259096707, -0.3230309314613216, -0.5049395255233796, -0.5702400464687338, -0.36567616962971616, -0.6308762444894198, -0.5282611401467204, 1.2288559387604117, -0.5422541089207249, -0.6122189527907472, -0.4682912739724156, -0.6428702177242808, 0.649147232408798, -0.3137022856119853, 2.37761204192154, 1.2341865935314609, -0.3830007976356265, -0.7934612150064241, 0.11008476868643559, -0.012520291047698763, -0.09781076738448788, -0.7208310437508771, -0.660194845730191, -0.4856159019783259, 1.0875935873276046, -0.5995586477095051, 2.571514609218459, -0.12846203231802147, -0.19576154880251911, -0.1997595398808061, -0.5695737146223526, -0.3843334613283888, -0.1737725978719407, 0.37728383908528274, -0.40432341671982375, -0.29437866206693153, -0.5389224496888191, -0.6468682088025678, 0.6344879317884125, -0.34501988239190007, -0.6755204781969579, -0.5902300018601688, -0.16444395202260437, -0.6135516164835095, -0.6482008724953301, -0.3636771740905727, -0.5882310063210253, -0.2004258717271873, -0.4716229332043214, -0.6108862890979849, 2.5828422506069386, 0.42059540910005844, 2.0684340652006794, -0.7987918697774734, -0.6468682088025678, 0.4086014358651975, -0.17843692079660883, -0.1317936915499273, -0.3230309314613216, 0.17338629409264625, 0.08809581775585715, 0.34863156969089265, -0.02851225536084672, -0.39499477087048745, -0.6741878145041955, 0.4219280727928208, -0.6288772489502763, 0.826391503546188, 0.5458657962197174, -0.5769033649325455, 0.12541040115320237, -0.2817183569856894, 0.7231100673571074, 0.5758507293068699, -0.805455188241285], \"yaxis\": \"y\"}],\n",
       "                        {\"coloraxis\": {\"colorbar\": {\"title\": {\"text\": \"labels\"}}, \"colorscale\": [[0.0, \"#0d0887\"], [0.1111111111111111, \"#46039f\"], [0.2222222222222222, \"#7201a8\"], [0.3333333333333333, \"#9c179e\"], [0.4444444444444444, \"#bd3786\"], [0.5555555555555556, \"#d8576b\"], [0.6666666666666666, \"#ed7953\"], [0.7777777777777778, \"#fb9f3a\"], [0.8888888888888888, \"#fdca26\"], [1.0, \"#f0f921\"]]}, \"legend\": {\"tracegroupgap\": 0}, \"margin\": {\"t\": 60}, \"template\": {\"data\": {\"bar\": [{\"error_x\": {\"color\": \"#2a3f5f\"}, \"error_y\": {\"color\": \"#2a3f5f\"}, \"marker\": {\"line\": {\"color\": \"#E5ECF6\", \"width\": 0.5}}, \"type\": \"bar\"}], \"barpolar\": [{\"marker\": {\"line\": {\"color\": \"#E5ECF6\", \"width\": 0.5}}, \"type\": \"barpolar\"}], \"carpet\": [{\"aaxis\": {\"endlinecolor\": \"#2a3f5f\", \"gridcolor\": \"white\", \"linecolor\": \"white\", \"minorgridcolor\": \"white\", \"startlinecolor\": \"#2a3f5f\"}, \"baxis\": {\"endlinecolor\": \"#2a3f5f\", \"gridcolor\": \"white\", \"linecolor\": \"white\", \"minorgridcolor\": \"white\", \"startlinecolor\": \"#2a3f5f\"}, \"type\": \"carpet\"}], \"choropleth\": [{\"colorbar\": {\"outlinewidth\": 0, \"ticks\": \"\"}, \"type\": \"choropleth\"}], \"contour\": [{\"colorbar\": {\"outlinewidth\": 0, \"ticks\": \"\"}, \"colorscale\": [[0.0, \"#0d0887\"], [0.1111111111111111, \"#46039f\"], [0.2222222222222222, \"#7201a8\"], [0.3333333333333333, \"#9c179e\"], [0.4444444444444444, \"#bd3786\"], [0.5555555555555556, \"#d8576b\"], [0.6666666666666666, \"#ed7953\"], [0.7777777777777778, \"#fb9f3a\"], [0.8888888888888888, \"#fdca26\"], [1.0, \"#f0f921\"]], \"type\": \"contour\"}], \"contourcarpet\": [{\"colorbar\": {\"outlinewidth\": 0, \"ticks\": \"\"}, \"type\": \"contourcarpet\"}], \"heatmap\": [{\"colorbar\": {\"outlinewidth\": 0, \"ticks\": \"\"}, \"colorscale\": [[0.0, \"#0d0887\"], [0.1111111111111111, \"#46039f\"], [0.2222222222222222, \"#7201a8\"], [0.3333333333333333, \"#9c179e\"], [0.4444444444444444, \"#bd3786\"], [0.5555555555555556, \"#d8576b\"], [0.6666666666666666, \"#ed7953\"], [0.7777777777777778, \"#fb9f3a\"], [0.8888888888888888, \"#fdca26\"], [1.0, \"#f0f921\"]], \"type\": \"heatmap\"}], \"heatmapgl\": [{\"colorbar\": {\"outlinewidth\": 0, \"ticks\": \"\"}, \"colorscale\": [[0.0, \"#0d0887\"], [0.1111111111111111, \"#46039f\"], [0.2222222222222222, \"#7201a8\"], [0.3333333333333333, \"#9c179e\"], [0.4444444444444444, \"#bd3786\"], [0.5555555555555556, \"#d8576b\"], [0.6666666666666666, \"#ed7953\"], [0.7777777777777778, \"#fb9f3a\"], [0.8888888888888888, \"#fdca26\"], [1.0, \"#f0f921\"]], \"type\": \"heatmapgl\"}], \"histogram\": [{\"marker\": {\"colorbar\": {\"outlinewidth\": 0, \"ticks\": \"\"}}, \"type\": \"histogram\"}], \"histogram2d\": [{\"colorbar\": {\"outlinewidth\": 0, \"ticks\": \"\"}, \"colorscale\": [[0.0, \"#0d0887\"], [0.1111111111111111, \"#46039f\"], [0.2222222222222222, \"#7201a8\"], [0.3333333333333333, \"#9c179e\"], [0.4444444444444444, \"#bd3786\"], [0.5555555555555556, \"#d8576b\"], [0.6666666666666666, \"#ed7953\"], [0.7777777777777778, \"#fb9f3a\"], [0.8888888888888888, \"#fdca26\"], [1.0, \"#f0f921\"]], \"type\": \"histogram2d\"}], \"histogram2dcontour\": [{\"colorbar\": {\"outlinewidth\": 0, \"ticks\": \"\"}, \"colorscale\": [[0.0, \"#0d0887\"], [0.1111111111111111, \"#46039f\"], [0.2222222222222222, \"#7201a8\"], [0.3333333333333333, \"#9c179e\"], [0.4444444444444444, \"#bd3786\"], [0.5555555555555556, \"#d8576b\"], [0.6666666666666666, \"#ed7953\"], [0.7777777777777778, \"#fb9f3a\"], [0.8888888888888888, \"#fdca26\"], [1.0, \"#f0f921\"]], \"type\": \"histogram2dcontour\"}], \"mesh3d\": [{\"colorbar\": {\"outlinewidth\": 0, \"ticks\": \"\"}, \"type\": \"mesh3d\"}], \"parcoords\": [{\"line\": {\"colorbar\": {\"outlinewidth\": 0, \"ticks\": \"\"}}, \"type\": \"parcoords\"}], \"pie\": [{\"automargin\": true, \"type\": \"pie\"}], \"scatter\": [{\"marker\": {\"colorbar\": {\"outlinewidth\": 0, \"ticks\": \"\"}}, \"type\": \"scatter\"}], \"scatter3d\": [{\"line\": {\"colorbar\": {\"outlinewidth\": 0, \"ticks\": \"\"}}, \"marker\": {\"colorbar\": {\"outlinewidth\": 0, \"ticks\": \"\"}}, \"type\": \"scatter3d\"}], \"scattercarpet\": [{\"marker\": {\"colorbar\": {\"outlinewidth\": 0, \"ticks\": \"\"}}, \"type\": \"scattercarpet\"}], \"scattergeo\": [{\"marker\": {\"colorbar\": {\"outlinewidth\": 0, \"ticks\": \"\"}}, \"type\": \"scattergeo\"}], \"scattergl\": [{\"marker\": {\"colorbar\": {\"outlinewidth\": 0, \"ticks\": \"\"}}, \"type\": \"scattergl\"}], \"scattermapbox\": [{\"marker\": {\"colorbar\": {\"outlinewidth\": 0, \"ticks\": \"\"}}, \"type\": \"scattermapbox\"}], \"scatterpolar\": [{\"marker\": {\"colorbar\": {\"outlinewidth\": 0, \"ticks\": \"\"}}, \"type\": \"scatterpolar\"}], \"scatterpolargl\": [{\"marker\": {\"colorbar\": {\"outlinewidth\": 0, \"ticks\": \"\"}}, \"type\": \"scatterpolargl\"}], \"scatterternary\": [{\"marker\": {\"colorbar\": {\"outlinewidth\": 0, \"ticks\": \"\"}}, \"type\": \"scatterternary\"}], \"surface\": [{\"colorbar\": {\"outlinewidth\": 0, \"ticks\": \"\"}, \"colorscale\": [[0.0, \"#0d0887\"], [0.1111111111111111, \"#46039f\"], [0.2222222222222222, \"#7201a8\"], [0.3333333333333333, \"#9c179e\"], [0.4444444444444444, \"#bd3786\"], [0.5555555555555556, \"#d8576b\"], [0.6666666666666666, \"#ed7953\"], [0.7777777777777778, \"#fb9f3a\"], [0.8888888888888888, \"#fdca26\"], [1.0, \"#f0f921\"]], \"type\": \"surface\"}], \"table\": [{\"cells\": {\"fill\": {\"color\": \"#EBF0F8\"}, \"line\": {\"color\": \"white\"}}, \"header\": {\"fill\": {\"color\": \"#C8D4E3\"}, \"line\": {\"color\": \"white\"}}, \"type\": \"table\"}]}, \"layout\": {\"annotationdefaults\": {\"arrowcolor\": \"#2a3f5f\", \"arrowhead\": 0, \"arrowwidth\": 1}, \"coloraxis\": {\"colorbar\": {\"outlinewidth\": 0, \"ticks\": \"\"}}, \"colorscale\": {\"diverging\": [[0, \"#8e0152\"], [0.1, \"#c51b7d\"], [0.2, \"#de77ae\"], [0.3, \"#f1b6da\"], [0.4, \"#fde0ef\"], [0.5, \"#f7f7f7\"], [0.6, \"#e6f5d0\"], [0.7, \"#b8e186\"], [0.8, \"#7fbc41\"], [0.9, \"#4d9221\"], [1, \"#276419\"]], \"sequential\": [[0.0, \"#0d0887\"], [0.1111111111111111, \"#46039f\"], [0.2222222222222222, \"#7201a8\"], [0.3333333333333333, \"#9c179e\"], [0.4444444444444444, \"#bd3786\"], [0.5555555555555556, \"#d8576b\"], [0.6666666666666666, \"#ed7953\"], [0.7777777777777778, \"#fb9f3a\"], [0.8888888888888888, \"#fdca26\"], [1.0, \"#f0f921\"]], \"sequentialminus\": [[0.0, \"#0d0887\"], [0.1111111111111111, \"#46039f\"], [0.2222222222222222, \"#7201a8\"], [0.3333333333333333, \"#9c179e\"], [0.4444444444444444, \"#bd3786\"], [0.5555555555555556, \"#d8576b\"], [0.6666666666666666, \"#ed7953\"], [0.7777777777777778, \"#fb9f3a\"], [0.8888888888888888, \"#fdca26\"], [1.0, \"#f0f921\"]]}, \"colorway\": [\"#636efa\", \"#EF553B\", \"#00cc96\", \"#ab63fa\", \"#FFA15A\", \"#19d3f3\", \"#FF6692\", \"#B6E880\", \"#FF97FF\", \"#FECB52\"], \"font\": {\"color\": \"#2a3f5f\"}, \"geo\": {\"bgcolor\": \"white\", \"lakecolor\": \"white\", \"landcolor\": \"#E5ECF6\", \"showlakes\": true, \"showland\": true, \"subunitcolor\": \"white\"}, \"hoverlabel\": {\"align\": \"left\"}, \"hovermode\": \"closest\", \"mapbox\": {\"style\": \"light\"}, \"paper_bgcolor\": \"white\", \"plot_bgcolor\": \"#E5ECF6\", \"polar\": {\"angularaxis\": {\"gridcolor\": \"white\", \"linecolor\": \"white\", \"ticks\": \"\"}, \"bgcolor\": \"#E5ECF6\", \"radialaxis\": {\"gridcolor\": \"white\", \"linecolor\": \"white\", \"ticks\": \"\"}}, \"scene\": {\"xaxis\": {\"backgroundcolor\": \"#E5ECF6\", \"gridcolor\": \"white\", \"gridwidth\": 2, \"linecolor\": \"white\", \"showbackground\": true, \"ticks\": \"\", \"zerolinecolor\": \"white\"}, \"yaxis\": {\"backgroundcolor\": \"#E5ECF6\", \"gridcolor\": \"white\", \"gridwidth\": 2, \"linecolor\": \"white\", \"showbackground\": true, \"ticks\": \"\", \"zerolinecolor\": \"white\"}, \"zaxis\": {\"backgroundcolor\": \"#E5ECF6\", \"gridcolor\": \"white\", \"gridwidth\": 2, \"linecolor\": \"white\", \"showbackground\": true, \"ticks\": \"\", \"zerolinecolor\": \"white\"}}, \"shapedefaults\": {\"line\": {\"color\": \"#2a3f5f\"}}, \"ternary\": {\"aaxis\": {\"gridcolor\": \"white\", \"linecolor\": \"white\", \"ticks\": \"\"}, \"baxis\": {\"gridcolor\": \"white\", \"linecolor\": \"white\", \"ticks\": \"\"}, \"bgcolor\": \"#E5ECF6\", \"caxis\": {\"gridcolor\": \"white\", \"linecolor\": \"white\", \"ticks\": \"\"}}, \"title\": {\"x\": 0.05}, \"xaxis\": {\"automargin\": true, \"gridcolor\": \"white\", \"linecolor\": \"white\", \"ticks\": \"\", \"title\": {\"standoff\": 15}, \"zerolinecolor\": \"white\", \"zerolinewidth\": 2}, \"yaxis\": {\"automargin\": true, \"gridcolor\": \"white\", \"linecolor\": \"white\", \"ticks\": \"\", \"title\": {\"standoff\": 15}, \"zerolinecolor\": \"white\", \"zerolinewidth\": 2}}}, \"xaxis\": {\"anchor\": \"y\", \"domain\": [0.0, 1.0], \"title\": {\"text\": \"Frozen\"}}, \"yaxis\": {\"anchor\": \"x\", \"domain\": [0.0, 1.0], \"title\": {\"text\": \"Delicassen\"}}},\n",
       "                        {\"responsive\": true}\n",
       "                    ).then(function(){\n",
       "                            \n",
       "var gd = document.getElementById('e4fbc18b-4c7f-4b36-b62a-4b728194a2ff');\n",
       "var x = new MutationObserver(function (mutations, observer) {{\n",
       "        var display = window.getComputedStyle(gd).display;\n",
       "        if (!display || display === 'none') {{\n",
       "            console.log([gd, 'removed!']);\n",
       "            Plotly.purge(gd);\n",
       "            observer.disconnect();\n",
       "        }}\n",
       "}});\n",
       "\n",
       "// Listen for the removal of the full notebook cells\n",
       "var notebookContainer = gd.closest('#notebook-container');\n",
       "if (notebookContainer) {{\n",
       "    x.observe(notebookContainer, {childList: true});\n",
       "}}\n",
       "\n",
       "// Listen for the clearing of the current output cell\n",
       "var outputEl = gd.closest('.output');\n",
       "if (outputEl) {{\n",
       "    x.observe(outputEl, {childList: true});\n",
       "}}\n",
       "\n",
       "                        })\n",
       "                };\n",
       "                });\n",
       "            </script>\n",
       "        </div>"
      ]
     },
     "metadata": {},
     "output_type": "display_data"
    }
   ],
   "source": [
    "fig = px.scatter(customers, x=\"Frozen\", y=\"Delicassen\", color=\"labels\")\n",
    "fig.show()"
   ]
  },
  {
   "cell_type": "markdown",
   "metadata": {},
   "source": [
    "Let's use a groupby to see how the mean differs between the groups. Group `customers` by `labels` and `labels_DBSCAN` respectively and compute the means for all columns."
   ]
  },
  {
   "cell_type": "code",
   "execution_count": 70,
   "metadata": {},
   "outputs": [
    {
     "data": {
      "text/html": [
       "<div>\n",
       "<style scoped>\n",
       "    .dataframe tbody tr th:only-of-type {\n",
       "        vertical-align: middle;\n",
       "    }\n",
       "\n",
       "    .dataframe tbody tr th {\n",
       "        vertical-align: top;\n",
       "    }\n",
       "\n",
       "    .dataframe thead th {\n",
       "        text-align: right;\n",
       "    }\n",
       "</style>\n",
       "<table border=\"1\" class=\"dataframe\">\n",
       "  <thead>\n",
       "    <tr style=\"text-align: right;\">\n",
       "      <th></th>\n",
       "      <th></th>\n",
       "      <th>Channel</th>\n",
       "      <th>Region</th>\n",
       "      <th>Fresh</th>\n",
       "      <th>Milk</th>\n",
       "      <th>Grocery</th>\n",
       "      <th>Frozen</th>\n",
       "      <th>Detergents_Paper</th>\n",
       "      <th>Delicassen</th>\n",
       "    </tr>\n",
       "    <tr>\n",
       "      <th>labels</th>\n",
       "      <th>labels_DBSCAN</th>\n",
       "      <th></th>\n",
       "      <th></th>\n",
       "      <th></th>\n",
       "      <th></th>\n",
       "      <th></th>\n",
       "      <th></th>\n",
       "      <th></th>\n",
       "      <th></th>\n",
       "    </tr>\n",
       "  </thead>\n",
       "  <tbody>\n",
       "    <tr>\n",
       "      <td>0</td>\n",
       "      <td>-1</td>\n",
       "      <td>1.048780</td>\n",
       "      <td>2.609756</td>\n",
       "      <td>0.178563</td>\n",
       "      <td>-0.361704</td>\n",
       "      <td>-0.549699</td>\n",
       "      <td>2.240547</td>\n",
       "      <td>-0.562911</td>\n",
       "      <td>-0.130233</td>\n",
       "    </tr>\n",
       "    <tr>\n",
       "      <td rowspan=\"2\" valign=\"top\">1</td>\n",
       "      <td>-1</td>\n",
       "      <td>1.039216</td>\n",
       "      <td>2.921569</td>\n",
       "      <td>-0.216926</td>\n",
       "      <td>-0.388821</td>\n",
       "      <td>-0.487903</td>\n",
       "      <td>-0.313166</td>\n",
       "      <td>-0.517780</td>\n",
       "      <td>-0.241934</td>\n",
       "    </tr>\n",
       "    <tr>\n",
       "      <td>0</td>\n",
       "      <td>1.000000</td>\n",
       "      <td>3.000000</td>\n",
       "      <td>-0.416853</td>\n",
       "      <td>-0.792590</td>\n",
       "      <td>-0.776685</td>\n",
       "      <td>-0.395310</td>\n",
       "      <td>-0.649654</td>\n",
       "      <td>-0.451266</td>\n",
       "    </tr>\n",
       "    <tr>\n",
       "      <td>2</td>\n",
       "      <td>-1</td>\n",
       "      <td>1.969697</td>\n",
       "      <td>2.363636</td>\n",
       "      <td>-0.619059</td>\n",
       "      <td>1.841590</td>\n",
       "      <td>2.329884</td>\n",
       "      <td>-0.402249</td>\n",
       "      <td>2.242867</td>\n",
       "      <td>0.083835</td>\n",
       "    </tr>\n",
       "    <tr>\n",
       "      <td>3</td>\n",
       "      <td>-1</td>\n",
       "      <td>1.060606</td>\n",
       "      <td>2.666667</td>\n",
       "      <td>2.298729</td>\n",
       "      <td>-0.234000</td>\n",
       "      <td>-0.357113</td>\n",
       "      <td>0.182630</td>\n",
       "      <td>-0.596077</td>\n",
       "      <td>-0.015165</td>\n",
       "    </tr>\n",
       "    <tr>\n",
       "      <td>4</td>\n",
       "      <td>-1</td>\n",
       "      <td>1.200000</td>\n",
       "      <td>2.600000</td>\n",
       "      <td>1.235741</td>\n",
       "      <td>0.413736</td>\n",
       "      <td>0.647725</td>\n",
       "      <td>1.517529</td>\n",
       "      <td>-0.008651</td>\n",
       "      <td>5.741255</td>\n",
       "    </tr>\n",
       "    <tr>\n",
       "      <td>5</td>\n",
       "      <td>-1</td>\n",
       "      <td>1.545455</td>\n",
       "      <td>2.787879</td>\n",
       "      <td>0.226948</td>\n",
       "      <td>0.842052</td>\n",
       "      <td>0.279741</td>\n",
       "      <td>-0.197294</td>\n",
       "      <td>0.074710</td>\n",
       "      <td>1.416014</td>\n",
       "    </tr>\n",
       "    <tr>\n",
       "      <td>6</td>\n",
       "      <td>-1</td>\n",
       "      <td>1.828571</td>\n",
       "      <td>2.828571</td>\n",
       "      <td>-0.453793</td>\n",
       "      <td>0.521255</td>\n",
       "      <td>0.751219</td>\n",
       "      <td>-0.517765</td>\n",
       "      <td>0.916463</td>\n",
       "      <td>-0.193229</td>\n",
       "    </tr>\n",
       "    <tr>\n",
       "      <td>7</td>\n",
       "      <td>-1</td>\n",
       "      <td>1.066667</td>\n",
       "      <td>1.250000</td>\n",
       "      <td>-0.080442</td>\n",
       "      <td>-0.500771</td>\n",
       "      <td>-0.485748</td>\n",
       "      <td>-0.103342</td>\n",
       "      <td>-0.443440</td>\n",
       "      <td>-0.255987</td>\n",
       "    </tr>\n",
       "  </tbody>\n",
       "</table>\n",
       "</div>"
      ],
      "text/plain": [
       "                       Channel    Region     Fresh      Milk   Grocery  \\\n",
       "labels labels_DBSCAN                                                     \n",
       "0      -1             1.048780  2.609756  0.178563 -0.361704 -0.549699   \n",
       "1      -1             1.039216  2.921569 -0.216926 -0.388821 -0.487903   \n",
       "        0             1.000000  3.000000 -0.416853 -0.792590 -0.776685   \n",
       "2      -1             1.969697  2.363636 -0.619059  1.841590  2.329884   \n",
       "3      -1             1.060606  2.666667  2.298729 -0.234000 -0.357113   \n",
       "4      -1             1.200000  2.600000  1.235741  0.413736  0.647725   \n",
       "5      -1             1.545455  2.787879  0.226948  0.842052  0.279741   \n",
       "6      -1             1.828571  2.828571 -0.453793  0.521255  0.751219   \n",
       "7      -1             1.066667  1.250000 -0.080442 -0.500771 -0.485748   \n",
       "\n",
       "                        Frozen  Detergents_Paper  Delicassen  \n",
       "labels labels_DBSCAN                                          \n",
       "0      -1             2.240547         -0.562911   -0.130233  \n",
       "1      -1            -0.313166         -0.517780   -0.241934  \n",
       "        0            -0.395310         -0.649654   -0.451266  \n",
       "2      -1            -0.402249          2.242867    0.083835  \n",
       "3      -1             0.182630         -0.596077   -0.015165  \n",
       "4      -1             1.517529         -0.008651    5.741255  \n",
       "5      -1            -0.197294          0.074710    1.416014  \n",
       "6      -1            -0.517765          0.916463   -0.193229  \n",
       "7      -1            -0.103342         -0.443440   -0.255987  "
      ]
     },
     "execution_count": 70,
     "metadata": {},
     "output_type": "execute_result"
    }
   ],
   "source": [
    "customers.groupby(['labels', 'labels_DBSCAN']).mean()"
   ]
  },
  {
   "cell_type": "markdown",
   "metadata": {},
   "source": [
    "Which algorithm appears to perform better?"
   ]
  },
  {
   "cell_type": "code",
   "execution_count": 75,
   "metadata": {},
   "outputs": [],
   "source": [
    "# Your observations here\n",
    "## label DBSCAN graphics shows better how all data is distributed almost every data wih 0 as label has a lower value than the ones with -1 label"
   ]
  },
  {
   "cell_type": "markdown",
   "metadata": {},
   "source": [
    "# Bonus Challenge 2 - Changing K-Means Number of Clusters\n",
    "\n",
    "As we mentioned earlier, we don't need to worry about the number of clusters with DBSCAN because it automatically decides that based on the parameters we send to it. But with K-Means, we have to supply the `n_clusters` param (if you don't supply `n_clusters`, the algorithm will use `8` by default). You need to know that the optimal number of clusters differs case by case based on the dataset. K-Means can perform badly if the wrong number of clusters is used.\n",
    "\n",
    "In advanced machine learning, data scientists try different numbers of clusters and evaluate the results with statistical measures (read [here](https://en.wikipedia.org/wiki/Cluster_analysis#External_evaluation)). We are not using statistical measures today but we'll use our eyes instead. In the cells below, experiment with different number of clusters and visualize with scatter plots. What number of clusters seems to work best for K-Means?"
   ]
  },
  {
   "cell_type": "code",
   "execution_count": null,
   "metadata": {},
   "outputs": [],
   "source": [
    "# Your code here"
   ]
  },
  {
   "cell_type": "code",
   "execution_count": null,
   "metadata": {},
   "outputs": [],
   "source": [
    "# Your comment here"
   ]
  },
  {
   "cell_type": "markdown",
   "metadata": {},
   "source": [
    "# Bonus Challenge 3 - Changing DBSCAN `eps` and `min_samples`\n",
    "\n",
    "Experiment changing the `eps` and `min_samples` params for DBSCAN. See how the results differ with scatter plot visualization."
   ]
  },
  {
   "cell_type": "code",
   "execution_count": null,
   "metadata": {},
   "outputs": [],
   "source": [
    "# Your code here"
   ]
  },
  {
   "cell_type": "code",
   "execution_count": null,
   "metadata": {},
   "outputs": [],
   "source": [
    "# Your comment here"
   ]
  }
 ],
 "metadata": {
  "kernelspec": {
   "display_name": "Python 3",
   "language": "python",
   "name": "python3"
  },
  "language_info": {
   "codemirror_mode": {
    "name": "ipython",
    "version": 3
   },
   "file_extension": ".py",
   "mimetype": "text/x-python",
   "name": "python",
   "nbconvert_exporter": "python",
   "pygments_lexer": "ipython3",
   "version": "3.7.4"
  }
 },
 "nbformat": 4,
 "nbformat_minor": 2
}
